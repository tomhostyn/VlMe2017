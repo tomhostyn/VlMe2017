{
 "cells": [
  {
   "cell_type": "markdown",
   "metadata": {},
   "source": [
    "# Survey Vlaamse Meesters"
   ]
  },
  {
   "cell_type": "markdown",
   "metadata": {},
   "source": [
    "## Data Import"
   ]
  },
  {
   "cell_type": "code",
   "execution_count": 1,
   "metadata": {
    "collapsed": false,
    "scrolled": true
   },
   "outputs": [
    {
     "data": {
      "text/html": [
       "<div>\n",
       "<table border=\"1\" class=\"dataframe\">\n",
       "  <thead>\n",
       "    <tr style=\"text-align: right;\">\n",
       "      <th></th>\n",
       "      <th>Respondent</th>\n",
       "      <th>Taal</th>\n",
       "      <th>Datum geantwoord</th>\n",
       "      <th>Distributiemethode</th>\n",
       "      <th>Einde bereikt</th>\n",
       "      <th>Invultijd (seconden)</th>\n",
       "      <th>Browser</th>\n",
       "      <th>Besturingssysteem</th>\n",
       "      <th>IP</th>\n",
       "      <th>Locatie (via IP)</th>\n",
       "      <th>...</th>\n",
       "      <th>30.15. James Ensor</th>\n",
       "      <th>30.16. William Turner</th>\n",
       "      <th>30.17. Geen van bovenstaande</th>\n",
       "      <th>31.1. Pieter Paul Rubens</th>\n",
       "      <th>31.2. Jan van Eyck (Lam Gods)</th>\n",
       "      <th>31.3. Pieter Bruegel de Oude</th>\n",
       "      <th>32. Zou u een citytrip naar Brussel/Vlaanderen laten beïnvloeden door de huidige terreurdreiging?</th>\n",
       "      <th>33. Wat is uw geslacht</th>\n",
       "      <th>34. Wat is de samenstelling van uw huishouden?</th>\n",
       "      <th>35. Wat is uw hoogst genoten opleiding?</th>\n",
       "    </tr>\n",
       "  </thead>\n",
       "  <tbody>\n",
       "    <tr>\n",
       "      <th>0</th>\n",
       "      <td>22</td>\n",
       "      <td>nl</td>\n",
       "      <td>16/12/2015 10:17</td>\n",
       "      <td>Via panel provider</td>\n",
       "      <td>1</td>\n",
       "      <td>312</td>\n",
       "      <td>Google Chrome</td>\n",
       "      <td>Windows 10</td>\n",
       "      <td>84.31.26.69</td>\n",
       "      <td>NaN</td>\n",
       "      <td>...</td>\n",
       "      <td>NaN</td>\n",
       "      <td>NaN</td>\n",
       "      <td>Geen van bovenstaande</td>\n",
       "      <td>NaN</td>\n",
       "      <td>NaN</td>\n",
       "      <td>NaN</td>\n",
       "      <td>Misschien</td>\n",
       "      <td>Vrouw</td>\n",
       "      <td>Gehuwd/samenwonend met kind(eren), jongste kin...</td>\n",
       "      <td>Hoger humaniora, beroeps- of technisch onderwijs</td>\n",
       "    </tr>\n",
       "    <tr>\n",
       "      <th>1</th>\n",
       "      <td>23</td>\n",
       "      <td>nl</td>\n",
       "      <td>16/12/2015 10:29</td>\n",
       "      <td>Via panel provider</td>\n",
       "      <td>1</td>\n",
       "      <td>919</td>\n",
       "      <td>Firefox</td>\n",
       "      <td>Windows Vista</td>\n",
       "      <td>77.173.234.228</td>\n",
       "      <td>Putte, Nederland</td>\n",
       "      <td>...</td>\n",
       "      <td>NaN</td>\n",
       "      <td>NaN</td>\n",
       "      <td>NaN</td>\n",
       "      <td>Antwerpen</td>\n",
       "      <td>Brugge</td>\n",
       "      <td>Brussel</td>\n",
       "      <td>Ja</td>\n",
       "      <td>Man</td>\n",
       "      <td>Gehuwd/samenwonend zonder kind(eren)</td>\n",
       "      <td>Universitair/postuniversitair onderwijs (Master)</td>\n",
       "    </tr>\n",
       "    <tr>\n",
       "      <th>2</th>\n",
       "      <td>24</td>\n",
       "      <td>nl</td>\n",
       "      <td>16/12/2015 10:44</td>\n",
       "      <td>Via panel provider</td>\n",
       "      <td>1</td>\n",
       "      <td>154</td>\n",
       "      <td>Google Chrome</td>\n",
       "      <td>Windows 7</td>\n",
       "      <td>89.146.11.36</td>\n",
       "      <td>Westervoort, Nederland</td>\n",
       "      <td>...</td>\n",
       "      <td>NaN</td>\n",
       "      <td>NaN</td>\n",
       "      <td>NaN</td>\n",
       "      <td>NaN</td>\n",
       "      <td>NaN</td>\n",
       "      <td>NaN</td>\n",
       "      <td>Ja</td>\n",
       "      <td>Vrouw</td>\n",
       "      <td>Gehuwd/samenwonend zonder kind(eren)</td>\n",
       "      <td>Hoger humaniora, beroeps- of technisch onderwijs</td>\n",
       "    </tr>\n",
       "  </tbody>\n",
       "</table>\n",
       "<p>3 rows × 172 columns</p>\n",
       "</div>"
      ],
      "text/plain": [
       "   Respondent Taal  Datum geantwoord  Distributiemethode  Einde bereikt  \\\n",
       "0          22   nl  16/12/2015 10:17  Via panel provider              1   \n",
       "1          23   nl  16/12/2015 10:29  Via panel provider              1   \n",
       "2          24   nl  16/12/2015 10:44  Via panel provider              1   \n",
       "\n",
       "   Invultijd (seconden)        Browser Besturingssysteem              IP  \\\n",
       "0                   312  Google Chrome        Windows 10     84.31.26.69   \n",
       "1                   919        Firefox     Windows Vista  77.173.234.228   \n",
       "2                   154  Google Chrome         Windows 7    89.146.11.36   \n",
       "\n",
       "         Locatie (via IP)                        ...                         \\\n",
       "0                     NaN                        ...                          \n",
       "1        Putte, Nederland                        ...                          \n",
       "2  Westervoort, Nederland                        ...                          \n",
       "\n",
       "  30.15. James Ensor 30.16. William Turner 30.17. Geen van bovenstaande  \\\n",
       "0                NaN                   NaN        Geen van bovenstaande   \n",
       "1                NaN                   NaN                          NaN   \n",
       "2                NaN                   NaN                          NaN   \n",
       "\n",
       "   31.1. Pieter Paul Rubens  31.2. Jan van Eyck (Lam Gods)  \\\n",
       "0                       NaN                            NaN   \n",
       "1                 Antwerpen                         Brugge   \n",
       "2                       NaN                            NaN   \n",
       "\n",
       "  31.3. Pieter Bruegel de Oude  \\\n",
       "0                          NaN   \n",
       "1                      Brussel   \n",
       "2                          NaN   \n",
       "\n",
       "  32. Zou u een citytrip naar Brussel/Vlaanderen laten beïnvloeden door de huidige terreurdreiging?  \\\n",
       "0                                          Misschien                                                  \n",
       "1                                                 Ja                                                  \n",
       "2                                                 Ja                                                  \n",
       "\n",
       "  33. Wat is uw geslacht     34. Wat is de samenstelling van uw huishouden?  \\\n",
       "0                  Vrouw  Gehuwd/samenwonend met kind(eren), jongste kin...   \n",
       "1                    Man               Gehuwd/samenwonend zonder kind(eren)   \n",
       "2                  Vrouw               Gehuwd/samenwonend zonder kind(eren)   \n",
       "\n",
       "            35. Wat is uw hoogst genoten opleiding?  \n",
       "0  Hoger humaniora, beroeps- of technisch onderwijs  \n",
       "1  Universitair/postuniversitair onderwijs (Master)  \n",
       "2  Hoger humaniora, beroeps- of technisch onderwijs  \n",
       "\n",
       "[3 rows x 172 columns]"
      ]
     },
     "execution_count": 1,
     "metadata": {},
     "output_type": "execute_result"
    }
   ],
   "source": [
    "import pandas as pd\n",
    "file=\"data/Onbewerkte-gegevens-24513-51204-201741010819-TH.csv\"\n",
    "df = pd.read_csv(file, encoding = \"ISO-8859-1\", sep=\";\")\n",
    "df[:3]"
   ]
  },
  {
   "cell_type": "markdown",
   "metadata": {},
   "source": [
    "## Data Wrangling\n",
    "### dates to datetime"
   ]
  },
  {
   "cell_type": "code",
   "execution_count": 2,
   "metadata": {
    "collapsed": false
   },
   "outputs": [
    {
     "data": {
      "text/html": [
       "<div>\n",
       "<table border=\"1\" class=\"dataframe\">\n",
       "  <thead>\n",
       "    <tr style=\"text-align: right;\">\n",
       "      <th></th>\n",
       "      <th>Respondent</th>\n",
       "      <th>Taal</th>\n",
       "      <th>Datum geantwoord</th>\n",
       "      <th>Distributiemethode</th>\n",
       "      <th>Einde bereikt</th>\n",
       "      <th>Invultijd (seconden)</th>\n",
       "      <th>Browser</th>\n",
       "      <th>Besturingssysteem</th>\n",
       "      <th>IP</th>\n",
       "      <th>Locatie (via IP)</th>\n",
       "      <th>...</th>\n",
       "      <th>30.15. James Ensor</th>\n",
       "      <th>30.16. William Turner</th>\n",
       "      <th>30.17. Geen van bovenstaande</th>\n",
       "      <th>31.1. Pieter Paul Rubens</th>\n",
       "      <th>31.2. Jan van Eyck (Lam Gods)</th>\n",
       "      <th>31.3. Pieter Bruegel de Oude</th>\n",
       "      <th>32. Zou u een citytrip naar Brussel/Vlaanderen laten beïnvloeden door de huidige terreurdreiging?</th>\n",
       "      <th>33. Wat is uw geslacht</th>\n",
       "      <th>34. Wat is de samenstelling van uw huishouden?</th>\n",
       "      <th>35. Wat is uw hoogst genoten opleiding?</th>\n",
       "    </tr>\n",
       "  </thead>\n",
       "  <tbody>\n",
       "    <tr>\n",
       "      <th>0</th>\n",
       "      <td>22</td>\n",
       "      <td>nl</td>\n",
       "      <td>2015-12-16 10:17:00</td>\n",
       "      <td>Via panel provider</td>\n",
       "      <td>1</td>\n",
       "      <td>312</td>\n",
       "      <td>Google Chrome</td>\n",
       "      <td>Windows 10</td>\n",
       "      <td>84.31.26.69</td>\n",
       "      <td>NaN</td>\n",
       "      <td>...</td>\n",
       "      <td>NaN</td>\n",
       "      <td>NaN</td>\n",
       "      <td>Geen van bovenstaande</td>\n",
       "      <td>NaN</td>\n",
       "      <td>NaN</td>\n",
       "      <td>NaN</td>\n",
       "      <td>Misschien</td>\n",
       "      <td>Vrouw</td>\n",
       "      <td>Gehuwd/samenwonend met kind(eren), jongste kin...</td>\n",
       "      <td>Hoger humaniora, beroeps- of technisch onderwijs</td>\n",
       "    </tr>\n",
       "    <tr>\n",
       "      <th>1</th>\n",
       "      <td>23</td>\n",
       "      <td>nl</td>\n",
       "      <td>2015-12-16 10:29:00</td>\n",
       "      <td>Via panel provider</td>\n",
       "      <td>1</td>\n",
       "      <td>919</td>\n",
       "      <td>Firefox</td>\n",
       "      <td>Windows Vista</td>\n",
       "      <td>77.173.234.228</td>\n",
       "      <td>Putte, Nederland</td>\n",
       "      <td>...</td>\n",
       "      <td>NaN</td>\n",
       "      <td>NaN</td>\n",
       "      <td>NaN</td>\n",
       "      <td>Antwerpen</td>\n",
       "      <td>Brugge</td>\n",
       "      <td>Brussel</td>\n",
       "      <td>Ja</td>\n",
       "      <td>Man</td>\n",
       "      <td>Gehuwd/samenwonend zonder kind(eren)</td>\n",
       "      <td>Universitair/postuniversitair onderwijs (Master)</td>\n",
       "    </tr>\n",
       "    <tr>\n",
       "      <th>2</th>\n",
       "      <td>24</td>\n",
       "      <td>nl</td>\n",
       "      <td>2015-12-16 10:44:00</td>\n",
       "      <td>Via panel provider</td>\n",
       "      <td>1</td>\n",
       "      <td>154</td>\n",
       "      <td>Google Chrome</td>\n",
       "      <td>Windows 7</td>\n",
       "      <td>89.146.11.36</td>\n",
       "      <td>Westervoort, Nederland</td>\n",
       "      <td>...</td>\n",
       "      <td>NaN</td>\n",
       "      <td>NaN</td>\n",
       "      <td>NaN</td>\n",
       "      <td>NaN</td>\n",
       "      <td>NaN</td>\n",
       "      <td>NaN</td>\n",
       "      <td>Ja</td>\n",
       "      <td>Vrouw</td>\n",
       "      <td>Gehuwd/samenwonend zonder kind(eren)</td>\n",
       "      <td>Hoger humaniora, beroeps- of technisch onderwijs</td>\n",
       "    </tr>\n",
       "  </tbody>\n",
       "</table>\n",
       "<p>3 rows × 172 columns</p>\n",
       "</div>"
      ],
      "text/plain": [
       "   Respondent Taal    Datum geantwoord  Distributiemethode  Einde bereikt  \\\n",
       "0          22   nl 2015-12-16 10:17:00  Via panel provider              1   \n",
       "1          23   nl 2015-12-16 10:29:00  Via panel provider              1   \n",
       "2          24   nl 2015-12-16 10:44:00  Via panel provider              1   \n",
       "\n",
       "   Invultijd (seconden)        Browser Besturingssysteem              IP  \\\n",
       "0                   312  Google Chrome        Windows 10     84.31.26.69   \n",
       "1                   919        Firefox     Windows Vista  77.173.234.228   \n",
       "2                   154  Google Chrome         Windows 7    89.146.11.36   \n",
       "\n",
       "         Locatie (via IP)                        ...                         \\\n",
       "0                     NaN                        ...                          \n",
       "1        Putte, Nederland                        ...                          \n",
       "2  Westervoort, Nederland                        ...                          \n",
       "\n",
       "  30.15. James Ensor 30.16. William Turner 30.17. Geen van bovenstaande  \\\n",
       "0                NaN                   NaN        Geen van bovenstaande   \n",
       "1                NaN                   NaN                          NaN   \n",
       "2                NaN                   NaN                          NaN   \n",
       "\n",
       "   31.1. Pieter Paul Rubens  31.2. Jan van Eyck (Lam Gods)  \\\n",
       "0                       NaN                            NaN   \n",
       "1                 Antwerpen                         Brugge   \n",
       "2                       NaN                            NaN   \n",
       "\n",
       "  31.3. Pieter Bruegel de Oude  \\\n",
       "0                          NaN   \n",
       "1                      Brussel   \n",
       "2                          NaN   \n",
       "\n",
       "  32. Zou u een citytrip naar Brussel/Vlaanderen laten beïnvloeden door de huidige terreurdreiging?  \\\n",
       "0                                          Misschien                                                  \n",
       "1                                                 Ja                                                  \n",
       "2                                                 Ja                                                  \n",
       "\n",
       "  33. Wat is uw geslacht     34. Wat is de samenstelling van uw huishouden?  \\\n",
       "0                  Vrouw  Gehuwd/samenwonend met kind(eren), jongste kin...   \n",
       "1                    Man               Gehuwd/samenwonend zonder kind(eren)   \n",
       "2                  Vrouw               Gehuwd/samenwonend zonder kind(eren)   \n",
       "\n",
       "            35. Wat is uw hoogst genoten opleiding?  \n",
       "0  Hoger humaniora, beroeps- of technisch onderwijs  \n",
       "1  Universitair/postuniversitair onderwijs (Master)  \n",
       "2  Hoger humaniora, beroeps- of technisch onderwijs  \n",
       "\n",
       "[3 rows x 172 columns]"
      ]
     },
     "execution_count": 2,
     "metadata": {},
     "output_type": "execute_result"
    }
   ],
   "source": [
    "df[\"Datum geantwoord\"] = pd.to_datetime(df.loc[:,\"Datum geantwoord\"], infer_datetime_format=True)\n",
    "df[:3]"
   ]
  },
  {
   "cell_type": "markdown",
   "metadata": {},
   "source": [
    "## Basic visualisation of features"
   ]
  },
  {
   "cell_type": "code",
   "execution_count": 3,
   "metadata": {
    "collapsed": true
   },
   "outputs": [],
   "source": [
    "import matplotlib.pyplot as plt\n",
    "plt.matplotlib.style.use('ggplot')"
   ]
  },
  {
   "cell_type": "markdown",
   "metadata": {},
   "source": [
    "### Taal"
   ]
  },
  {
   "cell_type": "code",
   "execution_count": 4,
   "metadata": {
    "collapsed": false
   },
   "outputs": [
    {
     "data": {
      "image/png": "[encoded data removed]",
      "text/plain": [
       "<matplotlib.figure.Figure at 0x1a9714c37f0>"
      ]
     },
     "metadata": {},
     "output_type": "display_data"
    }
   ],
   "source": [
    "plt_df = df[[\"Respondent\",\"Taal\"]].groupby(\"Taal\").Respondent.nunique()\n",
    "plt_df = plt_df.sort_values(ascending =False)\n",
    "\n",
    "# Strings\n",
    "xlab = 'Taal Respondent'\n",
    "ylab = 'Aantal respondenten'\n",
    "title = 'Distributie taal over respondenten'\n",
    "\n",
    "# Add axis labels\n",
    "plt.xlabel(xlab)\n",
    "plt.ylabel(ylab)\n",
    "\n",
    "# Add title\n",
    "plt.title(title)\n",
    "\n",
    "# Create plot\n",
    "plt_df.plot.bar();\n",
    "    \n",
    "# Render plot\n",
    "plt.show()"
   ]
  },
  {
   "cell_type": "markdown",
   "metadata": {},
   "source": [
    "## Datum geantwoord"
   ]
  },
  {
   "cell_type": "code",
   "execution_count": 5,
   "metadata": {
    "collapsed": false
   },
   "outputs": [],
   "source": [
    "plt_df = df[[\"Taal\", \"Datum geantwoord\"]].copy()\n",
    "plt_df['count'] = 1;\n",
    "plt_df = plt_df.sort_values(by=\"Datum geantwoord\")\n",
    "plt_df['cumcount'] = plt_df.groupby(by=[\"Taal\"]).cumsum()\n",
    "\n",
    "plt_df = plt_df.drop(['count'], axis =1)\n"
   ]
  },
  {
   "cell_type": "code",
   "execution_count": 6,
   "metadata": {
    "collapsed": false
   },
   "outputs": [
    {
     "data": {
      "image/png": "[encoded data removed]",
      "text/plain": [
       "<matplotlib.figure.Figure at 0x1a972eed2e8>"
      ]
     },
     "metadata": {},
     "output_type": "display_data"
    }
   ],
   "source": [
    "# build plot language per language\n",
    "\n",
    "for lan in plt_df.Taal.unique():\n",
    "    x=plt_df.loc[plt_df.Taal == lan, ['Datum geantwoord']]\n",
    "    y=plt_df.loc[plt_df.Taal == lan, ['cumcount']]\n",
    "    plt.plot (x, y, label=lan)\n",
    "\n",
    "# Strings\n",
    "xlab = 'Tijd'\n",
    "ylab = 'Aantal respondenten'\n",
    "title = 'recrutering - vooruitgang per taal'\n",
    "\n",
    "# Add axis labels\n",
    "plt.xlabel(xlab)\n",
    "plt.ylabel(ylab)\n",
    "\n",
    "# Add title\n",
    "plt.title(title)\n",
    "\n",
    "# Add legend\n",
    "plt.legend(bbox_to_anchor=(1.05, 1), loc=2, borderaxespad=0.)\n",
    "\n",
    "plt.gcf().autofmt_xdate()\n",
    "# Render plot\n",
    "plt.show()\n",
    "    "
   ]
  }
 ],
 "metadata": {
  "kernelspec": {
   "display_name": "Python 3",
   "language": "python",
   "name": "python3"
  },
  "language_info": {
   "codemirror_mode": {
    "name": "ipython",
    "version": 3
   },
   "file_extension": ".py",
   "mimetype": "text/x-python",
   "name": "python",
   "nbconvert_exporter": "python",
   "pygments_lexer": "ipython3",
   "version": "3.6.0"
  }
 },
 "nbformat": 4,
 "nbformat_minor": 2
}
