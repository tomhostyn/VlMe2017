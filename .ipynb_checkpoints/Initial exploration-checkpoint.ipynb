{
 "cells": [
  {
   "cell_type": "markdown",
   "metadata": {},
   "source": [
    "# Survey Vlaamse Meesters"
   ]
  },
  {
   "cell_type": "markdown",
   "metadata": {},
   "source": [
    "## Data Import"
   ]
  },
  {
   "cell_type": "code",
   "execution_count": 1,
   "metadata": {
    "collapsed": false,
    "scrolled": true
   },
   "outputs": [],
   "source": [
    "import pandas as pd\n",
    "import numpy as np\n",
    "\n",
    "file=\"data/Onbewerkte-gegevens-24513-51204-201741010819-TH.csv\"\n",
    "raw_df = pd.read_csv(file, encoding = \"ISO-8859-1\", sep=\";\")\n",
    "df = raw_df.copy()"
   ]
  },
  {
   "cell_type": "markdown",
   "metadata": {},
   "source": [
    "## Cleaning and first glance"
   ]
  },
  {
   "cell_type": "code",
   "execution_count": 2,
   "metadata": {
    "collapsed": false
   },
   "outputs": [
    {
     "data": {
      "text/plain": [
       "['Respondent',\n",
       " 'Taal',\n",
       " 'Datum geantwoord',\n",
       " 'Distributiemethode',\n",
       " 'Einde bereikt',\n",
       " 'Invultijd (seconden)',\n",
       " 'Browser',\n",
       " 'Besturingssysteem',\n",
       " 'IP',\n",
       " 'Locatie (via IP)',\n",
       " 'Verwijzende sites',\n",
       " '1. ID',\n",
       " '2. Country',\n",
       " '3. Study number',\n",
       " '4. Wat is uw geboortejaar?',\n",
       " '5. Bent u in de afgelopen 3 jaar wel eens voor vakantie in het buitenland geweest?',\n",
       " '6.1. Strandvakantie',\n",
       " '6.2. Stedentrip',\n",
       " '6.3. Wintersportvakantie',\n",
       " '6.4. Wandelvakantie',\n",
       " '6.5. Fietsvakantie',\n",
       " '6.6. Wellnessvakantie',\n",
       " '6.7. Gastronomische of culinaire vakantie',\n",
       " '6.8. Vakantie in het groen met (af en toe) uitstappen',\n",
       " '6.9. Rondreis',\n",
       " '6.10. Cruise',\n",
       " '6.11. Culturele reis',\n",
       " '6.12. Ander, gelieve te specificeren',\n",
       " '6.13. Geen van bovenstaande',\n",
       " '7.1. Afstand',\n",
       " '7.2. Historisch erfgoed',\n",
       " '7.3. Eten',\n",
       " '7.4. Cultuur',\n",
       " '7.5. Natuur',\n",
       " '7.6. Prijs',\n",
       " '7.7. Kust',\n",
       " '7.8. Sport',\n",
       " '7.9. Festival, evenement of tentoonstelling',\n",
       " '7.10. Kunst',\n",
       " '7.11. Variatie aan activiteiten',\n",
       " \"8.1. Reisprogramma's op tv/radio\",\n",
       " '8.2. Websites van (online) touroperators / reisagenten',\n",
       " '8.3. Websites waarop consumenten reiservaringen en verhalen delen/uitwisselen (reisblogs)',\n",
       " '8.4. Websites met beoordelingen/reviews van reizigers',\n",
       " '8.5. Reismagazines',\n",
       " '8.6. Vrienden, familie en kennissen',\n",
       " '8.7. Reisbijlages/ - artikelen in kranten',\n",
       " '8.8. Cultuurmagazines',\n",
       " '8.9. Officiële website van toeristische organisatie (bv. VisitBritain, VisittheUSA,...)',\n",
       " '8.10. Sociale media',\n",
       " '9.1. Facebook',\n",
       " '9.2. Twitter',\n",
       " '9.3. Youtube',\n",
       " '9.4. Pinterest',\n",
       " '9.5. Instagram',\n",
       " '9.6. LinkedIn',\n",
       " '9.7. Google+',\n",
       " '9.8. Flickr',\n",
       " '9.9. Tumblr',\n",
       " '9.10. Vine',\n",
       " '9.11. Snapchat',\n",
       " '9.12. Whatsapp',\n",
       " '9.13. Foursquare',\n",
       " '9.14. Orkut',\n",
       " '9.15. Weibo',\n",
       " '9.16. We Chat',\n",
       " '9.17. VKontakte',\n",
       " '9.18. Ander, gelieve te specificeren',\n",
       " '9.19. Ik gebruik geen sociale media',\n",
       " '10.1. In eigen land',\n",
       " '10.2. In buitenland',\n",
       " '11.1. Museum voor oude of schone kunsten',\n",
       " '11.2. Museum voor hedendaagse of actuele kunst',\n",
       " '11.3. Museum voor natuurkunde, technologie of wetenschap',\n",
       " '11.4. Museum voor geschiedenis, volkskunde of archeologie',\n",
       " '11.5. Museum voor toegepaste kunst, mode, diamant, design, strips',\n",
       " '11.6. Geen van bovenstaande',\n",
       " '12.1. Aanbod in eigen taal',\n",
       " '12.2. Aanwezigheid van topwerken',\n",
       " '12.3. Gidsen en gegidste rondleidingen',\n",
       " '12.4. Audioguide/apps',\n",
       " '12.5. Interactief aanbod (virtual reality, doe-activiteiten, gebruik van touchscreens,...)',\n",
       " '12.6. Aanbod voor kinderen',\n",
       " '12.7. Museumshop',\n",
       " '13. Als u op reis bent naar het buitenland, bezoekt u dan soms plaatsen of evenementen gelinkt aan kunst en cultuur?',\n",
       " '14.1. Musea met kunstcollectie',\n",
       " '14.2. Kunstgalerijen',\n",
       " '14.3. Historische gebouwen',\n",
       " '14.4. Kerken, kathedralen',\n",
       " '14.5. Tentoonstelling',\n",
       " '14.6. Geboortehuis, woning,... van een kunstenaar',\n",
       " '14.7. Routes en rondleidingen',\n",
       " '14.8. Evenementen',\n",
       " '14.9. Geen van bovenstaande',\n",
       " '15.1. 1',\n",
       " '15.2. 2',\n",
       " '15.3. 3',\n",
       " '15.4. 4',\n",
       " '15.5. 5',\n",
       " '16. Hieronder ziet u een aantal schilderijen. Kent u dit werk?',\n",
       " '17. Wie is de schilder?',\n",
       " '18. Kent u dit werk?',\n",
       " '19. Wie is de schilder?',\n",
       " '20. Kent u dit werk?',\n",
       " '21. Wie is de schilder?',\n",
       " '22. Kent u dit werk?',\n",
       " '23. Wie is de schilder?',\n",
       " '24.1. Albrecht Dürer',\n",
       " '24.2. Antoon van Dyck',\n",
       " '24.3. Dirk Bouts',\n",
       " '24.4. Hans Memling',\n",
       " '24.5. Jacob Jordaens',\n",
       " '24.6. Jan van Eyck',\n",
       " '24.7. Paul Cézanne',\n",
       " '24.8. Pieter Paul Rubens',\n",
       " '24.9. Pieter Bruegel de Oude',\n",
       " '24.10. Rembrandt van Rijn',\n",
       " '24.11. René Magritte',\n",
       " '24.12. Rogier van der Weyden',\n",
       " '24.13. Jeroen Bosch',\n",
       " '24.14. Vincent van Gogh',\n",
       " '24.15. James Ensor',\n",
       " '24.16. William Turner',\n",
       " '24.17. Vlaamse Primitieven',\n",
       " '24.18. Geen van bovenstaande',\n",
       " '25.1. Anish Kapoor',\n",
       " '25.2. Axel Vervoordt',\n",
       " '25.3. Michaël Borremans',\n",
       " '25.4. Damien Hirst',\n",
       " '25.5. Daniël Ost',\n",
       " '25.6. Jan De Cock',\n",
       " '25.7. Wim Delvoye',\n",
       " '25.8. Jan Fabre',\n",
       " '25.9. Luc Tuymans',\n",
       " '25.10. Marlene Dumas',\n",
       " '25.11. Ai Wei Wei',\n",
       " '25.12. Panamarenko',\n",
       " '25.13. Geen van bovenstaande',\n",
       " '26.1. Een museum met een focus op topwerken boeit mij.',\n",
       " '26.2. Inspiratieplekken (landschap, leefomgeving,...) van kunstenaars bezoeken/verkennen/ontdekken is interessant.',\n",
       " '26.3. Ik bezoek enkel een museum met de collectie van een kunstenaar die ik ken.',\n",
       " '26.4. Interpretaties van oude werken door hedendaagse kunstenaars zijn interessant.',\n",
       " '26.5. Een beleving (themawandeling, doe-activiteit,...) over een kunstenaar spreekt me aan.',\n",
       " \"27. Kent u de term 'Vlaamse Meesters'?\",\n",
       " \"28. Omschrijf met een aantal kernwoorden wat u onder het begrip 'Vlaamse meesters' begrijpt?\",\n",
       " '29.1. 1',\n",
       " '29.2. 2',\n",
       " '29.3. 3',\n",
       " '30.1. Albrecht Dürer',\n",
       " '30.2. Antoon van Dyck',\n",
       " '30.3. Dirk Bouts',\n",
       " '30.4. Hans Memling',\n",
       " '30.5. Jacob Jordaens',\n",
       " '30.6. Jan van Eyck',\n",
       " '30.7. Paul Cézanne',\n",
       " '30.8. Pieter Paul Rubens',\n",
       " '30.9. Pieter Bruegel de Oude',\n",
       " '30.10. Rembrandt van Rijn',\n",
       " '30.11. René Magritte',\n",
       " '30.12. Rogier van der Weyden',\n",
       " '30.13. Jeroen Bosch',\n",
       " '30.14. Vincent van Gogh',\n",
       " '30.15. James Ensor',\n",
       " '30.16. William Turner',\n",
       " '30.17. Geen van bovenstaande',\n",
       " '31.1. Pieter Paul Rubens',\n",
       " '31.2. Jan van Eyck (Lam Gods)',\n",
       " '31.3. Pieter Bruegel de Oude',\n",
       " '32. Zou u een citytrip naar Brussel/Vlaanderen laten beïnvloeden door de huidige terreurdreiging?',\n",
       " '33. Wat is uw geslacht',\n",
       " '34. Wat is de samenstelling van uw huishouden?',\n",
       " '35. Wat is uw hoogst genoten opleiding?']"
      ]
     },
     "execution_count": 2,
     "metadata": {},
     "output_type": "execute_result"
    }
   ],
   "source": [
    "# remove strange characters from column headers\n",
    "columns = list(df)\n",
    "columns[40] = \"8.1. Reisprogramma's op tv/radio\"\n",
    "columns[48] = \"8.9. Officiële website van toeristische organisatie (bv. VisitBritain, VisittheUSA,...)\"\n",
    "columns[81] = \"12.5. Interactief aanbod (virtual reality, doe-activiteiten, gebruik van touchscreens,...)\"\n",
    "columns[90] = \"14.6. Geboortehuis, woning,... van een kunstenaar\"\n",
    "columns[99] = \"16. Hieronder ziet u een aantal schilderijen. Kent u dit werk?\"\n",
    "columns[101] = \"18. Kent u dit werk?\"\n",
    "columns[103] = \"20. Kent u dit werk?\"\n",
    "columns[105] = \"22. Kent u dit werk?\"\n",
    "columns[139] = \"26.2. Inspiratieplekken (landschap, leefomgeving,...) van kunstenaars bezoeken/verkennen/ontdekken is interessant.\"\n",
    "columns[142] = \"26.5. Een beleving (themawandeling, doe-activiteit,...) over een kunstenaar spreekt me aan.\"\n",
    "columns[143] = \"27. Kent u de term 'Vlaamse Meesters'?\"\n",
    "\n",
    "df.columns = columns\n",
    "list(df)"
   ]
  },
  {
   "cell_type": "code",
   "execution_count": 3,
   "metadata": {
    "collapsed": false,
    "scrolled": true
   },
   "outputs": [
    {
     "data": {
      "text/html": [
       "<div>\n",
       "<table border=\"1\" class=\"dataframe\">\n",
       "  <thead>\n",
       "    <tr style=\"text-align: right;\">\n",
       "      <th></th>\n",
       "      <th>Respondent</th>\n",
       "      <th>Taal</th>\n",
       "      <th>Datum geantwoord</th>\n",
       "      <th>Distributiemethode</th>\n",
       "      <th>Einde bereikt</th>\n",
       "      <th>Invultijd (seconden)</th>\n",
       "      <th>Browser</th>\n",
       "      <th>Besturingssysteem</th>\n",
       "    </tr>\n",
       "  </thead>\n",
       "  <tbody>\n",
       "    <tr>\n",
       "      <th>0</th>\n",
       "      <td>22</td>\n",
       "      <td>nl</td>\n",
       "      <td>2015-12-16 10:17:00</td>\n",
       "      <td>Via panel provider</td>\n",
       "      <td>1</td>\n",
       "      <td>312</td>\n",
       "      <td>Google Chrome</td>\n",
       "      <td>Windows 10</td>\n",
       "    </tr>\n",
       "    <tr>\n",
       "      <th>1</th>\n",
       "      <td>23</td>\n",
       "      <td>nl</td>\n",
       "      <td>2015-12-16 10:29:00</td>\n",
       "      <td>Via panel provider</td>\n",
       "      <td>1</td>\n",
       "      <td>919</td>\n",
       "      <td>Firefox</td>\n",
       "      <td>Windows Vista</td>\n",
       "    </tr>\n",
       "    <tr>\n",
       "      <th>2</th>\n",
       "      <td>24</td>\n",
       "      <td>nl</td>\n",
       "      <td>2015-12-16 10:44:00</td>\n",
       "      <td>Via panel provider</td>\n",
       "      <td>1</td>\n",
       "      <td>154</td>\n",
       "      <td>Google Chrome</td>\n",
       "      <td>Windows 7</td>\n",
       "    </tr>\n",
       "  </tbody>\n",
       "</table>\n",
       "</div>"
      ],
      "text/plain": [
       "   Respondent Taal    Datum geantwoord  Distributiemethode  Einde bereikt  \\\n",
       "0          22   nl 2015-12-16 10:17:00  Via panel provider              1   \n",
       "1          23   nl 2015-12-16 10:29:00  Via panel provider              1   \n",
       "2          24   nl 2015-12-16 10:44:00  Via panel provider              1   \n",
       "\n",
       "   Invultijd (seconden)        Browser Besturingssysteem  \n",
       "0                   312  Google Chrome        Windows 10  \n",
       "1                   919        Firefox     Windows Vista  \n",
       "2                   154  Google Chrome         Windows 7  "
      ]
     },
     "execution_count": 3,
     "metadata": {},
     "output_type": "execute_result"
    }
   ],
   "source": [
    "df[\"Datum geantwoord\"] = pd.to_datetime(df.loc[:,\"Datum geantwoord\"], infer_datetime_format=True)\n",
    "df[\"Distributiemethode\"]=df[\"Distributiemethode\"].astype('category')\n",
    "df[\"Browser\"]=df[\"Browser\"].astype('category')\n",
    "df[\"Besturingssysteem\"]=df[\"Besturingssysteem\"].astype('category')\n",
    "\n",
    "df.iloc[:3, 0:8]"
   ]
  },
  {
   "cell_type": "code",
   "execution_count": 4,
   "metadata": {
    "collapsed": false
   },
   "outputs": [
    {
     "data": {
      "text/html": [
       "<div>\n",
       "<table border=\"1\" class=\"dataframe\">\n",
       "  <thead>\n",
       "    <tr style=\"text-align: right;\">\n",
       "      <th></th>\n",
       "      <th>IP</th>\n",
       "      <th>Locatie (via IP)</th>\n",
       "      <th>Verwijzende sites</th>\n",
       "      <th>1. ID</th>\n",
       "      <th>2. Country</th>\n",
       "      <th>3. Study number</th>\n",
       "      <th>4. Wat is uw geboortejaar?</th>\n",
       "    </tr>\n",
       "  </thead>\n",
       "  <tbody>\n",
       "    <tr>\n",
       "      <th>0</th>\n",
       "      <td>84.31.26.69</td>\n",
       "      <td>NaN</td>\n",
       "      <td>http://www.globaltestmarket.com/survey/onsurve...</td>\n",
       "      <td>6da3a071da328d79</td>\n",
       "      <td>Netherlands</td>\n",
       "      <td>394334</td>\n",
       "      <td>1968</td>\n",
       "    </tr>\n",
       "    <tr>\n",
       "      <th>1</th>\n",
       "      <td>77.173.234.228</td>\n",
       "      <td>Putte, Nederland</td>\n",
       "      <td>http://www.globaltestmarket.com/survey/onsurve...</td>\n",
       "      <td>6456a4ddd07e1021</td>\n",
       "      <td>Netherlands</td>\n",
       "      <td>394334</td>\n",
       "      <td>1981</td>\n",
       "    </tr>\n",
       "    <tr>\n",
       "      <th>2</th>\n",
       "      <td>89.146.11.36</td>\n",
       "      <td>Westervoort, Nederland</td>\n",
       "      <td>http://www.globaltestmarket.com/survey/onsurve...</td>\n",
       "      <td>02e8569ecb3b5276</td>\n",
       "      <td>Netherlands</td>\n",
       "      <td>394334</td>\n",
       "      <td>1991</td>\n",
       "    </tr>\n",
       "  </tbody>\n",
       "</table>\n",
       "</div>"
      ],
      "text/plain": [
       "               IP        Locatie (via IP)  \\\n",
       "0     84.31.26.69                     NaN   \n",
       "1  77.173.234.228        Putte, Nederland   \n",
       "2    89.146.11.36  Westervoort, Nederland   \n",
       "\n",
       "                                   Verwijzende sites             1. ID  \\\n",
       "0  http://www.globaltestmarket.com/survey/onsurve...  6da3a071da328d79   \n",
       "1  http://www.globaltestmarket.com/survey/onsurve...  6456a4ddd07e1021   \n",
       "2  http://www.globaltestmarket.com/survey/onsurve...  02e8569ecb3b5276   \n",
       "\n",
       "    2. Country  3. Study number  4. Wat is uw geboortejaar?  \n",
       "0  Netherlands           394334                        1968  \n",
       "1  Netherlands           394334                        1981  \n",
       "2  Netherlands           394334                        1991  "
      ]
     },
     "execution_count": 4,
     "metadata": {},
     "output_type": "execute_result"
    }
   ],
   "source": [
    "df.iloc[:3, 8:15]"
   ]
  },
  {
   "cell_type": "code",
   "execution_count": 5,
   "metadata": {
    "collapsed": false
   },
   "outputs": [
    {
     "data": {
      "text/html": [
       "<div>\n",
       "<table border=\"1\" class=\"dataframe\">\n",
       "  <thead>\n",
       "    <tr style=\"text-align: right;\">\n",
       "      <th></th>\n",
       "      <th>5. Bent u in de afgelopen 3 jaar wel eens voor vakantie in het buitenland geweest?</th>\n",
       "      <th>6.1. Strandvakantie</th>\n",
       "      <th>6.2. Stedentrip</th>\n",
       "      <th>6.3. Wintersportvakantie</th>\n",
       "      <th>6.4. Wandelvakantie</th>\n",
       "      <th>6.5. Fietsvakantie</th>\n",
       "      <th>6.6. Wellnessvakantie</th>\n",
       "      <th>6.7. Gastronomische of culinaire vakantie</th>\n",
       "      <th>6.8. Vakantie in het groen met (af en toe) uitstappen</th>\n",
       "      <th>6.9. Rondreis</th>\n",
       "      <th>6.10. Cruise</th>\n",
       "      <th>6.11. Culturele reis</th>\n",
       "      <th>6.12. Ander, gelieve te specificeren</th>\n",
       "      <th>6.13. Geen van bovenstaande</th>\n",
       "    </tr>\n",
       "  </thead>\n",
       "  <tbody>\n",
       "    <tr>\n",
       "      <th>0</th>\n",
       "      <td>True</td>\n",
       "      <td>False</td>\n",
       "      <td>False</td>\n",
       "      <td>False</td>\n",
       "      <td>False</td>\n",
       "      <td>False</td>\n",
       "      <td>False</td>\n",
       "      <td>False</td>\n",
       "      <td>True</td>\n",
       "      <td>False</td>\n",
       "      <td>False</td>\n",
       "      <td>False</td>\n",
       "      <td>NaN</td>\n",
       "      <td>False</td>\n",
       "    </tr>\n",
       "    <tr>\n",
       "      <th>1</th>\n",
       "      <td>True</td>\n",
       "      <td>True</td>\n",
       "      <td>False</td>\n",
       "      <td>False</td>\n",
       "      <td>True</td>\n",
       "      <td>False</td>\n",
       "      <td>False</td>\n",
       "      <td>False</td>\n",
       "      <td>False</td>\n",
       "      <td>True</td>\n",
       "      <td>False</td>\n",
       "      <td>False</td>\n",
       "      <td>NaN</td>\n",
       "      <td>False</td>\n",
       "    </tr>\n",
       "    <tr>\n",
       "      <th>2</th>\n",
       "      <td>True</td>\n",
       "      <td>True</td>\n",
       "      <td>False</td>\n",
       "      <td>False</td>\n",
       "      <td>False</td>\n",
       "      <td>False</td>\n",
       "      <td>False</td>\n",
       "      <td>False</td>\n",
       "      <td>False</td>\n",
       "      <td>False</td>\n",
       "      <td>False</td>\n",
       "      <td>False</td>\n",
       "      <td>NaN</td>\n",
       "      <td>False</td>\n",
       "    </tr>\n",
       "  </tbody>\n",
       "</table>\n",
       "</div>"
      ],
      "text/plain": [
       "  5. Bent u in de afgelopen 3 jaar wel eens voor vakantie in het buitenland geweest?  \\\n",
       "0                                               True                                   \n",
       "1                                               True                                   \n",
       "2                                               True                                   \n",
       "\n",
       "  6.1. Strandvakantie 6.2. Stedentrip 6.3. Wintersportvakantie  \\\n",
       "0               False           False                    False   \n",
       "1                True           False                    False   \n",
       "2                True           False                    False   \n",
       "\n",
       "  6.4. Wandelvakantie 6.5. Fietsvakantie 6.6. Wellnessvakantie  \\\n",
       "0               False              False                 False   \n",
       "1                True              False                 False   \n",
       "2               False              False                 False   \n",
       "\n",
       "  6.7. Gastronomische of culinaire vakantie  \\\n",
       "0                                     False   \n",
       "1                                     False   \n",
       "2                                     False   \n",
       "\n",
       "  6.8. Vakantie in het groen met (af en toe) uitstappen 6.9. Rondreis  \\\n",
       "0                                               True            False   \n",
       "1                                              False             True   \n",
       "2                                              False            False   \n",
       "\n",
       "  6.10. Cruise 6.11. Culturele reis 6.12. Ander, gelieve te specificeren  \\\n",
       "0        False                False                                  NaN   \n",
       "1        False                False                                  NaN   \n",
       "2        False                False                                  NaN   \n",
       "\n",
       "  6.13. Geen van bovenstaande  \n",
       "0                       False  \n",
       "1                       False  \n",
       "2                       False  "
      ]
     },
     "execution_count": 5,
     "metadata": {},
     "output_type": "execute_result"
    }
   ],
   "source": [
    "# change to boolean values\n",
    "\n",
    "df[\"5. Bent u in de afgelopen 3 jaar wel eens voor vakantie in het buitenland geweest?\"] = raw_df[\"5. Bent u in de afgelopen 3 jaar wel eens voor vakantie in het buitenland geweest?\"] == 'Ja'\n",
    "df[\"6.1. Strandvakantie\"] = raw_df[\"6.1. Strandvakantie\"] == 'Strandvakantie'\n",
    "df[\"6.2. Stedentrip\"] = raw_df[\"6.2. Stedentrip\"] == 'Stedentrip'\n",
    "df[\"6.3. Wintersportvakantie\"] = raw_df[\"6.3. Wintersportvakantie\"] == 'Wintersportvakantie'\n",
    "df[\"6.4. Wandelvakantie\"] = raw_df[\"6.4. Wandelvakantie\"] == 'Wandelvakantie'\n",
    "df[\"6.5. Fietsvakantie\"] = raw_df[\"6.5. Fietsvakantie\"] == 'Fietsvakantie'\n",
    "df[\"6.6. Wellnessvakantie\"] = raw_df[\"6.6. Wellnessvakantie\"] == 'Wellnessvakantie'\n",
    "df[\"6.7. Gastronomische of culinaire vakantie\"] = raw_df[\"6.7. Gastronomische of culinaire vakantie\"] == 'Gastronomische of culinaire vakantie'\n",
    "df[\"6.8. Vakantie in het groen met (af en toe) uitstappen\"] = raw_df[\"6.8. Vakantie in het groen met (af en toe) uitstappen\"] == 'Vakantie in het groen met (af en toe) uitstappen'\n",
    "df[\"6.9. Rondreis\"] = raw_df[\"6.9. Rondreis\"] == 'Rondreis'\n",
    "df[\"6.10. Cruise\"] = raw_df[\"6.10. Cruise\"] == 'Cruise'\n",
    "df[\"6.11. Culturele reis\"] = raw_df[\"6.11. Culturele reis\"] == 'Culturele reis'\n",
    "df[\"6.13. Geen van bovenstaande\"] = raw_df[\"6.13. Geen van bovenstaande\"] == 'Geen van bovenstaande'\n",
    "df.iloc[:3, 15:29]\n"
   ]
  },
  {
   "cell_type": "code",
   "execution_count": 26,
   "metadata": {
    "collapsed": false
   },
   "outputs": [
    {
     "data": {
      "text/plain": [
       "5. Bent u in de afgelopen 3 jaar wel eens voor vakantie in het buitenland geweest?    0.999941\n",
       "6.1. Strandvakantie                                                                   0.595824\n",
       "6.2. Stedentrip                                                                       0.536882\n",
       "6.11. Culturele reis                                                                  0.229529\n",
       "6.9. Rondreis                                                                         0.220471\n",
       "6.8. Vakantie in het groen met (af en toe) uitstappen                                 0.198529\n",
       "6.6. Wellnessvakantie                                                                 0.149529\n",
       "6.4. Wandelvakantie                                                                   0.137176\n",
       "6.10. Cruise                                                                          0.136941\n",
       "6.3. Wintersportvakantie                                                              0.112000\n",
       "6.7. Gastronomische of culinaire vakantie                                             0.108235\n",
       "6.5. Fietsvakantie                                                                    0.054765\n",
       "6.13. Geen van bovenstaande                                                           0.011235\n",
       "6.12. Ander, gelieve te specificeren                                                       NaN\n",
       "dtype: float64"
      ]
     },
     "execution_count": 26,
     "metadata": {},
     "output_type": "execute_result"
    }
   ],
   "source": [
    "(df.iloc[:, 15:29].sum()/df.iloc[:, 15:29].count()).sort_values(ascending = False)"
   ]
  },
  {
   "cell_type": "code",
   "execution_count": 6,
   "metadata": {
    "collapsed": false
   },
   "outputs": [
    {
     "data": {
      "text/plain": [
       "array(['familiebezoek', 'familie bezoek', 'Bezoek vrienden', ...,\n",
       "       'Disney e Universal', '???????????', 'meeting relatives'], dtype=object)"
      ]
     },
     "execution_count": 6,
     "metadata": {},
     "output_type": "execute_result"
    }
   ],
   "source": [
    "df[\"6.12. Ander, gelieve te specificeren\"].dropna().unique()"
   ]
  },
  {
   "cell_type": "code",
   "execution_count": 7,
   "metadata": {
    "collapsed": false
   },
   "outputs": [
    {
     "data": {
      "text/html": [
       "<div>\n",
       "<table border=\"1\" class=\"dataframe\">\n",
       "  <thead>\n",
       "    <tr style=\"text-align: right;\">\n",
       "      <th></th>\n",
       "      <th>7.1. Afstand</th>\n",
       "      <th>7.2. Historisch erfgoed</th>\n",
       "      <th>7.3. Eten</th>\n",
       "      <th>7.4. Cultuur</th>\n",
       "      <th>7.5. Natuur</th>\n",
       "      <th>7.6. Prijs</th>\n",
       "      <th>7.7. Kust</th>\n",
       "      <th>7.8. Sport</th>\n",
       "      <th>7.9. Festival, evenement of tentoonstelling</th>\n",
       "      <th>7.10. Kunst</th>\n",
       "      <th>7.11. Variatie aan activiteiten</th>\n",
       "    </tr>\n",
       "  </thead>\n",
       "  <tbody>\n",
       "    <tr>\n",
       "      <th>0</th>\n",
       "      <td>True</td>\n",
       "      <td>False</td>\n",
       "      <td>False</td>\n",
       "      <td>False</td>\n",
       "      <td>True</td>\n",
       "      <td>True</td>\n",
       "      <td>False</td>\n",
       "      <td>False</td>\n",
       "      <td>False</td>\n",
       "      <td>False</td>\n",
       "      <td>False</td>\n",
       "    </tr>\n",
       "    <tr>\n",
       "      <th>1</th>\n",
       "      <td>False</td>\n",
       "      <td>False</td>\n",
       "      <td>True</td>\n",
       "      <td>False</td>\n",
       "      <td>False</td>\n",
       "      <td>False</td>\n",
       "      <td>True</td>\n",
       "      <td>False</td>\n",
       "      <td>True</td>\n",
       "      <td>False</td>\n",
       "      <td>False</td>\n",
       "    </tr>\n",
       "    <tr>\n",
       "      <th>2</th>\n",
       "      <td>True</td>\n",
       "      <td>False</td>\n",
       "      <td>False</td>\n",
       "      <td>False</td>\n",
       "      <td>False</td>\n",
       "      <td>True</td>\n",
       "      <td>True</td>\n",
       "      <td>False</td>\n",
       "      <td>False</td>\n",
       "      <td>False</td>\n",
       "      <td>False</td>\n",
       "    </tr>\n",
       "  </tbody>\n",
       "</table>\n",
       "</div>"
      ],
      "text/plain": [
       "  7.1. Afstand 7.2. Historisch erfgoed 7.3. Eten 7.4. Cultuur 7.5. Natuur  \\\n",
       "0         True                   False     False        False        True   \n",
       "1        False                   False      True        False       False   \n",
       "2         True                   False     False        False       False   \n",
       "\n",
       "  7.6. Prijs 7.7. Kust 7.8. Sport 7.9. Festival, evenement of tentoonstelling  \\\n",
       "0       True     False      False                                       False   \n",
       "1      False      True      False                                        True   \n",
       "2       True      True      False                                       False   \n",
       "\n",
       "  7.10. Kunst 7.11. Variatie aan activiteiten  \n",
       "0       False                           False  \n",
       "1       False                           False  \n",
       "2       False                           False  "
      ]
     },
     "execution_count": 7,
     "metadata": {},
     "output_type": "execute_result"
    }
   ],
   "source": [
    "df[\"7.1. Afstand\"] = raw_df[\"7.1. Afstand\"] == 'Afstand'\n",
    "df[\"7.2. Historisch erfgoed\"] = raw_df[\"7.2. Historisch erfgoed\"] == 'Historisch erfgoed'\n",
    "df[\"7.3. Eten\"] = raw_df[\"7.3. Eten\"] == 'Eten'\n",
    "df[\"7.4. Cultuur\"] = raw_df[\"7.4. Cultuur\"] == 'Cultuur'\n",
    "df[\"7.5. Natuur\"] = raw_df[\"7.5. Natuur\"] == 'Natuur'\n",
    "df[\"7.6. Prijs\"] = raw_df[\"7.6. Prijs\"] == 'Prijs'\n",
    "df[\"7.7. Kust\"] = raw_df[\"7.7. Kust\"] == 'Kust'\n",
    "df[\"7.8. Sport\"] = raw_df[\"7.8. Sport\"] == 'Sport'\n",
    "df[\"7.9. Festival, evenement of tentoonstelling\"] = raw_df[\"7.9. Festival, evenement of tentoonstelling\"] == 'Festival, evenement of tentoonstelling'\n",
    "df[\"7.10. Kunst\"] = raw_df[\"7.10. Kunst\"] == 'Kunst'\n",
    "df[\"7.11. Variatie aan activiteiten\"] = raw_df[\"7.11. Variatie aan activiteiten\"] == 'Variatie aan activiteiten'\n",
    "\n",
    "df.iloc[:3, 29:40]"
   ]
  },
  {
   "cell_type": "code",
   "execution_count": 25,
   "metadata": {
    "collapsed": false
   },
   "outputs": [
    {
     "data": {
      "text/plain": [
       "7.6. Prijs                                     0.568941\n",
       "7.4. Cultuur                                   0.448412\n",
       "7.5. Natuur                                    0.406941\n",
       "7.3. Eten                                      0.396412\n",
       "7.2. Historisch erfgoed                        0.340118\n",
       "7.7. Kust                                      0.250529\n",
       "7.1. Afstand                                   0.234882\n",
       "7.11. Variatie aan activiteiten                0.189118\n",
       "7.9. Festival, evenement of tentoonstelling    0.065882\n",
       "7.10. Kunst                                    0.049706\n",
       "7.8. Sport                                     0.049059\n",
       "dtype: float64"
      ]
     },
     "execution_count": 25,
     "metadata": {},
     "output_type": "execute_result"
    }
   ],
   "source": [
    "(df.iloc[:, 29:40].sum()/df.iloc[:, 29:40].count()).sort_values(ascending = False)"
   ]
  },
  {
   "cell_type": "code",
   "execution_count": 37,
   "metadata": {
    "collapsed": false,
    "scrolled": true
   },
   "outputs": [
    {
     "data": {
      "text/html": [
       "<div>\n",
       "<table border=\"1\" class=\"dataframe\">\n",
       "  <thead>\n",
       "    <tr style=\"text-align: right;\">\n",
       "      <th></th>\n",
       "      <th>8.1. Reisprogramma's op tv/radio</th>\n",
       "      <th>8.2. Websites van (online) touroperators / reisagenten</th>\n",
       "      <th>8.3. Websites waarop consumenten reiservaringen en verhalen delen/uitwisselen (reisblogs)</th>\n",
       "      <th>8.4. Websites met beoordelingen/reviews van reizigers</th>\n",
       "      <th>8.5. Reismagazines</th>\n",
       "      <th>8.6. Vrienden, familie en kennissen</th>\n",
       "      <th>8.7. Reisbijlages/ - artikelen in kranten</th>\n",
       "      <th>8.8. Cultuurmagazines</th>\n",
       "      <th>8.9. Officiële website van toeristische organisatie (bv. VisitBritain, VisittheUSA,...)</th>\n",
       "      <th>8.10. Sociale media</th>\n",
       "    </tr>\n",
       "  </thead>\n",
       "  <tbody>\n",
       "    <tr>\n",
       "      <th>0</th>\n",
       "      <td>Nooit</td>\n",
       "      <td>Nooit</td>\n",
       "      <td>Nooit</td>\n",
       "      <td>Nooit</td>\n",
       "      <td>Nooit</td>\n",
       "      <td>Af en toe</td>\n",
       "      <td>Nooit</td>\n",
       "      <td>Nooit</td>\n",
       "      <td>Nooit</td>\n",
       "      <td>Nooit</td>\n",
       "    </tr>\n",
       "    <tr>\n",
       "      <th>1</th>\n",
       "      <td>Regelmatig</td>\n",
       "      <td>Regelmatig</td>\n",
       "      <td>Af en toe</td>\n",
       "      <td>Af en toe</td>\n",
       "      <td>Af en toe</td>\n",
       "      <td>Regelmatig</td>\n",
       "      <td>Af en toe</td>\n",
       "      <td>Af en toe</td>\n",
       "      <td>Af en toe</td>\n",
       "      <td>Regelmatig</td>\n",
       "    </tr>\n",
       "    <tr>\n",
       "      <th>2</th>\n",
       "      <td>Nooit</td>\n",
       "      <td>Vaak</td>\n",
       "      <td>Vaak</td>\n",
       "      <td>Vaak</td>\n",
       "      <td>Af en toe</td>\n",
       "      <td>Regelmatig</td>\n",
       "      <td>Af en toe</td>\n",
       "      <td>Af en toe</td>\n",
       "      <td>Af en toe</td>\n",
       "      <td>Af en toe</td>\n",
       "    </tr>\n",
       "  </tbody>\n",
       "</table>\n",
       "</div>"
      ],
      "text/plain": [
       "  8.1. Reisprogramma's op tv/radio  \\\n",
       "0                            Nooit   \n",
       "1                       Regelmatig   \n",
       "2                            Nooit   \n",
       "\n",
       "  8.2. Websites van (online) touroperators / reisagenten  \\\n",
       "0                                              Nooit       \n",
       "1                                         Regelmatig       \n",
       "2                                               Vaak       \n",
       "\n",
       "  8.3. Websites waarop consumenten reiservaringen en verhalen delen/uitwisselen (reisblogs)  \\\n",
       "0                                              Nooit                                          \n",
       "1                                          Af en toe                                          \n",
       "2                                               Vaak                                          \n",
       "\n",
       "  8.4. Websites met beoordelingen/reviews van reizigers 8.5. Reismagazines  \\\n",
       "0                                              Nooit                 Nooit   \n",
       "1                                          Af en toe             Af en toe   \n",
       "2                                               Vaak             Af en toe   \n",
       "\n",
       "  8.6. Vrienden, familie en kennissen  \\\n",
       "0                           Af en toe   \n",
       "1                          Regelmatig   \n",
       "2                          Regelmatig   \n",
       "\n",
       "  8.7. Reisbijlages/ - artikelen in kranten 8.8. Cultuurmagazines  \\\n",
       "0                                     Nooit                 Nooit   \n",
       "1                                 Af en toe             Af en toe   \n",
       "2                                 Af en toe             Af en toe   \n",
       "\n",
       "  8.9. Officiële website van toeristische organisatie (bv. VisitBritain, VisittheUSA,...)  \\\n",
       "0                                              Nooit                                        \n",
       "1                                          Af en toe                                        \n",
       "2                                          Af en toe                                        \n",
       "\n",
       "  8.10. Sociale media  \n",
       "0               Nooit  \n",
       "1          Regelmatig  \n",
       "2           Af en toe  "
      ]
     },
     "execution_count": 37,
     "metadata": {},
     "output_type": "execute_result"
    }
   ],
   "source": [
    "df[\"8.1. Reisprogramma's op tv/radio\"] = pd.Categorical(raw_df.iloc[:,40], \n",
    "            categories=['Nooit', 'Af en toe', 'Regelmatig', 'Vaak'],\n",
    "            ordered=True)\n",
    "df[\"8.2. Websites van (online) touroperators / reisagenten\"] = pd.Categorical(raw_df[\"8.2. Websites van (online) touroperators / reisagenten\"], \n",
    "            categories=['Nooit', 'Af en toe', 'Regelmatig', 'Vaak'],\n",
    "            ordered=True)\n",
    "df[\"8.4. Websites met beoordelingen/reviews van reizigers\"] = pd.Categorical(raw_df[\"8.4. Websites met beoordelingen/reviews van reizigers\"], \n",
    "            categories=['Nooit', 'Af en toe', 'Regelmatig', 'Vaak'],\n",
    "            ordered=True)\n",
    "df[\"8.5. Reismagazines\"] = pd.Categorical(raw_df[\"8.5. Reismagazines\"], \n",
    "            categories=['Nooit', 'Af en toe', 'Regelmatig', 'Vaak'],\n",
    "            ordered=True)\n",
    "df[\"8.6. Vrienden, familie en kennissen\"] = pd.Categorical(raw_df[\"8.6. Vrienden, familie en kennissen\"], \n",
    "            categories=['Nooit', 'Af en toe', 'Regelmatig', 'Vaak'],\n",
    "            ordered=True)\n",
    "df[\"8.7. Reisbijlages/ - artikelen in kranten\"] = pd.Categorical(raw_df[\"8.7. Reisbijlages/ - artikelen in kranten\"], \n",
    "            categories=['Nooit', 'Af en toe', 'Regelmatig', 'Vaak'],\n",
    "            ordered=True)\n",
    "df[\"8.8. Cultuurmagazines\"] = pd.Categorical(raw_df[\"8.8. Cultuurmagazines\"], \n",
    "            categories=['Nooit', 'Af en toe', 'Regelmatig', 'Vaak'],\n",
    "            ordered=True)\n",
    "df[\"8.9. Officiële website van toeristische organisatie (bv. VisitBritain, VisittheUSA,...)\"] = pd.Categorical(raw_df.iloc[:,48], \n",
    "            categories=['Nooit', 'Af en toe', 'Regelmatig', 'Vaak'],\n",
    "            ordered=True)\n",
    "df[\"8.10. Sociale media\"] = pd.Categorical(raw_df[\"8.10. Sociale media\"], \n",
    "            categories=['Nooit', 'Af en toe', 'Regelmatig', 'Vaak'],\n",
    "            ordered=True)\n",
    "\n",
    "df.iloc[:3, 40:50]"
   ]
  },
  {
   "cell_type": "code",
   "execution_count": 16,
   "metadata": {
    "collapsed": false
   },
   "outputs": [
    {
     "data": {
      "text/html": [
       "<div>\n",
       "<table border=\"1\" class=\"dataframe\">\n",
       "  <thead>\n",
       "    <tr style=\"text-align: right;\">\n",
       "      <th></th>\n",
       "      <th>9.1. Facebook</th>\n",
       "      <th>9.2. Twitter</th>\n",
       "      <th>9.3. Youtube</th>\n",
       "      <th>9.4. Pinterest</th>\n",
       "      <th>9.5. Instagram</th>\n",
       "      <th>9.6. LinkedIn</th>\n",
       "      <th>9.7. Google+</th>\n",
       "      <th>9.8. Flickr</th>\n",
       "      <th>9.9. Tumblr</th>\n",
       "      <th>9.10. Vine</th>\n",
       "      <th>9.11. Snapchat</th>\n",
       "      <th>9.12. Whatsapp</th>\n",
       "      <th>9.13. Foursquare</th>\n",
       "      <th>9.14. Orkut</th>\n",
       "      <th>9.15. Weibo</th>\n",
       "      <th>9.16. We Chat</th>\n",
       "      <th>9.17. VKontakte</th>\n",
       "      <th>9.18. Ander, gelieve te specificeren</th>\n",
       "      <th>9.19. Ik gebruik geen sociale media</th>\n",
       "    </tr>\n",
       "  </thead>\n",
       "  <tbody>\n",
       "    <tr>\n",
       "      <th>0</th>\n",
       "      <td>False</td>\n",
       "      <td>False</td>\n",
       "      <td>False</td>\n",
       "      <td>False</td>\n",
       "      <td>False</td>\n",
       "      <td>False</td>\n",
       "      <td>False</td>\n",
       "      <td>False</td>\n",
       "      <td>False</td>\n",
       "      <td>False</td>\n",
       "      <td>False</td>\n",
       "      <td>False</td>\n",
       "      <td>False</td>\n",
       "      <td>False</td>\n",
       "      <td>False</td>\n",
       "      <td>False</td>\n",
       "      <td>False</td>\n",
       "      <td>NaN</td>\n",
       "      <td>True</td>\n",
       "    </tr>\n",
       "    <tr>\n",
       "      <th>1</th>\n",
       "      <td>True</td>\n",
       "      <td>True</td>\n",
       "      <td>True</td>\n",
       "      <td>False</td>\n",
       "      <td>False</td>\n",
       "      <td>False</td>\n",
       "      <td>True</td>\n",
       "      <td>False</td>\n",
       "      <td>False</td>\n",
       "      <td>False</td>\n",
       "      <td>True</td>\n",
       "      <td>False</td>\n",
       "      <td>False</td>\n",
       "      <td>False</td>\n",
       "      <td>False</td>\n",
       "      <td>False</td>\n",
       "      <td>False</td>\n",
       "      <td>NaN</td>\n",
       "      <td>False</td>\n",
       "    </tr>\n",
       "    <tr>\n",
       "      <th>2</th>\n",
       "      <td>True</td>\n",
       "      <td>False</td>\n",
       "      <td>False</td>\n",
       "      <td>False</td>\n",
       "      <td>False</td>\n",
       "      <td>False</td>\n",
       "      <td>False</td>\n",
       "      <td>False</td>\n",
       "      <td>False</td>\n",
       "      <td>False</td>\n",
       "      <td>False</td>\n",
       "      <td>False</td>\n",
       "      <td>False</td>\n",
       "      <td>False</td>\n",
       "      <td>False</td>\n",
       "      <td>False</td>\n",
       "      <td>False</td>\n",
       "      <td>NaN</td>\n",
       "      <td>False</td>\n",
       "    </tr>\n",
       "  </tbody>\n",
       "</table>\n",
       "</div>"
      ],
      "text/plain": [
       "  9.1. Facebook 9.2. Twitter 9.3. Youtube 9.4. Pinterest 9.5. Instagram  \\\n",
       "0         False        False        False          False          False   \n",
       "1          True         True         True          False          False   \n",
       "2          True        False        False          False          False   \n",
       "\n",
       "  9.6. LinkedIn 9.7. Google+ 9.8. Flickr 9.9. Tumblr 9.10. Vine  \\\n",
       "0         False        False       False       False      False   \n",
       "1         False         True       False       False      False   \n",
       "2         False        False       False       False      False   \n",
       "\n",
       "  9.11. Snapchat 9.12. Whatsapp 9.13. Foursquare 9.14. Orkut 9.15. Weibo  \\\n",
       "0          False          False            False       False       False   \n",
       "1           True          False            False       False       False   \n",
       "2          False          False            False       False       False   \n",
       "\n",
       "  9.16. We Chat 9.17. VKontakte 9.18. Ander, gelieve te specificeren  \\\n",
       "0         False           False                                  NaN   \n",
       "1         False           False                                  NaN   \n",
       "2         False           False                                  NaN   \n",
       "\n",
       "  9.19. Ik gebruik geen sociale media  \n",
       "0                                True  \n",
       "1                               False  \n",
       "2                               False  "
      ]
     },
     "execution_count": 16,
     "metadata": {},
     "output_type": "execute_result"
    }
   ],
   "source": [
    "df[\"9.1. Facebook\"] = raw_df[\"9.1. Facebook\"] == 'Facebook'\n",
    "df[\"9.2. Twitter\"] = raw_df[\"9.2. Twitter\"] == 'Twitter'\n",
    "df[\"9.3. Youtube\"] = raw_df[\"9.3. Youtube\"] == 'Youtube'\n",
    "df[\"9.4. Pinterest\"] = raw_df[\"9.4. Pinterest\"] == 'Pinterest'\n",
    "df[\"9.5. Instagram\"] = raw_df[\"9.5. Instagram\"] == 'Instagram'\n",
    "df[\"9.6. LinkedIn\"] = raw_df[\"9.6. LinkedIn\"] == 'LinkedIn'\n",
    "df[\"9.7. Google+\"] = raw_df[\"9.7. Google+\"] == 'Google+'\n",
    "df[\"9.8. Flickr\"] = raw_df[\"9.8. Flickr\"] == 'Flickr'\n",
    "df[\"9.9. Tumblr\"] = raw_df[\"9.9. Tumblr\"] == 'Tumblr'\n",
    "df[\"9.10. Vine\"] = raw_df[\"9.10. Vine\"] == 'Vine'\n",
    "df[\"9.11. Snapchat\"] = raw_df[\"9.11. Snapchat\"] == 'Snapchat'\n",
    "df[\"9.12. Whatsapp\"] = raw_df[\"9.12. Whatsapp\"] == 'Whatsapp'\n",
    "df[\"9.13. Foursquare\"] = raw_df[\"9.13. Foursquare\"] == 'Foursquare'\n",
    "df[\"9.14. Orkut\"] = raw_df[\"9.14. Orkut\"] == 'Orkut'\n",
    "df[\"9.15. Weibo\"] = raw_df[\"9.15. Weibo\"] == 'Weibo'\n",
    "df[\"9.16. We Chat\"] = raw_df[\"9.16. We Chat\"] == 'We Chat'\n",
    "df[\"9.17. VKontakte\"] = raw_df[\"9.17. VKontakte\"] == 'VKontakte'\n",
    "df[\"9.19. Ik gebruik geen sociale media\"] = raw_df[\"9.19. Ik gebruik geen sociale media\"] == 'Ik gebruik geen sociale media'\n",
    "df.iloc[:3, 50:69]"
   ]
  },
  {
   "cell_type": "code",
   "execution_count": 24,
   "metadata": {
    "collapsed": false
   },
   "outputs": [
    {
     "data": {
      "text/plain": [
       "9.1. Facebook                           0.664176\n",
       "9.3. Youtube                            0.367353\n",
       "9.12. Whatsapp                          0.317647\n",
       "9.7. Google+                            0.223118\n",
       "9.2. Twitter                            0.204882\n",
       "9.5. Instagram                          0.190647\n",
       "9.19. Ik gebruik geen sociale media     0.134706\n",
       "9.6. LinkedIn                           0.104176\n",
       "9.11. Snapchat                          0.074588\n",
       "9.16. We Chat                           0.071294\n",
       "9.4. Pinterest                          0.065588\n",
       "9.15. Weibo                             0.046235\n",
       "9.17. VKontakte                         0.046000\n",
       "9.9. Tumblr                             0.028882\n",
       "9.8. Flickr                             0.024353\n",
       "9.13. Foursquare                        0.019824\n",
       "9.10. Vine                              0.019765\n",
       "9.14. Orkut                             0.013118\n",
       "9.18. Ander, gelieve te specificeren         NaN\n",
       "dtype: float64"
      ]
     },
     "execution_count": 24,
     "metadata": {},
     "output_type": "execute_result"
    }
   ],
   "source": [
    "(df.iloc[:, 50:69].sum()/df.iloc[:, 50:69].count()).sort_values(ascending = False)"
   ]
  },
  {
   "cell_type": "code",
   "execution_count": 38,
   "metadata": {
    "collapsed": false
   },
   "outputs": [
    {
     "data": {
      "text/html": [
       "<div>\n",
       "<table border=\"1\" class=\"dataframe\">\n",
       "  <thead>\n",
       "    <tr style=\"text-align: right;\">\n",
       "      <th></th>\n",
       "      <th>10.1. In eigen land</th>\n",
       "      <th>10.2. In buitenland</th>\n",
       "    </tr>\n",
       "  </thead>\n",
       "  <tbody>\n",
       "    <tr>\n",
       "      <th>0</th>\n",
       "      <td>Zelden</td>\n",
       "      <td>Nooit</td>\n",
       "    </tr>\n",
       "    <tr>\n",
       "      <th>1</th>\n",
       "      <td>Af en toe (een keer per jaar)</td>\n",
       "      <td>Af en toe (een keer per jaar)</td>\n",
       "    </tr>\n",
       "    <tr>\n",
       "      <th>2</th>\n",
       "      <td>Zelden</td>\n",
       "      <td>Zelden</td>\n",
       "    </tr>\n",
       "  </tbody>\n",
       "</table>\n",
       "</div>"
      ],
      "text/plain": [
       "             10.1. In eigen land            10.2. In buitenland\n",
       "0                         Zelden                          Nooit\n",
       "1  Af en toe (een keer per jaar)  Af en toe (een keer per jaar)\n",
       "2                         Zelden                         Zelden"
      ]
     },
     "execution_count": 38,
     "metadata": {},
     "output_type": "execute_result"
    }
   ],
   "source": [
    "df[\"10.1. In eigen land\"] = pd.Categorical(raw_df[\"10.1. In eigen land\"], \n",
    "            categories=['Nooit', 'Zelden', 'Af en toe (een keer per jaar)', 'Regelmatig (meerdere keren per jaar)', 'Vaak (maandelijks)'],\n",
    "            ordered=True)\n",
    "df[\"10.2. In buitenland\"] = pd.Categorical(raw_df[\"10.2. In buitenland\"], \n",
    "            categories=['Nooit', 'Zelden', 'Af en toe (een keer per jaar)', 'Regelmatig (meerdere keren per jaar)', 'Vaak (maandelijks)'],\n",
    "            ordered=True)\n",
    "df.iloc[:3, 69:71]"
   ]
  },
  {
   "cell_type": "code",
   "execution_count": null,
   "metadata": {
    "collapsed": false
   },
   "outputs": [],
   "source": [
    "df.iloc[:3, 77:85]"
   ]
  },
  {
   "cell_type": "code",
   "execution_count": null,
   "metadata": {
    "collapsed": false
   },
   "outputs": [],
   "source": [
    "df.iloc[:3, 85:94]"
   ]
  },
  {
   "cell_type": "code",
   "execution_count": null,
   "metadata": {
    "collapsed": false
   },
   "outputs": [],
   "source": [
    "df.iloc[:3, 94:99]"
   ]
  },
  {
   "cell_type": "code",
   "execution_count": null,
   "metadata": {
    "collapsed": false
   },
   "outputs": [],
   "source": [
    "df.iloc[:3, 99:107]"
   ]
  },
  {
   "cell_type": "code",
   "execution_count": null,
   "metadata": {
    "collapsed": false
   },
   "outputs": [],
   "source": [
    "df.iloc[:3, 107:125]"
   ]
  },
  {
   "cell_type": "code",
   "execution_count": null,
   "metadata": {
    "collapsed": false
   },
   "outputs": [],
   "source": [
    "df.iloc[:3, 125:138]"
   ]
  },
  {
   "cell_type": "code",
   "execution_count": null,
   "metadata": {
    "collapsed": false
   },
   "outputs": [],
   "source": [
    "df.iloc[:3, 138:143]"
   ]
  },
  {
   "cell_type": "code",
   "execution_count": null,
   "metadata": {
    "collapsed": false
   },
   "outputs": [],
   "source": [
    "df.iloc[:3, 143:148]"
   ]
  },
  {
   "cell_type": "code",
   "execution_count": null,
   "metadata": {
    "collapsed": false
   },
   "outputs": [],
   "source": [
    "df.iloc[:3, 148:165]"
   ]
  },
  {
   "cell_type": "code",
   "execution_count": null,
   "metadata": {
    "collapsed": false
   },
   "outputs": [],
   "source": [
    "df.iloc[:3, 165:171]"
   ]
  },
  {
   "cell_type": "markdown",
   "metadata": {},
   "source": [
    "## Data Wrangling\n",
    "### dates to datetime"
   ]
  },
  {
   "cell_type": "code",
   "execution_count": null,
   "metadata": {
    "collapsed": false
   },
   "outputs": [],
   "source": [
    "\n",
    "df[:3]"
   ]
  },
  {
   "cell_type": "markdown",
   "metadata": {},
   "source": [
    "## List features\n"
   ]
  },
  {
   "cell_type": "code",
   "execution_count": null,
   "metadata": {
    "collapsed": false
   },
   "outputs": [],
   "source": [
    "list(df)"
   ]
  },
  {
   "cell_type": "markdown",
   "metadata": {},
   "source": [
    "## Basic visualisation of features"
   ]
  },
  {
   "cell_type": "code",
   "execution_count": null,
   "metadata": {
    "collapsed": true
   },
   "outputs": [],
   "source": [
    "import matplotlib.pyplot as plt\n",
    "plt.matplotlib.style.use('ggplot')"
   ]
  },
  {
   "cell_type": "markdown",
   "metadata": {},
   "source": [
    "### Taal"
   ]
  },
  {
   "cell_type": "code",
   "execution_count": null,
   "metadata": {
    "collapsed": false
   },
   "outputs": [],
   "source": [
    "plt_df = df[[\"Respondent\",\"Taal\"]].groupby(\"Taal\").Respondent.nunique()\n",
    "plt_df = plt_df.sort_values(ascending =False)\n",
    "\n",
    "# Strings\n",
    "xlab = 'Taal Respondent'\n",
    "ylab = 'Aantal respondenten'\n",
    "title = 'Distributie taal over respondenten'\n",
    "\n",
    "# Add axis labels\n",
    "plt.xlabel(xlab)\n",
    "plt.ylabel(ylab)\n",
    "\n",
    "# Add title\n",
    "plt.title(title)\n",
    "\n",
    "# Create plot\n",
    "plt_df.plot.bar();\n",
    "    \n",
    "# Render plot\n",
    "plt.show()"
   ]
  },
  {
   "cell_type": "markdown",
   "metadata": {},
   "source": [
    "## Datum geantwoord"
   ]
  },
  {
   "cell_type": "code",
   "execution_count": null,
   "metadata": {
    "collapsed": false
   },
   "outputs": [],
   "source": [
    "plt_df = df[[\"Taal\", \"Datum geantwoord\"]].copy()\n",
    "plt_df['count'] = 1;\n",
    "plt_df = plt_df.sort_values(by=\"Datum geantwoord\")\n",
    "plt_df['cumcount'] = plt_df.groupby(by=[\"Taal\"]).cumsum()\n",
    "\n",
    "plt_df = plt_df.drop(['count'], axis =1)\n"
   ]
  },
  {
   "cell_type": "code",
   "execution_count": null,
   "metadata": {
    "collapsed": false
   },
   "outputs": [],
   "source": [
    "# build plot language per language\n",
    "\n",
    "for lan in plt_df.Taal.unique():\n",
    "    x=plt_df.loc[plt_df.Taal == lan, ['Datum geantwoord']]\n",
    "    y=plt_df.loc[plt_df.Taal == lan, ['cumcount']]\n",
    "    plt.plot (x, y, label=lan)\n",
    "\n",
    "# Strings\n",
    "xlab = 'Tijd'\n",
    "ylab = 'Aantal respondenten'\n",
    "title = 'recrutering - vooruitgang per taal'\n",
    "\n",
    "# Add axis labels\n",
    "plt.xlabel(xlab)\n",
    "plt.ylabel(ylab)\n",
    "\n",
    "# Add title\n",
    "plt.title(title)\n",
    "\n",
    "# Add legend\n",
    "plt.legend(bbox_to_anchor=(1.05, 1), loc=2, borderaxespad=0.)\n",
    "\n",
    "plt.gcf().autofmt_xdate()\n",
    "# Render plot\n",
    "plt.show()\n",
    "    "
   ]
  },
  {
   "cell_type": "markdown",
   "metadata": {},
   "source": [
    "# Einde bereikt"
   ]
  },
  {
   "cell_type": "code",
   "execution_count": null,
   "metadata": {
    "collapsed": false
   },
   "outputs": [],
   "source": [
    "print(df[\"Einde bereikt\"].unique())"
   ]
  },
  {
   "cell_type": "markdown",
   "metadata": {},
   "source": [
    "# Invultijd"
   ]
  },
  {
   "cell_type": "code",
   "execution_count": null,
   "metadata": {
    "collapsed": false
   },
   "outputs": [],
   "source": [
    "df[\"Invultijd (seconden)\"].plot.hist()\n",
    "\n",
    "# Strings\n",
    "xlab = 'Invultijd (s)'\n",
    "ylab = 'Frequentie'\n",
    "title = 'Histogram invultijd'\n",
    "\n",
    "# Add axis labels\n",
    "plt.xlabel(xlab)\n",
    "plt.ylabel(ylab)\n",
    "\n",
    "# Add title\n",
    "plt.title(title)\n",
    "\n",
    "# Render plot\n",
    "plt.show()"
   ]
  },
  {
   "cell_type": "code",
   "execution_count": null,
   "metadata": {
    "collapsed": false
   },
   "outputs": [],
   "source": [
    "df_plot = (df.loc[df[\"Invultijd (seconden)\"]> 3600, \"Invultijd (seconden)\"]/3600)\n",
    "df_plot = df_plot.rename(\"\")\n",
    "df_plot.plot.box()\n",
    "\n",
    "# Strings\n",
    "xlab = 'Respondenten'\n",
    "ylab = 'Invultijd (h)'\n",
    "title = \"Invultijd voor respondenten die langer dan 1 uur over de survey deden n=\" + str(df_plot.size)\n",
    "\n",
    "# Add axis labels\n",
    "plt.xlabel(xlab)\n",
    "plt.ylabel(ylab)\n",
    "\n",
    "# Add title\n",
    "plt.title(title)\n",
    "\n",
    "# Render plot\n",
    "plt.show()"
   ]
  },
  {
   "cell_type": "code",
   "execution_count": null,
   "metadata": {
    "collapsed": false
   },
   "outputs": [],
   "source": [
    "plt_df = df.loc[df[\"Invultijd (seconden)\"]> 3600, [\"Respondent\",\"Taal\"]].groupby(\"Taal\").Respondent.nunique()\n",
    "plt_df = plt_df.sort_values(ascending =False)\n",
    "\n",
    "# Strings\n",
    "xlab = 'Taal Respondent'\n",
    "ylab = 'Aantal respondenten'\n",
    "title = 'Distributie taal over respondenten die meer dan 1 uur over de survey deden'\n",
    "\n",
    "# Add axis labels\n",
    "plt.xlabel(xlab)\n",
    "plt.ylabel(ylab)\n",
    "\n",
    "# Add title\n",
    "plt.title(title)\n",
    "\n",
    "# Create plot\n",
    "plt_df.plot.bar();\n",
    "    \n",
    "# Render plot\n",
    "plt.show()\n",
    "plt_df"
   ]
  },
  {
   "cell_type": "code",
   "execution_count": null,
   "metadata": {
    "collapsed": false
   },
   "outputs": [],
   "source": [
    "df_rel = (df.loc[df[\"Invultijd (seconden)\"] > 3600,[\"Respondent\",\"Taal\"]].groupby(\"Taal\").Respondent.count() * 100/\n",
    " df[[\"Respondent\",\"Taal\"]].groupby(\"Taal\").Respondent.count())\n",
    "df_rel = df_rel.sort_values(ascending =False)\n",
    "df_rel"
   ]
  },
  {
   "cell_type": "code",
   "execution_count": null,
   "metadata": {
    "collapsed": false
   },
   "outputs": [],
   "source": [
    "\n",
    "# Strings\n",
    "xlab = 'Taal Respondent'\n",
    "ylab = '% respondenten'\n",
    "title = '% respondenten die meer dan 1 uur over de survey deden per taalgroep'\n",
    "\n",
    "# Add axis labels\n",
    "plt.xlabel(xlab)\n",
    "plt.ylabel(ylab)\n",
    "\n",
    "# Add title\n",
    "plt.title(title)\n",
    "\n",
    "# Create plot\n",
    "df_rel.plot.bar();\n",
    "    \n",
    "# Render plot\n",
    "plt.show()"
   ]
  },
  {
   "cell_type": "code",
   "execution_count": null,
   "metadata": {
    "collapsed": true
   },
   "outputs": [],
   "source": []
  }
 ],
 "metadata": {
  "kernelspec": {
   "display_name": "Python 3",
   "language": "python",
   "name": "python3"
  },
  "language_info": {
   "codemirror_mode": {
    "name": "ipython",
    "version": 3
   },
   "file_extension": ".py",
   "mimetype": "text/x-python",
   "name": "python",
   "nbconvert_exporter": "python",
   "pygments_lexer": "ipython3",
   "version": "3.6.0"
  }
 },
 "nbformat": 4,
 "nbformat_minor": 2
}
