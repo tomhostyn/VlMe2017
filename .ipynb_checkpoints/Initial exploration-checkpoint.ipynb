{
 "cells": [
  {
   "cell_type": "markdown",
   "metadata": {},
   "source": [
    "# Survey Vlaamse Meesters"
   ]
  },
  {
   "cell_type": "markdown",
   "metadata": {},
   "source": [
    "## Data Import"
   ]
  },
  {
   "cell_type": "code",
   "execution_count": 116,
   "metadata": {
    "collapsed": false,
    "scrolled": true
   },
   "outputs": [],
   "source": [
    "import pandas as pd\n",
    "import numpy as np\n",
    "import matplotlib.pyplot as plt\n",
    "plt.matplotlib.style.use('ggplot')\n",
    "\n",
    "file=\"data/Onbewerkte-gegevens-24513-51204-201741010819-TH.csv\"\n",
    "raw_df = pd.read_csv(file, encoding = \"ISO-8859-1\", sep=\";\")\n",
    "df = raw_df.copy()"
   ]
  },
  {
   "cell_type": "markdown",
   "metadata": {},
   "source": [
    "## fix column names w strange characters"
   ]
  },
  {
   "cell_type": "code",
   "execution_count": 196,
   "metadata": {
    "collapsed": false
   },
   "outputs": [],
   "source": [
    "# remove strange characters from column headers\n",
    "columns = list(df)\n",
    "columns[40] = \"8.1. Reisprogramma's op tv/radio\"\n",
    "columns[48] = \"8.9. Officiële website van toeristische organisatie (bv. VisitBritain, VisittheUSA,...)\"\n",
    "columns[81] = \"12.5. Interactief aanbod (virtual reality, doe-activiteiten, gebruik van touchscreens,...)\"\n",
    "columns[90] = \"14.6. Geboortehuis, woning,... van een kunstenaar\"\n",
    "columns[99] = \"16. Hieronder ziet u een aantal schilderijen. Kent u dit werk?\"\n",
    "columns[101] = \"18. Kent u dit werk?\"\n",
    "columns[103] = \"20. Kent u dit werk?\"\n",
    "columns[105] = \"22. Kent u dit werk?\"\n",
    "columns[139] = \"26.2. Inspiratieplekken (landschap, leefomgeving,...) van kunstenaars bezoeken/verkennen/ontdekken is interessant.\"\n",
    "columns[142] = \"26.5. Een beleving (themawandeling, doe-activiteit,...) over een kunstenaar spreekt me aan.\"\n",
    "columns[143] = \"27. Kent u de term 'Vlaamse Meesters'?\"\n",
    "\n",
    "df.columns = columns"
   ]
  },
  {
   "cell_type": "code",
   "execution_count": null,
   "metadata": {
    "collapsed": true
   },
   "outputs": [],
   "source": [
    "# wrangle features into useful data"
   ]
  },
  {
   "cell_type": "code",
   "execution_count": 118,
   "metadata": {
    "collapsed": false,
    "scrolled": true
   },
   "outputs": [
    {
     "data": {
      "text/html": [
       "<div>\n",
       "<table border=\"1\" class=\"dataframe\">\n",
       "  <thead>\n",
       "    <tr style=\"text-align: right;\">\n",
       "      <th></th>\n",
       "      <th>Respondent</th>\n",
       "      <th>Taal</th>\n",
       "    </tr>\n",
       "  </thead>\n",
       "  <tbody>\n",
       "    <tr>\n",
       "      <th>0</th>\n",
       "      <td>22</td>\n",
       "      <td>nl</td>\n",
       "    </tr>\n",
       "    <tr>\n",
       "      <th>1</th>\n",
       "      <td>23</td>\n",
       "      <td>nl</td>\n",
       "    </tr>\n",
       "    <tr>\n",
       "      <th>2</th>\n",
       "      <td>24</td>\n",
       "      <td>nl</td>\n",
       "    </tr>\n",
       "  </tbody>\n",
       "</table>\n",
       "</div>"
      ],
      "text/plain": [
       "   Respondent Taal\n",
       "0          22   nl\n",
       "1          23   nl\n",
       "2          24   nl"
      ]
     },
     "execution_count": 118,
     "metadata": {},
     "output_type": "execute_result"
    }
   ],
   "source": [
    "df[\"Taal\"] = raw_df[\"Taal\"].astype('category')\n",
    "\n",
    "df.iloc[:3, 0:2]"
   ]
  },
  {
   "cell_type": "code",
   "execution_count": 119,
   "metadata": {
    "collapsed": false
   },
   "outputs": [
    {
     "data": {
      "image/png": "[encoded data removed]",
      "text/plain": [
       "<matplotlib.figure.Figure at 0x19f747bc160>"
      ]
     },
     "metadata": {},
     "output_type": "display_data"
    }
   ],
   "source": [
    "plt_df = df[[\"Respondent\",\"Taal\"]].groupby(\"Taal\").Respondent.nunique()\n",
    "plt_df = plt_df.sort_values(ascending =False)\n",
    "\n",
    "# Strings\n",
    "xlab = 'Taal Respondent'\n",
    "ylab = 'Aantal respondenten'\n",
    "title = 'Distributie taal over respondenten'\n",
    "\n",
    "# Add axis labels\n",
    "plt.xlabel(xlab)\n",
    "plt.ylabel(ylab)\n",
    "\n",
    "# Add title\n",
    "plt.title(title)\n",
    "\n",
    "# Create plot\n",
    "plt_df.plot.bar();\n",
    "    \n",
    "# Render plot\n",
    "plt.show()"
   ]
  },
  {
   "cell_type": "code",
   "execution_count": 120,
   "metadata": {
    "collapsed": false
   },
   "outputs": [
    {
     "data": {
      "text/html": [
       "<div>\n",
       "<table border=\"1\" class=\"dataframe\">\n",
       "  <thead>\n",
       "    <tr style=\"text-align: right;\">\n",
       "      <th></th>\n",
       "      <th>Datum geantwoord</th>\n",
       "      <th>Distributiemethode</th>\n",
       "      <th>Einde bereikt</th>\n",
       "      <th>Invultijd (seconden)</th>\n",
       "      <th>Browser</th>\n",
       "      <th>Besturingssysteem</th>\n",
       "    </tr>\n",
       "  </thead>\n",
       "  <tbody>\n",
       "    <tr>\n",
       "      <th>0</th>\n",
       "      <td>2015-12-16 10:17:00</td>\n",
       "      <td>Via panel provider</td>\n",
       "      <td>1</td>\n",
       "      <td>312</td>\n",
       "      <td>Google Chrome</td>\n",
       "      <td>Windows 10</td>\n",
       "    </tr>\n",
       "    <tr>\n",
       "      <th>1</th>\n",
       "      <td>2015-12-16 10:29:00</td>\n",
       "      <td>Via panel provider</td>\n",
       "      <td>1</td>\n",
       "      <td>919</td>\n",
       "      <td>Firefox</td>\n",
       "      <td>Windows Vista</td>\n",
       "    </tr>\n",
       "    <tr>\n",
       "      <th>2</th>\n",
       "      <td>2015-12-16 10:44:00</td>\n",
       "      <td>Via panel provider</td>\n",
       "      <td>1</td>\n",
       "      <td>154</td>\n",
       "      <td>Google Chrome</td>\n",
       "      <td>Windows 7</td>\n",
       "    </tr>\n",
       "  </tbody>\n",
       "</table>\n",
       "</div>"
      ],
      "text/plain": [
       "     Datum geantwoord  Distributiemethode  Einde bereikt  \\\n",
       "0 2015-12-16 10:17:00  Via panel provider              1   \n",
       "1 2015-12-16 10:29:00  Via panel provider              1   \n",
       "2 2015-12-16 10:44:00  Via panel provider              1   \n",
       "\n",
       "   Invultijd (seconden)        Browser Besturingssysteem  \n",
       "0                   312  Google Chrome        Windows 10  \n",
       "1                   919        Firefox     Windows Vista  \n",
       "2                   154  Google Chrome         Windows 7  "
      ]
     },
     "execution_count": 120,
     "metadata": {},
     "output_type": "execute_result"
    }
   ],
   "source": [
    "df[\"Datum geantwoord\"] = pd.to_datetime(raw_df.loc[:,\"Datum geantwoord\"], infer_datetime_format=True)\n",
    "df[\"Distributiemethode\"] = raw_df[\"Distributiemethode\"].astype('category')\n",
    "df[\"Browser\"] = raw_df[\"Browser\"].astype('category')\n",
    "df[\"Besturingssysteem\"] = raw_df[\"Besturingssysteem\"].astype('category')\n",
    "df.iloc[:3, 2:8]"
   ]
  },
  {
   "cell_type": "code",
   "execution_count": 121,
   "metadata": {
    "collapsed": false
   },
   "outputs": [
    {
     "data": {
      "image/png": "[encoded data removed]",
      "text/plain": [
       "<matplotlib.figure.Figure at 0x19f74037208>"
      ]
     },
     "metadata": {},
     "output_type": "display_data"
    }
   ],
   "source": [
    "plt_df = df[[\"Taal\", \"Datum geantwoord\"]].copy()\n",
    "plt_df['count'] = 1;\n",
    "plt_df = plt_df.sort_values(by=\"Datum geantwoord\")\n",
    "plt_df['cumcount'] = plt_df.groupby(by=[\"Taal\"]).cumsum()\n",
    "\n",
    "plt_df = plt_df.drop(['count'], axis =1)\n",
    "\n",
    "# build plot language per language\n",
    "\n",
    "for lan in plt_df.Taal.unique():\n",
    "    x=plt_df.loc[plt_df.Taal == lan, ['Datum geantwoord']]\n",
    "    y=plt_df.loc[plt_df.Taal == lan, ['cumcount']]\n",
    "    plt.plot (x, y, label=lan)\n",
    "\n",
    "# Strings\n",
    "xlab = 'Tijd'\n",
    "ylab = 'Aantal respondenten'\n",
    "title = 'recrutering - vooruitgang per taal'\n",
    "\n",
    "# Add axis labels\n",
    "plt.xlabel(xlab)\n",
    "plt.ylabel(ylab)\n",
    "\n",
    "# Add title\n",
    "plt.title(title)\n",
    "\n",
    "# Add legend\n",
    "plt.legend(bbox_to_anchor=(1.05, 1), loc=2, borderaxespad=0.)\n",
    "\n",
    "plt.gcf().autofmt_xdate()\n",
    "# Render plot\n",
    "plt.show()"
   ]
  },
  {
   "cell_type": "code",
   "execution_count": 122,
   "metadata": {
    "collapsed": false
   },
   "outputs": [
    {
     "data": {
      "text/html": [
       "<div>\n",
       "<table border=\"1\" class=\"dataframe\">\n",
       "  <thead>\n",
       "    <tr style=\"text-align: right;\">\n",
       "      <th></th>\n",
       "      <th>IP</th>\n",
       "      <th>Locatie (via IP)</th>\n",
       "      <th>Verwijzende sites</th>\n",
       "      <th>1. ID</th>\n",
       "      <th>2. Country</th>\n",
       "      <th>3. Study number</th>\n",
       "      <th>4. Wat is uw geboortejaar?</th>\n",
       "    </tr>\n",
       "  </thead>\n",
       "  <tbody>\n",
       "    <tr>\n",
       "      <th>0</th>\n",
       "      <td>84.31.26.69</td>\n",
       "      <td>NaN</td>\n",
       "      <td>http://www.globaltestmarket.com/survey/onsurve...</td>\n",
       "      <td>6da3a071da328d79</td>\n",
       "      <td>Netherlands</td>\n",
       "      <td>394334</td>\n",
       "      <td>1968</td>\n",
       "    </tr>\n",
       "    <tr>\n",
       "      <th>1</th>\n",
       "      <td>77.173.234.228</td>\n",
       "      <td>Putte, Nederland</td>\n",
       "      <td>http://www.globaltestmarket.com/survey/onsurve...</td>\n",
       "      <td>6456a4ddd07e1021</td>\n",
       "      <td>Netherlands</td>\n",
       "      <td>394334</td>\n",
       "      <td>1981</td>\n",
       "    </tr>\n",
       "    <tr>\n",
       "      <th>2</th>\n",
       "      <td>89.146.11.36</td>\n",
       "      <td>Westervoort, Nederland</td>\n",
       "      <td>http://www.globaltestmarket.com/survey/onsurve...</td>\n",
       "      <td>02e8569ecb3b5276</td>\n",
       "      <td>Netherlands</td>\n",
       "      <td>394334</td>\n",
       "      <td>1991</td>\n",
       "    </tr>\n",
       "  </tbody>\n",
       "</table>\n",
       "</div>"
      ],
      "text/plain": [
       "               IP        Locatie (via IP)  \\\n",
       "0     84.31.26.69                     NaN   \n",
       "1  77.173.234.228        Putte, Nederland   \n",
       "2    89.146.11.36  Westervoort, Nederland   \n",
       "\n",
       "                                   Verwijzende sites             1. ID  \\\n",
       "0  http://www.globaltestmarket.com/survey/onsurve...  6da3a071da328d79   \n",
       "1  http://www.globaltestmarket.com/survey/onsurve...  6456a4ddd07e1021   \n",
       "2  http://www.globaltestmarket.com/survey/onsurve...  02e8569ecb3b5276   \n",
       "\n",
       "    2. Country  3. Study number  4. Wat is uw geboortejaar?  \n",
       "0  Netherlands           394334                        1968  \n",
       "1  Netherlands           394334                        1981  \n",
       "2  Netherlands           394334                        1991  "
      ]
     },
     "execution_count": 122,
     "metadata": {},
     "output_type": "execute_result"
    }
   ],
   "source": [
    "df[\"2. Country\"] = raw_df[\"2. Country\"].astype('category')\n",
    "df.iloc[:3, 8:15]"
   ]
  },
  {
   "cell_type": "code",
   "execution_count": 123,
   "metadata": {
    "collapsed": false
   },
   "outputs": [
    {
     "data": {
      "text/html": [
       "<div>\n",
       "<table border=\"1\" class=\"dataframe\">\n",
       "  <thead>\n",
       "    <tr style=\"text-align: right;\">\n",
       "      <th></th>\n",
       "      <th>5. Bent u in de afgelopen 3 jaar wel eens voor vakantie in het buitenland geweest?</th>\n",
       "      <th>6.1. Strandvakantie</th>\n",
       "      <th>6.2. Stedentrip</th>\n",
       "      <th>6.3. Wintersportvakantie</th>\n",
       "      <th>6.4. Wandelvakantie</th>\n",
       "      <th>6.5. Fietsvakantie</th>\n",
       "      <th>6.6. Wellnessvakantie</th>\n",
       "      <th>6.7. Gastronomische of culinaire vakantie</th>\n",
       "      <th>6.8. Vakantie in het groen met (af en toe) uitstappen</th>\n",
       "      <th>6.9. Rondreis</th>\n",
       "      <th>6.10. Cruise</th>\n",
       "      <th>6.11. Culturele reis</th>\n",
       "      <th>6.12. Ander, gelieve te specificeren</th>\n",
       "      <th>6.13. Geen van bovenstaande</th>\n",
       "    </tr>\n",
       "  </thead>\n",
       "  <tbody>\n",
       "    <tr>\n",
       "      <th>0</th>\n",
       "      <td>True</td>\n",
       "      <td>False</td>\n",
       "      <td>False</td>\n",
       "      <td>False</td>\n",
       "      <td>False</td>\n",
       "      <td>False</td>\n",
       "      <td>False</td>\n",
       "      <td>False</td>\n",
       "      <td>True</td>\n",
       "      <td>False</td>\n",
       "      <td>False</td>\n",
       "      <td>False</td>\n",
       "      <td>NaN</td>\n",
       "      <td>False</td>\n",
       "    </tr>\n",
       "    <tr>\n",
       "      <th>1</th>\n",
       "      <td>True</td>\n",
       "      <td>True</td>\n",
       "      <td>False</td>\n",
       "      <td>False</td>\n",
       "      <td>True</td>\n",
       "      <td>False</td>\n",
       "      <td>False</td>\n",
       "      <td>False</td>\n",
       "      <td>False</td>\n",
       "      <td>True</td>\n",
       "      <td>False</td>\n",
       "      <td>False</td>\n",
       "      <td>NaN</td>\n",
       "      <td>False</td>\n",
       "    </tr>\n",
       "    <tr>\n",
       "      <th>2</th>\n",
       "      <td>True</td>\n",
       "      <td>True</td>\n",
       "      <td>False</td>\n",
       "      <td>False</td>\n",
       "      <td>False</td>\n",
       "      <td>False</td>\n",
       "      <td>False</td>\n",
       "      <td>False</td>\n",
       "      <td>False</td>\n",
       "      <td>False</td>\n",
       "      <td>False</td>\n",
       "      <td>False</td>\n",
       "      <td>NaN</td>\n",
       "      <td>False</td>\n",
       "    </tr>\n",
       "  </tbody>\n",
       "</table>\n",
       "</div>"
      ],
      "text/plain": [
       "  5. Bent u in de afgelopen 3 jaar wel eens voor vakantie in het buitenland geweest?  \\\n",
       "0                                               True                                   \n",
       "1                                               True                                   \n",
       "2                                               True                                   \n",
       "\n",
       "  6.1. Strandvakantie 6.2. Stedentrip 6.3. Wintersportvakantie  \\\n",
       "0               False           False                    False   \n",
       "1                True           False                    False   \n",
       "2                True           False                    False   \n",
       "\n",
       "  6.4. Wandelvakantie 6.5. Fietsvakantie 6.6. Wellnessvakantie  \\\n",
       "0               False              False                 False   \n",
       "1                True              False                 False   \n",
       "2               False              False                 False   \n",
       "\n",
       "  6.7. Gastronomische of culinaire vakantie  \\\n",
       "0                                     False   \n",
       "1                                     False   \n",
       "2                                     False   \n",
       "\n",
       "  6.8. Vakantie in het groen met (af en toe) uitstappen 6.9. Rondreis  \\\n",
       "0                                               True            False   \n",
       "1                                              False             True   \n",
       "2                                              False            False   \n",
       "\n",
       "  6.10. Cruise 6.11. Culturele reis 6.12. Ander, gelieve te specificeren  \\\n",
       "0        False                False                                  NaN   \n",
       "1        False                False                                  NaN   \n",
       "2        False                False                                  NaN   \n",
       "\n",
       "  6.13. Geen van bovenstaande  \n",
       "0                       False  \n",
       "1                       False  \n",
       "2                       False  "
      ]
     },
     "execution_count": 123,
     "metadata": {},
     "output_type": "execute_result"
    }
   ],
   "source": [
    "# change to boolean values\n",
    "\n",
    "df[\"5. Bent u in de afgelopen 3 jaar wel eens voor vakantie in het buitenland geweest?\"] = raw_df[\"5. Bent u in de afgelopen 3 jaar wel eens voor vakantie in het buitenland geweest?\"] == 'Ja'\n",
    "df[\"6.1. Strandvakantie\"] = raw_df[\"6.1. Strandvakantie\"] == 'Strandvakantie'\n",
    "df[\"6.2. Stedentrip\"] = raw_df[\"6.2. Stedentrip\"] == 'Stedentrip'\n",
    "df[\"6.3. Wintersportvakantie\"] = raw_df[\"6.3. Wintersportvakantie\"] == 'Wintersportvakantie'\n",
    "df[\"6.4. Wandelvakantie\"] = raw_df[\"6.4. Wandelvakantie\"] == 'Wandelvakantie'\n",
    "df[\"6.5. Fietsvakantie\"] = raw_df[\"6.5. Fietsvakantie\"] == 'Fietsvakantie'\n",
    "df[\"6.6. Wellnessvakantie\"] = raw_df[\"6.6. Wellnessvakantie\"] == 'Wellnessvakantie'\n",
    "df[\"6.7. Gastronomische of culinaire vakantie\"] = raw_df[\"6.7. Gastronomische of culinaire vakantie\"] == 'Gastronomische of culinaire vakantie'\n",
    "df[\"6.8. Vakantie in het groen met (af en toe) uitstappen\"] = raw_df[\"6.8. Vakantie in het groen met (af en toe) uitstappen\"] == 'Vakantie in het groen met (af en toe) uitstappen'\n",
    "df[\"6.9. Rondreis\"] = raw_df[\"6.9. Rondreis\"] == 'Rondreis'\n",
    "df[\"6.10. Cruise\"] = raw_df[\"6.10. Cruise\"] == 'Cruise'\n",
    "df[\"6.11. Culturele reis\"] = raw_df[\"6.11. Culturele reis\"] == 'Culturele reis'\n",
    "df[\"6.13. Geen van bovenstaande\"] = raw_df[\"6.13. Geen van bovenstaande\"] == 'Geen van bovenstaande'\n",
    "df.iloc[:3, 15:29]\n"
   ]
  },
  {
   "cell_type": "code",
   "execution_count": 124,
   "metadata": {
    "collapsed": false
   },
   "outputs": [
    {
     "data": {
      "text/plain": [
       "5. Bent u in de afgelopen 3 jaar wel eens voor vakantie in het buitenland geweest?    0.999941\n",
       "6.1. Strandvakantie                                                                   0.595824\n",
       "6.2. Stedentrip                                                                       0.536882\n",
       "6.11. Culturele reis                                                                  0.229529\n",
       "6.9. Rondreis                                                                         0.220471\n",
       "6.8. Vakantie in het groen met (af en toe) uitstappen                                 0.198529\n",
       "6.6. Wellnessvakantie                                                                 0.149529\n",
       "6.4. Wandelvakantie                                                                   0.137176\n",
       "6.10. Cruise                                                                          0.136941\n",
       "6.3. Wintersportvakantie                                                              0.112000\n",
       "6.7. Gastronomische of culinaire vakantie                                             0.108235\n",
       "6.5. Fietsvakantie                                                                    0.054765\n",
       "6.13. Geen van bovenstaande                                                           0.011235\n",
       "dtype: float64"
      ]
     },
     "execution_count": 124,
     "metadata": {},
     "output_type": "execute_result"
    }
   ],
   "source": [
    "(df.iloc[:, 15:29].mean()).sort_values(ascending = False)"
   ]
  },
  {
   "cell_type": "code",
   "execution_count": 125,
   "metadata": {
    "collapsed": false
   },
   "outputs": [
    {
     "data": {
      "text/plain": [
       "array(['familiebezoek', 'familie bezoek', 'Bezoek vrienden', ...,\n",
       "       'Disney e Universal', '???????????', 'meeting relatives'], dtype=object)"
      ]
     },
     "execution_count": 125,
     "metadata": {},
     "output_type": "execute_result"
    }
   ],
   "source": [
    "df[\"6.12. Ander, gelieve te specificeren\"].dropna().unique()"
   ]
  },
  {
   "cell_type": "code",
   "execution_count": 126,
   "metadata": {
    "collapsed": false
   },
   "outputs": [
    {
     "data": {
      "text/html": [
       "<div>\n",
       "<table border=\"1\" class=\"dataframe\">\n",
       "  <thead>\n",
       "    <tr style=\"text-align: right;\">\n",
       "      <th></th>\n",
       "      <th>7.1. Afstand</th>\n",
       "      <th>7.2. Historisch erfgoed</th>\n",
       "      <th>7.3. Eten</th>\n",
       "      <th>7.4. Cultuur</th>\n",
       "      <th>7.5. Natuur</th>\n",
       "      <th>7.6. Prijs</th>\n",
       "      <th>7.7. Kust</th>\n",
       "      <th>7.8. Sport</th>\n",
       "      <th>7.9. Festival, evenement of tentoonstelling</th>\n",
       "      <th>7.10. Kunst</th>\n",
       "      <th>7.11. Variatie aan activiteiten</th>\n",
       "    </tr>\n",
       "  </thead>\n",
       "  <tbody>\n",
       "    <tr>\n",
       "      <th>0</th>\n",
       "      <td>True</td>\n",
       "      <td>False</td>\n",
       "      <td>False</td>\n",
       "      <td>False</td>\n",
       "      <td>True</td>\n",
       "      <td>True</td>\n",
       "      <td>False</td>\n",
       "      <td>False</td>\n",
       "      <td>False</td>\n",
       "      <td>False</td>\n",
       "      <td>False</td>\n",
       "    </tr>\n",
       "    <tr>\n",
       "      <th>1</th>\n",
       "      <td>False</td>\n",
       "      <td>False</td>\n",
       "      <td>True</td>\n",
       "      <td>False</td>\n",
       "      <td>False</td>\n",
       "      <td>False</td>\n",
       "      <td>True</td>\n",
       "      <td>False</td>\n",
       "      <td>True</td>\n",
       "      <td>False</td>\n",
       "      <td>False</td>\n",
       "    </tr>\n",
       "    <tr>\n",
       "      <th>2</th>\n",
       "      <td>True</td>\n",
       "      <td>False</td>\n",
       "      <td>False</td>\n",
       "      <td>False</td>\n",
       "      <td>False</td>\n",
       "      <td>True</td>\n",
       "      <td>True</td>\n",
       "      <td>False</td>\n",
       "      <td>False</td>\n",
       "      <td>False</td>\n",
       "      <td>False</td>\n",
       "    </tr>\n",
       "  </tbody>\n",
       "</table>\n",
       "</div>"
      ],
      "text/plain": [
       "  7.1. Afstand 7.2. Historisch erfgoed 7.3. Eten 7.4. Cultuur 7.5. Natuur  \\\n",
       "0         True                   False     False        False        True   \n",
       "1        False                   False      True        False       False   \n",
       "2         True                   False     False        False       False   \n",
       "\n",
       "  7.6. Prijs 7.7. Kust 7.8. Sport 7.9. Festival, evenement of tentoonstelling  \\\n",
       "0       True     False      False                                       False   \n",
       "1      False      True      False                                        True   \n",
       "2       True      True      False                                       False   \n",
       "\n",
       "  7.10. Kunst 7.11. Variatie aan activiteiten  \n",
       "0       False                           False  \n",
       "1       False                           False  \n",
       "2       False                           False  "
      ]
     },
     "execution_count": 126,
     "metadata": {},
     "output_type": "execute_result"
    }
   ],
   "source": [
    "df[\"7.1. Afstand\"] = raw_df[\"7.1. Afstand\"] == 'Afstand'\n",
    "df[\"7.2. Historisch erfgoed\"] = raw_df[\"7.2. Historisch erfgoed\"] == 'Historisch erfgoed'\n",
    "df[\"7.3. Eten\"] = raw_df[\"7.3. Eten\"] == 'Eten'\n",
    "df[\"7.4. Cultuur\"] = raw_df[\"7.4. Cultuur\"] == 'Cultuur'\n",
    "df[\"7.5. Natuur\"] = raw_df[\"7.5. Natuur\"] == 'Natuur'\n",
    "df[\"7.6. Prijs\"] = raw_df[\"7.6. Prijs\"] == 'Prijs'\n",
    "df[\"7.7. Kust\"] = raw_df[\"7.7. Kust\"] == 'Kust'\n",
    "df[\"7.8. Sport\"] = raw_df[\"7.8. Sport\"] == 'Sport'\n",
    "df[\"7.9. Festival, evenement of tentoonstelling\"] = raw_df[\"7.9. Festival, evenement of tentoonstelling\"] == 'Festival, evenement of tentoonstelling'\n",
    "df[\"7.10. Kunst\"] = raw_df[\"7.10. Kunst\"] == 'Kunst'\n",
    "df[\"7.11. Variatie aan activiteiten\"] = raw_df[\"7.11. Variatie aan activiteiten\"] == 'Variatie aan activiteiten'\n",
    "\n",
    "df.iloc[:3, 29:40]"
   ]
  },
  {
   "cell_type": "code",
   "execution_count": 127,
   "metadata": {
    "collapsed": false
   },
   "outputs": [
    {
     "data": {
      "text/plain": [
       "7.6. Prijs                                     0.568941\n",
       "7.4. Cultuur                                   0.448412\n",
       "7.5. Natuur                                    0.406941\n",
       "7.3. Eten                                      0.396412\n",
       "7.2. Historisch erfgoed                        0.340118\n",
       "7.7. Kust                                      0.250529\n",
       "7.1. Afstand                                   0.234882\n",
       "7.11. Variatie aan activiteiten                0.189118\n",
       "7.9. Festival, evenement of tentoonstelling    0.065882\n",
       "7.10. Kunst                                    0.049706\n",
       "7.8. Sport                                     0.049059\n",
       "dtype: float64"
      ]
     },
     "execution_count": 127,
     "metadata": {},
     "output_type": "execute_result"
    }
   ],
   "source": [
    "(df.iloc[:, 29:40].mean()).sort_values(ascending = False)"
   ]
  },
  {
   "cell_type": "code",
   "execution_count": 128,
   "metadata": {
    "collapsed": false,
    "scrolled": true
   },
   "outputs": [
    {
     "data": {
      "text/html": [
       "<div>\n",
       "<table border=\"1\" class=\"dataframe\">\n",
       "  <thead>\n",
       "    <tr style=\"text-align: right;\">\n",
       "      <th></th>\n",
       "      <th>8.1. Reisprogramma's op tv/radio</th>\n",
       "      <th>8.2. Websites van (online) touroperators / reisagenten</th>\n",
       "      <th>8.3. Websites waarop consumenten reiservaringen en verhalen delen/uitwisselen (reisblogs)</th>\n",
       "      <th>8.4. Websites met beoordelingen/reviews van reizigers</th>\n",
       "      <th>8.5. Reismagazines</th>\n",
       "      <th>8.6. Vrienden, familie en kennissen</th>\n",
       "      <th>8.7. Reisbijlages/ - artikelen in kranten</th>\n",
       "      <th>8.8. Cultuurmagazines</th>\n",
       "      <th>8.9. Officiële website van toeristische organisatie (bv. VisitBritain, VisittheUSA,...)</th>\n",
       "      <th>8.10. Sociale media</th>\n",
       "    </tr>\n",
       "  </thead>\n",
       "  <tbody>\n",
       "    <tr>\n",
       "      <th>0</th>\n",
       "      <td>Nooit</td>\n",
       "      <td>Nooit</td>\n",
       "      <td>Nooit</td>\n",
       "      <td>Nooit</td>\n",
       "      <td>Nooit</td>\n",
       "      <td>Af en toe</td>\n",
       "      <td>Nooit</td>\n",
       "      <td>Nooit</td>\n",
       "      <td>Nooit</td>\n",
       "      <td>Nooit</td>\n",
       "    </tr>\n",
       "    <tr>\n",
       "      <th>1</th>\n",
       "      <td>Regelmatig</td>\n",
       "      <td>Regelmatig</td>\n",
       "      <td>Af en toe</td>\n",
       "      <td>Af en toe</td>\n",
       "      <td>Af en toe</td>\n",
       "      <td>Regelmatig</td>\n",
       "      <td>Af en toe</td>\n",
       "      <td>Af en toe</td>\n",
       "      <td>Af en toe</td>\n",
       "      <td>Regelmatig</td>\n",
       "    </tr>\n",
       "    <tr>\n",
       "      <th>2</th>\n",
       "      <td>Nooit</td>\n",
       "      <td>Vaak</td>\n",
       "      <td>Vaak</td>\n",
       "      <td>Vaak</td>\n",
       "      <td>Af en toe</td>\n",
       "      <td>Regelmatig</td>\n",
       "      <td>Af en toe</td>\n",
       "      <td>Af en toe</td>\n",
       "      <td>Af en toe</td>\n",
       "      <td>Af en toe</td>\n",
       "    </tr>\n",
       "  </tbody>\n",
       "</table>\n",
       "</div>"
      ],
      "text/plain": [
       "  8.1. Reisprogramma's op tv/radio  \\\n",
       "0                            Nooit   \n",
       "1                       Regelmatig   \n",
       "2                            Nooit   \n",
       "\n",
       "  8.2. Websites van (online) touroperators / reisagenten  \\\n",
       "0                                              Nooit       \n",
       "1                                         Regelmatig       \n",
       "2                                               Vaak       \n",
       "\n",
       "  8.3. Websites waarop consumenten reiservaringen en verhalen delen/uitwisselen (reisblogs)  \\\n",
       "0                                              Nooit                                          \n",
       "1                                          Af en toe                                          \n",
       "2                                               Vaak                                          \n",
       "\n",
       "  8.4. Websites met beoordelingen/reviews van reizigers 8.5. Reismagazines  \\\n",
       "0                                              Nooit                 Nooit   \n",
       "1                                          Af en toe             Af en toe   \n",
       "2                                               Vaak             Af en toe   \n",
       "\n",
       "  8.6. Vrienden, familie en kennissen  \\\n",
       "0                           Af en toe   \n",
       "1                          Regelmatig   \n",
       "2                          Regelmatig   \n",
       "\n",
       "  8.7. Reisbijlages/ - artikelen in kranten 8.8. Cultuurmagazines  \\\n",
       "0                                     Nooit                 Nooit   \n",
       "1                                 Af en toe             Af en toe   \n",
       "2                                 Af en toe             Af en toe   \n",
       "\n",
       "  8.9. Officiële website van toeristische organisatie (bv. VisitBritain, VisittheUSA,...)  \\\n",
       "0                                              Nooit                                        \n",
       "1                                          Af en toe                                        \n",
       "2                                          Af en toe                                        \n",
       "\n",
       "  8.10. Sociale media  \n",
       "0               Nooit  \n",
       "1          Regelmatig  \n",
       "2           Af en toe  "
      ]
     },
     "execution_count": 128,
     "metadata": {},
     "output_type": "execute_result"
    }
   ],
   "source": [
    "df[\"8.1. Reisprogramma's op tv/radio\"] = pd.Categorical(raw_df.iloc[:,40], \n",
    "            categories=['Nooit', 'Af en toe', 'Regelmatig', 'Vaak'],\n",
    "            ordered=True)\n",
    "df[\"8.2. Websites van (online) touroperators / reisagenten\"] = pd.Categorical(raw_df[\"8.2. Websites van (online) touroperators / reisagenten\"], \n",
    "            categories=['Nooit', 'Af en toe', 'Regelmatig', 'Vaak'],\n",
    "            ordered=True)\n",
    "df[\"8.4. Websites met beoordelingen/reviews van reizigers\"] = pd.Categorical(raw_df[\"8.4. Websites met beoordelingen/reviews van reizigers\"], \n",
    "            categories=['Nooit', 'Af en toe', 'Regelmatig', 'Vaak'],\n",
    "            ordered=True)\n",
    "df[\"8.5. Reismagazines\"] = pd.Categorical(raw_df[\"8.5. Reismagazines\"], \n",
    "            categories=['Nooit', 'Af en toe', 'Regelmatig', 'Vaak'],\n",
    "            ordered=True)\n",
    "df[\"8.6. Vrienden, familie en kennissen\"] = pd.Categorical(raw_df[\"8.6. Vrienden, familie en kennissen\"], \n",
    "            categories=['Nooit', 'Af en toe', 'Regelmatig', 'Vaak'],\n",
    "            ordered=True)\n",
    "df[\"8.7. Reisbijlages/ - artikelen in kranten\"] = pd.Categorical(raw_df[\"8.7. Reisbijlages/ - artikelen in kranten\"], \n",
    "            categories=['Nooit', 'Af en toe', 'Regelmatig', 'Vaak'],\n",
    "            ordered=True)\n",
    "df[\"8.8. Cultuurmagazines\"] = pd.Categorical(raw_df[\"8.8. Cultuurmagazines\"], \n",
    "            categories=['Nooit', 'Af en toe', 'Regelmatig', 'Vaak'],\n",
    "            ordered=True)\n",
    "df[\"8.9. Officiële website van toeristische organisatie (bv. VisitBritain, VisittheUSA,...)\"] = pd.Categorical(raw_df.iloc[:,48], \n",
    "            categories=['Nooit', 'Af en toe', 'Regelmatig', 'Vaak'],\n",
    "            ordered=True)\n",
    "df[\"8.10. Sociale media\"] = pd.Categorical(raw_df[\"8.10. Sociale media\"], \n",
    "            categories=['Nooit', 'Af en toe', 'Regelmatig', 'Vaak'],\n",
    "            ordered=True)\n",
    "\n",
    "df.iloc[:3, 40:50]"
   ]
  },
  {
   "cell_type": "code",
   "execution_count": 129,
   "metadata": {
    "collapsed": false
   },
   "outputs": [
    {
     "data": {
      "text/html": [
       "<div>\n",
       "<table border=\"1\" class=\"dataframe\">\n",
       "  <thead>\n",
       "    <tr style=\"text-align: right;\">\n",
       "      <th></th>\n",
       "      <th>9.1. Facebook</th>\n",
       "      <th>9.2. Twitter</th>\n",
       "      <th>9.3. Youtube</th>\n",
       "      <th>9.4. Pinterest</th>\n",
       "      <th>9.5. Instagram</th>\n",
       "      <th>9.6. LinkedIn</th>\n",
       "      <th>9.7. Google+</th>\n",
       "      <th>9.8. Flickr</th>\n",
       "      <th>9.9. Tumblr</th>\n",
       "      <th>9.10. Vine</th>\n",
       "      <th>9.11. Snapchat</th>\n",
       "      <th>9.12. Whatsapp</th>\n",
       "      <th>9.13. Foursquare</th>\n",
       "      <th>9.14. Orkut</th>\n",
       "      <th>9.15. Weibo</th>\n",
       "      <th>9.16. We Chat</th>\n",
       "      <th>9.17. VKontakte</th>\n",
       "      <th>9.18. Ander, gelieve te specificeren</th>\n",
       "      <th>9.19. Ik gebruik geen sociale media</th>\n",
       "    </tr>\n",
       "  </thead>\n",
       "  <tbody>\n",
       "    <tr>\n",
       "      <th>0</th>\n",
       "      <td>False</td>\n",
       "      <td>False</td>\n",
       "      <td>False</td>\n",
       "      <td>False</td>\n",
       "      <td>False</td>\n",
       "      <td>False</td>\n",
       "      <td>False</td>\n",
       "      <td>False</td>\n",
       "      <td>False</td>\n",
       "      <td>False</td>\n",
       "      <td>False</td>\n",
       "      <td>False</td>\n",
       "      <td>False</td>\n",
       "      <td>False</td>\n",
       "      <td>False</td>\n",
       "      <td>False</td>\n",
       "      <td>False</td>\n",
       "      <td>NaN</td>\n",
       "      <td>True</td>\n",
       "    </tr>\n",
       "    <tr>\n",
       "      <th>1</th>\n",
       "      <td>True</td>\n",
       "      <td>True</td>\n",
       "      <td>True</td>\n",
       "      <td>False</td>\n",
       "      <td>False</td>\n",
       "      <td>False</td>\n",
       "      <td>True</td>\n",
       "      <td>False</td>\n",
       "      <td>False</td>\n",
       "      <td>False</td>\n",
       "      <td>True</td>\n",
       "      <td>False</td>\n",
       "      <td>False</td>\n",
       "      <td>False</td>\n",
       "      <td>False</td>\n",
       "      <td>False</td>\n",
       "      <td>False</td>\n",
       "      <td>NaN</td>\n",
       "      <td>False</td>\n",
       "    </tr>\n",
       "    <tr>\n",
       "      <th>2</th>\n",
       "      <td>True</td>\n",
       "      <td>False</td>\n",
       "      <td>False</td>\n",
       "      <td>False</td>\n",
       "      <td>False</td>\n",
       "      <td>False</td>\n",
       "      <td>False</td>\n",
       "      <td>False</td>\n",
       "      <td>False</td>\n",
       "      <td>False</td>\n",
       "      <td>False</td>\n",
       "      <td>False</td>\n",
       "      <td>False</td>\n",
       "      <td>False</td>\n",
       "      <td>False</td>\n",
       "      <td>False</td>\n",
       "      <td>False</td>\n",
       "      <td>NaN</td>\n",
       "      <td>False</td>\n",
       "    </tr>\n",
       "  </tbody>\n",
       "</table>\n",
       "</div>"
      ],
      "text/plain": [
       "  9.1. Facebook 9.2. Twitter 9.3. Youtube 9.4. Pinterest 9.5. Instagram  \\\n",
       "0         False        False        False          False          False   \n",
       "1          True         True         True          False          False   \n",
       "2          True        False        False          False          False   \n",
       "\n",
       "  9.6. LinkedIn 9.7. Google+ 9.8. Flickr 9.9. Tumblr 9.10. Vine  \\\n",
       "0         False        False       False       False      False   \n",
       "1         False         True       False       False      False   \n",
       "2         False        False       False       False      False   \n",
       "\n",
       "  9.11. Snapchat 9.12. Whatsapp 9.13. Foursquare 9.14. Orkut 9.15. Weibo  \\\n",
       "0          False          False            False       False       False   \n",
       "1           True          False            False       False       False   \n",
       "2          False          False            False       False       False   \n",
       "\n",
       "  9.16. We Chat 9.17. VKontakte 9.18. Ander, gelieve te specificeren  \\\n",
       "0         False           False                                  NaN   \n",
       "1         False           False                                  NaN   \n",
       "2         False           False                                  NaN   \n",
       "\n",
       "  9.19. Ik gebruik geen sociale media  \n",
       "0                                True  \n",
       "1                               False  \n",
       "2                               False  "
      ]
     },
     "execution_count": 129,
     "metadata": {},
     "output_type": "execute_result"
    }
   ],
   "source": [
    "df[\"9.1. Facebook\"] = raw_df[\"9.1. Facebook\"] == 'Facebook'\n",
    "df[\"9.2. Twitter\"] = raw_df[\"9.2. Twitter\"] == 'Twitter'\n",
    "df[\"9.3. Youtube\"] = raw_df[\"9.3. Youtube\"] == 'Youtube'\n",
    "df[\"9.4. Pinterest\"] = raw_df[\"9.4. Pinterest\"] == 'Pinterest'\n",
    "df[\"9.5. Instagram\"] = raw_df[\"9.5. Instagram\"] == 'Instagram'\n",
    "df[\"9.6. LinkedIn\"] = raw_df[\"9.6. LinkedIn\"] == 'LinkedIn'\n",
    "df[\"9.7. Google+\"] = raw_df[\"9.7. Google+\"] == 'Google+'\n",
    "df[\"9.8. Flickr\"] = raw_df[\"9.8. Flickr\"] == 'Flickr'\n",
    "df[\"9.9. Tumblr\"] = raw_df[\"9.9. Tumblr\"] == 'Tumblr'\n",
    "df[\"9.10. Vine\"] = raw_df[\"9.10. Vine\"] == 'Vine'\n",
    "df[\"9.11. Snapchat\"] = raw_df[\"9.11. Snapchat\"] == 'Snapchat'\n",
    "df[\"9.12. Whatsapp\"] = raw_df[\"9.12. Whatsapp\"] == 'Whatsapp'\n",
    "df[\"9.13. Foursquare\"] = raw_df[\"9.13. Foursquare\"] == 'Foursquare'\n",
    "df[\"9.14. Orkut\"] = raw_df[\"9.14. Orkut\"] == 'Orkut'\n",
    "df[\"9.15. Weibo\"] = raw_df[\"9.15. Weibo\"] == 'Weibo'\n",
    "df[\"9.16. We Chat\"] = raw_df[\"9.16. We Chat\"] == 'We Chat'\n",
    "df[\"9.17. VKontakte\"] = raw_df[\"9.17. VKontakte\"] == 'VKontakte'\n",
    "df[\"9.19. Ik gebruik geen sociale media\"] = raw_df[\"9.19. Ik gebruik geen sociale media\"] == 'Ik gebruik geen sociale media'\n",
    "df.iloc[:3, 50:69]"
   ]
  },
  {
   "cell_type": "code",
   "execution_count": 130,
   "metadata": {
    "collapsed": false
   },
   "outputs": [
    {
     "data": {
      "text/plain": [
       "9.1. Facebook                          0.664176\n",
       "9.3. Youtube                           0.367353\n",
       "9.12. Whatsapp                         0.317647\n",
       "9.7. Google+                           0.223118\n",
       "9.2. Twitter                           0.204882\n",
       "9.5. Instagram                         0.190647\n",
       "9.19. Ik gebruik geen sociale media    0.134706\n",
       "9.6. LinkedIn                          0.104176\n",
       "9.11. Snapchat                         0.074588\n",
       "9.16. We Chat                          0.071294\n",
       "9.4. Pinterest                         0.065588\n",
       "9.15. Weibo                            0.046235\n",
       "9.17. VKontakte                        0.046000\n",
       "9.9. Tumblr                            0.028882\n",
       "9.8. Flickr                            0.024353\n",
       "9.13. Foursquare                       0.019824\n",
       "9.10. Vine                             0.019765\n",
       "9.14. Orkut                            0.013118\n",
       "dtype: float64"
      ]
     },
     "execution_count": 130,
     "metadata": {},
     "output_type": "execute_result"
    }
   ],
   "source": [
    "(df.iloc[:, 50:69].mean()).sort_values(ascending = False)"
   ]
  },
  {
   "cell_type": "code",
   "execution_count": 131,
   "metadata": {
    "collapsed": false
   },
   "outputs": [
    {
     "data": {
      "text/html": [
       "<div>\n",
       "<table border=\"1\" class=\"dataframe\">\n",
       "  <thead>\n",
       "    <tr style=\"text-align: right;\">\n",
       "      <th></th>\n",
       "      <th>10.1. In eigen land</th>\n",
       "      <th>10.2. In buitenland</th>\n",
       "    </tr>\n",
       "  </thead>\n",
       "  <tbody>\n",
       "    <tr>\n",
       "      <th>0</th>\n",
       "      <td>Zelden</td>\n",
       "      <td>Nooit</td>\n",
       "    </tr>\n",
       "    <tr>\n",
       "      <th>1</th>\n",
       "      <td>Af en toe (een keer per jaar)</td>\n",
       "      <td>Af en toe (een keer per jaar)</td>\n",
       "    </tr>\n",
       "    <tr>\n",
       "      <th>2</th>\n",
       "      <td>Zelden</td>\n",
       "      <td>Zelden</td>\n",
       "    </tr>\n",
       "  </tbody>\n",
       "</table>\n",
       "</div>"
      ],
      "text/plain": [
       "             10.1. In eigen land            10.2. In buitenland\n",
       "0                         Zelden                          Nooit\n",
       "1  Af en toe (een keer per jaar)  Af en toe (een keer per jaar)\n",
       "2                         Zelden                         Zelden"
      ]
     },
     "execution_count": 131,
     "metadata": {},
     "output_type": "execute_result"
    }
   ],
   "source": [
    "df[\"10.1. In eigen land\"] = pd.Categorical(raw_df[\"10.1. In eigen land\"], \n",
    "            categories=['Nooit', 'Zelden', 'Af en toe (een keer per jaar)', 'Regelmatig (meerdere keren per jaar)', 'Vaak (maandelijks)'],\n",
    "            ordered=True)\n",
    "df[\"10.2. In buitenland\"] = pd.Categorical(raw_df[\"10.2. In buitenland\"], \n",
    "            categories=['Nooit', 'Zelden', 'Af en toe (een keer per jaar)', 'Regelmatig (meerdere keren per jaar)', 'Vaak (maandelijks)'],\n",
    "            ordered=True)\n",
    "df.iloc[:3, 69:71]"
   ]
  },
  {
   "cell_type": "code",
   "execution_count": 132,
   "metadata": {
    "collapsed": false
   },
   "outputs": [
    {
     "data": {
      "text/html": [
       "<div>\n",
       "<table border=\"1\" class=\"dataframe\">\n",
       "  <thead>\n",
       "    <tr style=\"text-align: right;\">\n",
       "      <th></th>\n",
       "      <th>11.1. Museum voor oude of schone kunsten</th>\n",
       "      <th>11.2. Museum voor hedendaagse of actuele kunst</th>\n",
       "      <th>11.3. Museum voor natuurkunde, technologie of wetenschap</th>\n",
       "      <th>11.4. Museum voor geschiedenis, volkskunde of archeologie</th>\n",
       "      <th>11.5. Museum voor toegepaste kunst, mode, diamant, design, strips</th>\n",
       "      <th>11.6. Geen van bovenstaande</th>\n",
       "    </tr>\n",
       "  </thead>\n",
       "  <tbody>\n",
       "    <tr>\n",
       "      <th>0</th>\n",
       "      <td>False</td>\n",
       "      <td>False</td>\n",
       "      <td>False</td>\n",
       "      <td>False</td>\n",
       "      <td>False</td>\n",
       "      <td>False</td>\n",
       "    </tr>\n",
       "    <tr>\n",
       "      <th>1</th>\n",
       "      <td>False</td>\n",
       "      <td>False</td>\n",
       "      <td>True</td>\n",
       "      <td>True</td>\n",
       "      <td>False</td>\n",
       "      <td>False</td>\n",
       "    </tr>\n",
       "    <tr>\n",
       "      <th>2</th>\n",
       "      <td>False</td>\n",
       "      <td>False</td>\n",
       "      <td>False</td>\n",
       "      <td>False</td>\n",
       "      <td>False</td>\n",
       "      <td>True</td>\n",
       "    </tr>\n",
       "  </tbody>\n",
       "</table>\n",
       "</div>"
      ],
      "text/plain": [
       "  11.1. Museum voor oude of schone kunsten  \\\n",
       "0                                    False   \n",
       "1                                    False   \n",
       "2                                    False   \n",
       "\n",
       "  11.2. Museum voor hedendaagse of actuele kunst  \\\n",
       "0                                          False   \n",
       "1                                          False   \n",
       "2                                          False   \n",
       "\n",
       "  11.3. Museum voor natuurkunde, technologie of wetenschap  \\\n",
       "0                                              False         \n",
       "1                                               True         \n",
       "2                                              False         \n",
       "\n",
       "  11.4. Museum voor geschiedenis, volkskunde of archeologie  \\\n",
       "0                                              False          \n",
       "1                                               True          \n",
       "2                                              False          \n",
       "\n",
       "  11.5. Museum voor toegepaste kunst, mode, diamant, design, strips  \\\n",
       "0                                              False                  \n",
       "1                                              False                  \n",
       "2                                              False                  \n",
       "\n",
       "  11.6. Geen van bovenstaande  \n",
       "0                       False  \n",
       "1                       False  \n",
       "2                        True  "
      ]
     },
     "execution_count": 132,
     "metadata": {},
     "output_type": "execute_result"
    }
   ],
   "source": [
    "df[\"11.1. Museum voor oude of schone kunsten\"] = raw_df[\"11.1. Museum voor oude of schone kunsten\"] == 'Museum voor oude of schone kunsten'\n",
    "df[\"11.2. Museum voor hedendaagse of actuele kunst\"] = raw_df[\"11.2. Museum voor hedendaagse of actuele kunst\"] == 'Museum voor hedendaagse of actuele kunst'\n",
    "df[\"11.3. Museum voor natuurkunde, technologie of wetenschap\"] = raw_df[\"11.3. Museum voor natuurkunde, technologie of wetenschap\"] == 'Museum voor natuurkunde, technologie of wetenschap'\n",
    "df[\"11.4. Museum voor geschiedenis, volkskunde of archeologie\"] = raw_df[\"11.4. Museum voor geschiedenis, volkskunde of archeologie\"] == 'Museum voor geschiedenis, volkskunde of archeologie'\n",
    "df[\"11.5. Museum voor toegepaste kunst, mode, diamant, design, strips\"] = raw_df[\"11.5. Museum voor toegepaste kunst, mode, diamant, design, strips\"] == 'Museum voor toegepaste kunst, mode, diamant, design, strips'\n",
    "df[\"11.6. Geen van bovenstaande\"] = raw_df[\"11.6. Geen van bovenstaande\"] == 'Geen van bovenstaande'\n",
    "\n",
    "df.iloc[:3, 71:77]"
   ]
  },
  {
   "cell_type": "code",
   "execution_count": 133,
   "metadata": {
    "collapsed": false
   },
   "outputs": [
    {
     "data": {
      "text/plain": [
       "11.4. Museum voor geschiedenis, volkskunde of archeologie            0.578294\n",
       "11.1. Museum voor oude of schone kunsten                             0.473059\n",
       "11.3. Museum voor natuurkunde, technologie of wetenschap             0.416647\n",
       "11.2. Museum voor hedendaagse of actuele kunst                       0.359235\n",
       "11.5. Museum voor toegepaste kunst, mode, diamant, design, strips    0.220118\n",
       "11.6. Geen van bovenstaande                                          0.049235\n",
       "dtype: float64"
      ]
     },
     "execution_count": 133,
     "metadata": {},
     "output_type": "execute_result"
    }
   ],
   "source": [
    "(df.iloc[:, 71:77].mean()).sort_values(ascending = False)"
   ]
  },
  {
   "cell_type": "code",
   "execution_count": 134,
   "metadata": {
    "collapsed": false
   },
   "outputs": [
    {
     "data": {
      "text/html": [
       "<div>\n",
       "<table border=\"1\" class=\"dataframe\">\n",
       "  <thead>\n",
       "    <tr style=\"text-align: right;\">\n",
       "      <th></th>\n",
       "      <th>12.1. Aanbod in eigen taal</th>\n",
       "      <th>12.2. Aanwezigheid van topwerken</th>\n",
       "      <th>12.3. Gidsen en gegidste rondleidingen</th>\n",
       "      <th>12.4. Audioguide/apps</th>\n",
       "      <th>12.5. Interactief aanbod (virtual reality, doe-activiteiten, gebruik van touchscreens,...)</th>\n",
       "      <th>12.6. Aanbod voor kinderen</th>\n",
       "      <th>12.7. Museumshop</th>\n",
       "    </tr>\n",
       "  </thead>\n",
       "  <tbody>\n",
       "    <tr>\n",
       "      <th>0</th>\n",
       "      <td>1.0</td>\n",
       "      <td>3.0</td>\n",
       "      <td>2.0</td>\n",
       "      <td>7.0</td>\n",
       "      <td>5.0</td>\n",
       "      <td>4.0</td>\n",
       "      <td>6.0</td>\n",
       "    </tr>\n",
       "    <tr>\n",
       "      <th>1</th>\n",
       "      <td>4.0</td>\n",
       "      <td>1.0</td>\n",
       "      <td>5.0</td>\n",
       "      <td>3.0</td>\n",
       "      <td>2.0</td>\n",
       "      <td>7.0</td>\n",
       "      <td>6.0</td>\n",
       "    </tr>\n",
       "    <tr>\n",
       "      <th>2</th>\n",
       "      <td>2.0</td>\n",
       "      <td>1.0</td>\n",
       "      <td>5.0</td>\n",
       "      <td>4.0</td>\n",
       "      <td>3.0</td>\n",
       "      <td>6.0</td>\n",
       "      <td>7.0</td>\n",
       "    </tr>\n",
       "  </tbody>\n",
       "</table>\n",
       "</div>"
      ],
      "text/plain": [
       "   12.1. Aanbod in eigen taal  12.2. Aanwezigheid van topwerken  \\\n",
       "0                         1.0                               3.0   \n",
       "1                         4.0                               1.0   \n",
       "2                         2.0                               1.0   \n",
       "\n",
       "   12.3. Gidsen en gegidste rondleidingen  12.4. Audioguide/apps  \\\n",
       "0                                     2.0                    7.0   \n",
       "1                                     5.0                    3.0   \n",
       "2                                     5.0                    4.0   \n",
       "\n",
       "   12.5. Interactief aanbod (virtual reality, doe-activiteiten, gebruik van touchscreens,...)  \\\n",
       "0                                                5.0                                            \n",
       "1                                                2.0                                            \n",
       "2                                                3.0                                            \n",
       "\n",
       "   12.6. Aanbod voor kinderen  12.7. Museumshop  \n",
       "0                         4.0               6.0  \n",
       "1                         7.0               6.0  \n",
       "2                         6.0               7.0  "
      ]
     },
     "execution_count": 134,
     "metadata": {},
     "output_type": "execute_result"
    }
   ],
   "source": [
    "df.iloc[:3, 77:84]"
   ]
  },
  {
   "cell_type": "code",
   "execution_count": 135,
   "metadata": {
    "collapsed": false
   },
   "outputs": [
    {
     "data": {
      "text/plain": [
       "12.2. Aanwezigheid van topwerken                                                              2.682159\n",
       "12.1. Aanbod in eigen taal                                                                    2.754345\n",
       "12.3. Gidsen en gegidste rondleidingen                                                        3.076832\n",
       "12.5. Interactief aanbod (virtual reality, doe-activiteiten, gebruik van touchscreens,...)    3.728192\n",
       "12.4. Audioguide/apps                                                                         3.895251\n",
       "12.6. Aanbod voor kinderen                                                                    5.446461\n",
       "12.7. Museumshop                                                                              5.500746\n",
       "dtype: float64"
      ]
     },
     "execution_count": 135,
     "metadata": {},
     "output_type": "execute_result"
    }
   ],
   "source": [
    "(df.iloc[:,  77:84].mean()).sort_values(ascending = True)"
   ]
  },
  {
   "cell_type": "code",
   "execution_count": 136,
   "metadata": {
    "collapsed": false
   },
   "outputs": [
    {
     "data": {
      "text/html": [
       "<div>\n",
       "<table border=\"1\" class=\"dataframe\">\n",
       "  <thead>\n",
       "    <tr style=\"text-align: right;\">\n",
       "      <th></th>\n",
       "      <th>13. Als u op reis bent naar het buitenland, bezoekt u dan soms plaatsen of evenementen gelinkt aan kunst en cultuur?</th>\n",
       "    </tr>\n",
       "  </thead>\n",
       "  <tbody>\n",
       "    <tr>\n",
       "      <th>0</th>\n",
       "      <td>Nee</td>\n",
       "    </tr>\n",
       "    <tr>\n",
       "      <th>1</th>\n",
       "      <td>Ja, soms is het zelfs een onderdeel van een re...</td>\n",
       "    </tr>\n",
       "    <tr>\n",
       "      <th>2</th>\n",
       "      <td>Ja, soms is het zelfs een onderdeel van een re...</td>\n",
       "    </tr>\n",
       "  </tbody>\n",
       "</table>\n",
       "</div>"
      ],
      "text/plain": [
       "  13. Als u op reis bent naar het buitenland, bezoekt u dan soms plaatsen of evenementen gelinkt aan kunst en cultuur?\n",
       "0                                                Nee                                                                  \n",
       "1  Ja, soms is het zelfs een onderdeel van een re...                                                                  \n",
       "2  Ja, soms is het zelfs een onderdeel van een re...                                                                  "
      ]
     },
     "execution_count": 136,
     "metadata": {},
     "output_type": "execute_result"
    }
   ],
   "source": [
    "df[\"13. Als u op reis bent naar het buitenland, bezoekt u dan soms plaatsen of evenementen gelinkt aan kunst en cultuur?\"] = pd.Categorical(raw_df[\"13. Als u op reis bent naar het buitenland, bezoekt u dan soms plaatsen of evenementen gelinkt aan kunst en cultuur?\"], \n",
    "            categories=['Nee', 'Ja, maar enkel bij toeval', 'Ja, soms is het zelfs een onderdeel van een reis, maar nooit een hoofdthema', 'Ja, soms zelfs als hoofdthema'],\n",
    "            ordered=True)\n",
    "df.iloc[:3, 84:85]\n"
   ]
  },
  {
   "cell_type": "code",
   "execution_count": 137,
   "metadata": {
    "collapsed": false
   },
   "outputs": [
    {
     "data": {
      "text/html": [
       "<div>\n",
       "<table border=\"1\" class=\"dataframe\">\n",
       "  <thead>\n",
       "    <tr style=\"text-align: right;\">\n",
       "      <th></th>\n",
       "      <th>14.1. Musea met kunstcollectie</th>\n",
       "      <th>14.2. Kunstgalerijen</th>\n",
       "      <th>14.3. Historische gebouwen</th>\n",
       "      <th>14.4. Kerken, kathedralen</th>\n",
       "      <th>14.5. Tentoonstelling</th>\n",
       "      <th>14.6. Geboortehuis, woning,... van een kunstenaar</th>\n",
       "      <th>14.7. Routes en rondleidingen</th>\n",
       "      <th>14.8. Evenementen</th>\n",
       "      <th>14.9. Geen van bovenstaande</th>\n",
       "    </tr>\n",
       "  </thead>\n",
       "  <tbody>\n",
       "    <tr>\n",
       "      <th>0</th>\n",
       "      <td>False</td>\n",
       "      <td>False</td>\n",
       "      <td>False</td>\n",
       "      <td>NaN</td>\n",
       "      <td>False</td>\n",
       "      <td>False</td>\n",
       "      <td>False</td>\n",
       "      <td>False</td>\n",
       "      <td>False</td>\n",
       "    </tr>\n",
       "    <tr>\n",
       "      <th>1</th>\n",
       "      <td>False</td>\n",
       "      <td>False</td>\n",
       "      <td>True</td>\n",
       "      <td>Kerken, kathedralen</td>\n",
       "      <td>False</td>\n",
       "      <td>False</td>\n",
       "      <td>True</td>\n",
       "      <td>False</td>\n",
       "      <td>False</td>\n",
       "    </tr>\n",
       "    <tr>\n",
       "      <th>2</th>\n",
       "      <td>False</td>\n",
       "      <td>False</td>\n",
       "      <td>False</td>\n",
       "      <td>NaN</td>\n",
       "      <td>False</td>\n",
       "      <td>False</td>\n",
       "      <td>False</td>\n",
       "      <td>False</td>\n",
       "      <td>True</td>\n",
       "    </tr>\n",
       "  </tbody>\n",
       "</table>\n",
       "</div>"
      ],
      "text/plain": [
       "  14.1. Musea met kunstcollectie 14.2. Kunstgalerijen  \\\n",
       "0                          False                False   \n",
       "1                          False                False   \n",
       "2                          False                False   \n",
       "\n",
       "  14.3. Historische gebouwen 14.4. Kerken, kathedralen 14.5. Tentoonstelling  \\\n",
       "0                      False                       NaN                 False   \n",
       "1                       True       Kerken, kathedralen                 False   \n",
       "2                      False                       NaN                 False   \n",
       "\n",
       "  14.6. Geboortehuis, woning,... van een kunstenaar  \\\n",
       "0                                             False   \n",
       "1                                             False   \n",
       "2                                             False   \n",
       "\n",
       "  14.7. Routes en rondleidingen 14.8. Evenementen 14.9. Geen van bovenstaande  \n",
       "0                         False             False                       False  \n",
       "1                          True             False                       False  \n",
       "2                         False             False                        True  "
      ]
     },
     "execution_count": 137,
     "metadata": {},
     "output_type": "execute_result"
    }
   ],
   "source": [
    "df[\"14.1. Musea met kunstcollectie\"] = raw_df[\"14.1. Musea met kunstcollectie\"] == 'Musea met kunstcollectie'\n",
    "df[\"14.2. Kunstgalerijen\"] = raw_df[\"14.2. Kunstgalerijen\"] == 'Kunstgalerijen'\n",
    "df[\"14.3. Historische gebouwen\"] = raw_df[\"14.3. Historische gebouwen\"] == 'Historische gebouwen'\n",
    "df[\"14.5. Tentoonstelling\"] = raw_df[\"14.5. Tentoonstelling\"] == 'Tentoonstelling'\n",
    "df[\"14.6. Geboortehuis, woning,... van een kunstenaar\"] = raw_df.iloc[:,90] == 'Geboortehuis, woning,... van een kunstenaar'\n",
    "df[\"14.7. Routes en rondleidingen\"] = raw_df[\"14.7. Routes en rondleidingen\"] == 'Routes en rondleidingen'\n",
    "df[\"14.8. Evenementen\"] = raw_df[\"14.8. Evenementen\"] == 'Evenementen'\n",
    "df[\"14.9. Geen van bovenstaande\"] = raw_df[\"14.9. Geen van bovenstaande\"] == 'Geen van bovenstaande'\n",
    "\n",
    "df.iloc[:3, 85:94]"
   ]
  },
  {
   "cell_type": "code",
   "execution_count": 138,
   "metadata": {
    "collapsed": false
   },
   "outputs": [
    {
     "data": {
      "text/plain": [
       "11.4. Museum voor geschiedenis, volkskunde of archeologie            0.578294\n",
       "11.1. Museum voor oude of schone kunsten                             0.473059\n",
       "11.3. Museum voor natuurkunde, technologie of wetenschap             0.416647\n",
       "11.2. Museum voor hedendaagse of actuele kunst                       0.359235\n",
       "11.5. Museum voor toegepaste kunst, mode, diamant, design, strips    0.220118\n",
       "11.6. Geen van bovenstaande                                          0.049235\n",
       "dtype: float64"
      ]
     },
     "execution_count": 138,
     "metadata": {},
     "output_type": "execute_result"
    }
   ],
   "source": [
    "(df.iloc[:, 71:77].mean()).sort_values(ascending = False)"
   ]
  },
  {
   "cell_type": "code",
   "execution_count": 139,
   "metadata": {
    "collapsed": false
   },
   "outputs": [
    {
     "data": {
      "text/html": [
       "<div>\n",
       "<table border=\"1\" class=\"dataframe\">\n",
       "  <thead>\n",
       "    <tr style=\"text-align: right;\">\n",
       "      <th></th>\n",
       "      <th>15.1. 1</th>\n",
       "      <th>15.2. 2</th>\n",
       "      <th>15.3. 3</th>\n",
       "      <th>15.4. 4</th>\n",
       "      <th>15.5. 5</th>\n",
       "    </tr>\n",
       "  </thead>\n",
       "  <tbody>\n",
       "    <tr>\n",
       "      <th>0</th>\n",
       "      <td>rembrandt</td>\n",
       "      <td>van gogh</td>\n",
       "      <td>NaN</td>\n",
       "      <td>NaN</td>\n",
       "      <td>NaN</td>\n",
       "    </tr>\n",
       "    <tr>\n",
       "      <th>1</th>\n",
       "      <td>van gogh</td>\n",
       "      <td>paul cezanne</td>\n",
       "      <td>caravaggio</td>\n",
       "      <td>botticelli</td>\n",
       "      <td>del sarto</td>\n",
       "    </tr>\n",
       "    <tr>\n",
       "      <th>2</th>\n",
       "      <td>geen idee</td>\n",
       "      <td>NaN</td>\n",
       "      <td>NaN</td>\n",
       "      <td>NaN</td>\n",
       "      <td>NaN</td>\n",
       "    </tr>\n",
       "    <tr>\n",
       "      <th>3</th>\n",
       "      <td>van gogh</td>\n",
       "      <td>rembrandt</td>\n",
       "      <td>leonardo da vinci</td>\n",
       "      <td>NaN</td>\n",
       "      <td>NaN</td>\n",
       "    </tr>\n",
       "    <tr>\n",
       "      <th>4</th>\n",
       "      <td>Rembrandt</td>\n",
       "      <td>van Gogh</td>\n",
       "      <td>Picasso</td>\n",
       "      <td>Vermeer</td>\n",
       "      <td>Mondriaan</td>\n",
       "    </tr>\n",
       "    <tr>\n",
       "      <th>5</th>\n",
       "      <td>Van gogh</td>\n",
       "      <td>Vermeer</td>\n",
       "      <td>Rembrant</td>\n",
       "      <td>NaN</td>\n",
       "      <td>NaN</td>\n",
       "    </tr>\n",
       "    <tr>\n",
       "      <th>6</th>\n",
       "      <td>rembrandt</td>\n",
       "      <td>steen</td>\n",
       "      <td>van gogh</td>\n",
       "      <td>picasso</td>\n",
       "      <td>jeroen bosch</td>\n",
       "    </tr>\n",
       "    <tr>\n",
       "      <th>7</th>\n",
       "      <td>van gogh</td>\n",
       "      <td>dali</td>\n",
       "      <td>rembrandt</td>\n",
       "      <td>NaN</td>\n",
       "      <td>NaN</td>\n",
       "    </tr>\n",
       "    <tr>\n",
       "      <th>8</th>\n",
       "      <td>rembrant</td>\n",
       "      <td>van gogh</td>\n",
       "      <td>monet</td>\n",
       "      <td>dali</td>\n",
       "      <td>rubens</td>\n",
       "    </tr>\n",
       "    <tr>\n",
       "      <th>9</th>\n",
       "      <td>repin</td>\n",
       "      <td>rembrand</td>\n",
       "      <td>ayvazovski</td>\n",
       "      <td>saryan</td>\n",
       "      <td>elibekyan</td>\n",
       "    </tr>\n",
       "  </tbody>\n",
       "</table>\n",
       "</div>"
      ],
      "text/plain": [
       "     15.1. 1       15.2. 2            15.3. 3     15.4. 4       15.5. 5\n",
       "0  rembrandt      van gogh                NaN         NaN           NaN\n",
       "1   van gogh  paul cezanne         caravaggio  botticelli     del sarto\n",
       "2  geen idee           NaN                NaN         NaN           NaN\n",
       "3   van gogh     rembrandt  leonardo da vinci         NaN           NaN\n",
       "4  Rembrandt      van Gogh            Picasso     Vermeer     Mondriaan\n",
       "5   Van gogh       Vermeer           Rembrant         NaN           NaN\n",
       "6  rembrandt         steen           van gogh     picasso  jeroen bosch\n",
       "7   van gogh          dali          rembrandt         NaN           NaN\n",
       "8   rembrant      van gogh              monet        dali        rubens\n",
       "9      repin      rembrand         ayvazovski      saryan     elibekyan"
      ]
     },
     "execution_count": 139,
     "metadata": {},
     "output_type": "execute_result"
    }
   ],
   "source": [
    "df.iloc[:10, 94:99]"
   ]
  },
  {
   "cell_type": "code",
   "execution_count": 140,
   "metadata": {
    "collapsed": false
   },
   "outputs": [
    {
     "data": {
      "text/html": [
       "<div>\n",
       "<table border=\"1\" class=\"dataframe\">\n",
       "  <thead>\n",
       "    <tr style=\"text-align: right;\">\n",
       "      <th></th>\n",
       "      <th>16. Hieronder ziet u een aantal schilderijen. Kent u dit werk?</th>\n",
       "      <th>17. Wie is de schilder?</th>\n",
       "      <th>18. Kent u dit werk?</th>\n",
       "      <th>19. Wie is de schilder?</th>\n",
       "      <th>20. Kent u dit werk?</th>\n",
       "      <th>21. Wie is de schilder?</th>\n",
       "      <th>22. Kent u dit werk?</th>\n",
       "      <th>23. Wie is de schilder?</th>\n",
       "    </tr>\n",
       "  </thead>\n",
       "  <tbody>\n",
       "    <tr>\n",
       "      <th>0</th>\n",
       "      <td>True</td>\n",
       "      <td>Rembrandt van Rijn</td>\n",
       "      <td>True</td>\n",
       "      <td>NaN</td>\n",
       "      <td>False</td>\n",
       "      <td>NaN</td>\n",
       "      <td>False</td>\n",
       "      <td>?</td>\n",
       "    </tr>\n",
       "    <tr>\n",
       "      <th>1</th>\n",
       "      <td>True</td>\n",
       "      <td>rembrandt</td>\n",
       "      <td>True</td>\n",
       "      <td>vergeten</td>\n",
       "      <td>True</td>\n",
       "      <td>rembrandt</td>\n",
       "      <td>True</td>\n",
       "      <td>pieter bruegel</td>\n",
       "    </tr>\n",
       "    <tr>\n",
       "      <th>2</th>\n",
       "      <td>True</td>\n",
       "      <td>van gogh</td>\n",
       "      <td>True</td>\n",
       "      <td>NaN</td>\n",
       "      <td>False</td>\n",
       "      <td>NaN</td>\n",
       "      <td>True</td>\n",
       "      <td>NaN</td>\n",
       "    </tr>\n",
       "  </tbody>\n",
       "</table>\n",
       "</div>"
      ],
      "text/plain": [
       "  16. Hieronder ziet u een aantal schilderijen. Kent u dit werk?  \\\n",
       "0                                               True               \n",
       "1                                               True               \n",
       "2                                               True               \n",
       "\n",
       "  17. Wie is de schilder? 18. Kent u dit werk? 19. Wie is de schilder?  \\\n",
       "0      Rembrandt van Rijn                 True                     NaN   \n",
       "1               rembrandt                 True                vergeten   \n",
       "2                van gogh                 True                     NaN   \n",
       "\n",
       "  20. Kent u dit werk? 21. Wie is de schilder? 22. Kent u dit werk?  \\\n",
       "0                False                     NaN                False   \n",
       "1                 True               rembrandt                 True   \n",
       "2                False                     NaN                 True   \n",
       "\n",
       "  23. Wie is de schilder?  \n",
       "0                       ?  \n",
       "1          pieter bruegel  \n",
       "2                     NaN  "
      ]
     },
     "execution_count": 140,
     "metadata": {},
     "output_type": "execute_result"
    }
   ],
   "source": [
    "df[\"16. Hieronder ziet u een aantal schilderijen. Kent u dit werk?\"] = raw_df.iloc[:,99] == 'Ja'\n",
    "df[\"18. Kent u dit werk?\"] = raw_df.iloc[:,99] == 'Ja'\n",
    "df[\"20. Kent u dit werk?\"] = raw_df.iloc[:,101] == 'Ja'\n",
    "df[\"22. Kent u dit werk?\"] = raw_df.iloc[:,103] == 'Ja'\n",
    "\n",
    "df.iloc[:3, 99:107]"
   ]
  },
  {
   "cell_type": "code",
   "execution_count": 141,
   "metadata": {
    "collapsed": false
   },
   "outputs": [
    {
     "data": {
      "text/plain": [
       "18. Kent u dit werk?                                              0.419941\n",
       "16. Hieronder ziet u een aantal schilderijen. Kent u dit werk?    0.419941\n",
       "22. Kent u dit werk?                                              0.407176\n",
       "20. Kent u dit werk?                                              0.234588\n",
       "dtype: float64"
      ]
     },
     "execution_count": 141,
     "metadata": {},
     "output_type": "execute_result"
    }
   ],
   "source": [
    "(df.iloc[:, 99:107].mean()).sort_values(ascending = False)"
   ]
  },
  {
   "cell_type": "code",
   "execution_count": 142,
   "metadata": {
    "collapsed": false
   },
   "outputs": [
    {
     "data": {
      "text/html": [
       "<div>\n",
       "<table border=\"1\" class=\"dataframe\">\n",
       "  <thead>\n",
       "    <tr style=\"text-align: right;\">\n",
       "      <th></th>\n",
       "      <th>24.1. Albrecht Dürer</th>\n",
       "      <th>24.2. Antoon van Dyck</th>\n",
       "      <th>24.3. Dirk Bouts</th>\n",
       "      <th>24.4. Hans Memling</th>\n",
       "      <th>24.5. Jacob Jordaens</th>\n",
       "      <th>24.6. Jan van Eyck</th>\n",
       "      <th>24.7. Paul Cézanne</th>\n",
       "      <th>24.8. Pieter Paul Rubens</th>\n",
       "      <th>24.9. Pieter Bruegel de Oude</th>\n",
       "      <th>24.10. Rembrandt van Rijn</th>\n",
       "      <th>24.11. René Magritte</th>\n",
       "      <th>24.12. Rogier van der Weyden</th>\n",
       "      <th>24.13. Jeroen Bosch</th>\n",
       "      <th>24.14. Vincent van Gogh</th>\n",
       "      <th>24.15. James Ensor</th>\n",
       "      <th>24.16. William Turner</th>\n",
       "      <th>24.17. Vlaamse Primitieven</th>\n",
       "      <th>24.18. Geen van bovenstaande</th>\n",
       "    </tr>\n",
       "  </thead>\n",
       "  <tbody>\n",
       "    <tr>\n",
       "      <th>0</th>\n",
       "      <td>False</td>\n",
       "      <td>False</td>\n",
       "      <td>False</td>\n",
       "      <td>False</td>\n",
       "      <td>False</td>\n",
       "      <td>False</td>\n",
       "      <td>False</td>\n",
       "      <td>True</td>\n",
       "      <td>False</td>\n",
       "      <td>True</td>\n",
       "      <td>False</td>\n",
       "      <td>False</td>\n",
       "      <td>False</td>\n",
       "      <td>True</td>\n",
       "      <td>False</td>\n",
       "      <td>False</td>\n",
       "      <td>NaN</td>\n",
       "      <td>NaN</td>\n",
       "    </tr>\n",
       "    <tr>\n",
       "      <th>1</th>\n",
       "      <td>True</td>\n",
       "      <td>True</td>\n",
       "      <td>False</td>\n",
       "      <td>True</td>\n",
       "      <td>False</td>\n",
       "      <td>True</td>\n",
       "      <td>True</td>\n",
       "      <td>True</td>\n",
       "      <td>True</td>\n",
       "      <td>True</td>\n",
       "      <td>False</td>\n",
       "      <td>True</td>\n",
       "      <td>True</td>\n",
       "      <td>True</td>\n",
       "      <td>False</td>\n",
       "      <td>False</td>\n",
       "      <td>NaN</td>\n",
       "      <td>NaN</td>\n",
       "    </tr>\n",
       "    <tr>\n",
       "      <th>2</th>\n",
       "      <td>False</td>\n",
       "      <td>False</td>\n",
       "      <td>False</td>\n",
       "      <td>False</td>\n",
       "      <td>False</td>\n",
       "      <td>False</td>\n",
       "      <td>False</td>\n",
       "      <td>False</td>\n",
       "      <td>False</td>\n",
       "      <td>True</td>\n",
       "      <td>False</td>\n",
       "      <td>False</td>\n",
       "      <td>False</td>\n",
       "      <td>True</td>\n",
       "      <td>False</td>\n",
       "      <td>False</td>\n",
       "      <td>NaN</td>\n",
       "      <td>NaN</td>\n",
       "    </tr>\n",
       "  </tbody>\n",
       "</table>\n",
       "</div>"
      ],
      "text/plain": [
       "  24.1. Albrecht Dürer 24.2. Antoon van Dyck 24.3. Dirk Bouts  \\\n",
       "0                False                 False            False   \n",
       "1                 True                  True            False   \n",
       "2                False                 False            False   \n",
       "\n",
       "  24.4. Hans Memling 24.5. Jacob Jordaens 24.6. Jan van Eyck  \\\n",
       "0              False                False              False   \n",
       "1               True                False               True   \n",
       "2              False                False              False   \n",
       "\n",
       "  24.7. Paul Cézanne 24.8. Pieter Paul Rubens 24.9. Pieter Bruegel de Oude  \\\n",
       "0              False                     True                        False   \n",
       "1               True                     True                         True   \n",
       "2              False                    False                        False   \n",
       "\n",
       "  24.10. Rembrandt van Rijn 24.11. René Magritte 24.12. Rogier van der Weyden  \\\n",
       "0                      True                False                        False   \n",
       "1                      True                False                         True   \n",
       "2                      True                False                        False   \n",
       "\n",
       "  24.13. Jeroen Bosch 24.14. Vincent van Gogh 24.15. James Ensor  \\\n",
       "0               False                    True              False   \n",
       "1                True                    True              False   \n",
       "2               False                    True              False   \n",
       "\n",
       "  24.16. William Turner 24.17. Vlaamse Primitieven  \\\n",
       "0                 False                        NaN   \n",
       "1                 False                        NaN   \n",
       "2                 False                        NaN   \n",
       "\n",
       "  24.18. Geen van bovenstaande  \n",
       "0                          NaN  \n",
       "1                          NaN  \n",
       "2                          NaN  "
      ]
     },
     "execution_count": 142,
     "metadata": {},
     "output_type": "execute_result"
    }
   ],
   "source": [
    "df[\"24.1. Albrecht Dürer\"] = raw_df[\"24.1. Albrecht Dürer\"] == 'Albrecht Dürer'\n",
    "df[\"24.2. Antoon van Dyck\"] = raw_df[\"24.2. Antoon van Dyck\"] == 'Antoon van Dyck'\n",
    "df[\"24.3. Dirk Bouts\"] = raw_df[\"24.3. Dirk Bouts\"] == 'Dirk Bouts'\n",
    "df[\"24.4. Hans Memling\"] = raw_df[\"24.4. Hans Memling\"] == 'Hans Memling'\n",
    "df[\"24.5. Jacob Jordaens\"] = raw_df[\"24.5. Jacob Jordaens\"] == 'Jacob Jordaens'\n",
    "df[\"24.6. Jan van Eyck\"] = raw_df[\"24.6. Jan van Eyck\"] == 'Jan van Eyck'\n",
    "df[\"24.7. Paul Cézanne\"] = raw_df[\"24.7. Paul Cézanne\"] == 'Paul Cézanne'\n",
    "df[\"24.8. Pieter Paul Rubens\"] = raw_df[\"24.8. Pieter Paul Rubens\"] == 'Pieter Paul Rubens'\n",
    "df[\"24.9. Pieter Bruegel de Oude\"] = raw_df[\"24.9. Pieter Bruegel de Oude\"] == 'Pieter Bruegel de Oude'\n",
    "df[\"24.10. Rembrandt van Rijn\"] = raw_df[\"24.10. Rembrandt van Rijn\"] == 'Rembrandt van Rijn'\n",
    "df[\"24.11. René Magritte\"] = raw_df[\"24.11. René Magritte\"] == 'René Magritte'\n",
    "df[\"24.12. Rogier van der Weyden\"] = raw_df[\"24.12. Rogier van der Weyden\"] == 'Rogier van der Weyden'\n",
    "df[\"24.13. Jeroen Bosch\"] = raw_df[\"24.13. Jeroen Bosch\"] == 'Jeroen Bosch'\n",
    "df[\"24.14. Vincent van Gogh\"] = raw_df[\"24.14. Vincent van Gogh\"] == 'Vincent van Gogh'\n",
    "df[\"24.15. James Ensor\"] = raw_df[\"24.15. James Ensor\"] == 'James Ensor'\n",
    "df[\"24.16. William Turner\"] = raw_df[\"24.16. William Turner\"] == 'William Turner'\n",
    "df.iloc[:3, 107:125]\n"
   ]
  },
  {
   "cell_type": "code",
   "execution_count": 143,
   "metadata": {
    "collapsed": false
   },
   "outputs": [
    {
     "data": {
      "text/plain": [
       "24.14. Vincent van Gogh         0.793647\n",
       "24.10. Rembrandt van Rijn       0.595412\n",
       "24.7. Paul Cézanne              0.459412\n",
       "24.8. Pieter Paul Rubens        0.433235\n",
       "24.1. Albrecht Dürer            0.268706\n",
       "24.16. William Turner           0.221235\n",
       "24.11. René Magritte            0.220118\n",
       "24.2. Antoon van Dyck           0.203882\n",
       "24.6. Jan van Eyck              0.198882\n",
       "24.9. Pieter Bruegel de Oude    0.157824\n",
       "24.13. Jeroen Bosch             0.142118\n",
       "24.5. Jacob Jordaens            0.066529\n",
       "24.12. Rogier van der Weyden    0.064353\n",
       "24.4. Hans Memling              0.059471\n",
       "24.3. Dirk Bouts                0.045588\n",
       "24.15. James Ensor              0.044353\n",
       "dtype: float64"
      ]
     },
     "execution_count": 143,
     "metadata": {},
     "output_type": "execute_result"
    }
   ],
   "source": [
    "(df.iloc[:, 107:125].mean()).sort_values(ascending = False)"
   ]
  },
  {
   "cell_type": "code",
   "execution_count": 144,
   "metadata": {
    "collapsed": false
   },
   "outputs": [
    {
     "data": {
      "text/html": [
       "<div>\n",
       "<table border=\"1\" class=\"dataframe\">\n",
       "  <thead>\n",
       "    <tr style=\"text-align: right;\">\n",
       "      <th></th>\n",
       "      <th>25.1. Anish Kapoor</th>\n",
       "      <th>25.2. Axel Vervoordt</th>\n",
       "      <th>25.3. Michaël Borremans</th>\n",
       "      <th>25.4. Damien Hirst</th>\n",
       "      <th>25.5. Daniël Ost</th>\n",
       "      <th>25.6. Jan De Cock</th>\n",
       "      <th>25.7. Wim Delvoye</th>\n",
       "      <th>25.8. Jan Fabre</th>\n",
       "      <th>25.9. Luc Tuymans</th>\n",
       "      <th>25.10. Marlene Dumas</th>\n",
       "      <th>25.11. Ai Wei Wei</th>\n",
       "      <th>25.12. Panamarenko</th>\n",
       "      <th>25.13. Geen van bovenstaande</th>\n",
       "    </tr>\n",
       "  </thead>\n",
       "  <tbody>\n",
       "    <tr>\n",
       "      <th>0</th>\n",
       "      <td>False</td>\n",
       "      <td>False</td>\n",
       "      <td>False</td>\n",
       "      <td>True</td>\n",
       "      <td>False</td>\n",
       "      <td>False</td>\n",
       "      <td>False</td>\n",
       "      <td>False</td>\n",
       "      <td>False</td>\n",
       "      <td>False</td>\n",
       "      <td>False</td>\n",
       "      <td>False</td>\n",
       "      <td>False</td>\n",
       "    </tr>\n",
       "    <tr>\n",
       "      <th>1</th>\n",
       "      <td>False</td>\n",
       "      <td>False</td>\n",
       "      <td>False</td>\n",
       "      <td>False</td>\n",
       "      <td>False</td>\n",
       "      <td>False</td>\n",
       "      <td>False</td>\n",
       "      <td>False</td>\n",
       "      <td>False</td>\n",
       "      <td>False</td>\n",
       "      <td>False</td>\n",
       "      <td>True</td>\n",
       "      <td>False</td>\n",
       "    </tr>\n",
       "    <tr>\n",
       "      <th>2</th>\n",
       "      <td>False</td>\n",
       "      <td>False</td>\n",
       "      <td>False</td>\n",
       "      <td>False</td>\n",
       "      <td>False</td>\n",
       "      <td>False</td>\n",
       "      <td>False</td>\n",
       "      <td>False</td>\n",
       "      <td>False</td>\n",
       "      <td>False</td>\n",
       "      <td>False</td>\n",
       "      <td>False</td>\n",
       "      <td>True</td>\n",
       "    </tr>\n",
       "  </tbody>\n",
       "</table>\n",
       "</div>"
      ],
      "text/plain": [
       "  25.1. Anish Kapoor 25.2. Axel Vervoordt 25.3. Michaël Borremans  \\\n",
       "0              False                False                   False   \n",
       "1              False                False                   False   \n",
       "2              False                False                   False   \n",
       "\n",
       "  25.4. Damien Hirst 25.5. Daniël Ost 25.6. Jan De Cock 25.7. Wim Delvoye  \\\n",
       "0               True            False             False             False   \n",
       "1              False            False             False             False   \n",
       "2              False            False             False             False   \n",
       "\n",
       "  25.8. Jan Fabre 25.9. Luc Tuymans 25.10. Marlene Dumas 25.11. Ai Wei Wei  \\\n",
       "0           False             False                False             False   \n",
       "1           False             False                False             False   \n",
       "2           False             False                False             False   \n",
       "\n",
       "  25.12. Panamarenko 25.13. Geen van bovenstaande  \n",
       "0              False                        False  \n",
       "1               True                        False  \n",
       "2              False                         True  "
      ]
     },
     "execution_count": 144,
     "metadata": {},
     "output_type": "execute_result"
    }
   ],
   "source": [
    "df[\"25.1. Anish Kapoor\"] = raw_df[\"25.1. Anish Kapoor\"] == 'Anish Kapoor'\n",
    "df[\"25.2. Axel Vervoordt\"] = raw_df[\"25.2. Axel Vervoordt\"] == 'Axel Vervoordt'\n",
    "df[\"25.3. Michaël Borremans\"] = raw_df[\"25.3. Michaël Borremans\"] == 'Michaël Borremans'\n",
    "df[\"25.4. Damien Hirst\"] = raw_df[\"25.4. Damien Hirst\"] == 'Damien Hirst'\n",
    "df[\"25.5. Daniël Ost\"] = raw_df[\"25.5. Daniël Ost\"] == 'Daniël Ost'\n",
    "df[\"25.6. Jan De Cock\"] = raw_df[\"25.6. Jan De Cock\"] == 'Jan De Cock'\n",
    "df[\"25.7. Wim Delvoye\"] = raw_df[\"25.7. Wim Delvoye\"] == 'Wim Delvoye'\n",
    "df[\"25.8. Jan Fabre\"] = raw_df[\"25.8. Jan Fabre\"] == 'Jan Fabre'\n",
    "df[\"25.9. Luc Tuymans\"] = raw_df[\"25.9. Luc Tuymans\"] == 'Luc Tuymans'\n",
    "df[\"25.10. Marlene Dumas\"] = raw_df[\"25.10. Marlene Dumas\"] == 'Marlene Dumas'\n",
    "df[\"25.11. Ai Wei Wei\"] = raw_df[\"25.11. Ai Wei Wei\"] == 'Ai Wei Wei'\n",
    "df[\"25.12. Panamarenko\"] = raw_df[\"25.12. Panamarenko\"] == 'Panamarenko'\n",
    "df[\"25.13. Geen van bovenstaande\"] = raw_df[\"25.13. Geen van bovenstaande\"] == 'Geen van bovenstaande'\n",
    "df.iloc[:3, 125:138]"
   ]
  },
  {
   "cell_type": "code",
   "execution_count": 145,
   "metadata": {
    "collapsed": false
   },
   "outputs": [
    {
     "data": {
      "text/plain": [
       "25.13. Geen van bovenstaande    0.601353\n",
       "25.4. Damien Hirst              0.141412\n",
       "25.11. Ai Wei Wei               0.107941\n",
       "25.10. Marlene Dumas            0.100176\n",
       "25.1. Anish Kapoor              0.095235\n",
       "25.8. Jan Fabre                 0.085294\n",
       "25.6. Jan De Cock               0.079176\n",
       "25.3. Michaël Borremans         0.070118\n",
       "25.5. Daniël Ost                0.063118\n",
       "25.2. Axel Vervoordt            0.061235\n",
       "25.9. Luc Tuymans               0.048059\n",
       "25.7. Wim Delvoye               0.046176\n",
       "25.12. Panamarenko              0.030882\n",
       "dtype: float64"
      ]
     },
     "execution_count": 145,
     "metadata": {},
     "output_type": "execute_result"
    }
   ],
   "source": [
    "(df.iloc[:, 125:138].mean()).sort_values(ascending = False)"
   ]
  },
  {
   "cell_type": "code",
   "execution_count": 146,
   "metadata": {
    "collapsed": false
   },
   "outputs": [
    {
     "data": {
      "text/html": [
       "<div>\n",
       "<table border=\"1\" class=\"dataframe\">\n",
       "  <thead>\n",
       "    <tr style=\"text-align: right;\">\n",
       "      <th></th>\n",
       "      <th>26.1. Een museum met een focus op topwerken boeit mij.</th>\n",
       "      <th>26.2. Inspiratieplekken (landschap, leefomgeving,...) van kunstenaars bezoeken/verkennen/ontdekken is interessant.</th>\n",
       "      <th>26.3. Ik bezoek enkel een museum met de collectie van een kunstenaar die ik ken.</th>\n",
       "      <th>26.4. Interpretaties van oude werken door hedendaagse kunstenaars zijn interessant.</th>\n",
       "      <th>26.5. Een beleving (themawandeling, doe-activiteit,...) over een kunstenaar spreekt me aan.</th>\n",
       "    </tr>\n",
       "  </thead>\n",
       "  <tbody>\n",
       "    <tr>\n",
       "      <th>0</th>\n",
       "      <td>NVT</td>\n",
       "      <td>NVT</td>\n",
       "      <td>NVT</td>\n",
       "      <td>NVT</td>\n",
       "      <td>NVT</td>\n",
       "    </tr>\n",
       "    <tr>\n",
       "      <th>1</th>\n",
       "      <td>Eerder eens</td>\n",
       "      <td>Eerder eens</td>\n",
       "      <td>Eerder eens</td>\n",
       "      <td>Eerder eens</td>\n",
       "      <td>Eerder eens</td>\n",
       "    </tr>\n",
       "    <tr>\n",
       "      <th>2</th>\n",
       "      <td>Helemaal eens</td>\n",
       "      <td>Eerder eens</td>\n",
       "      <td>Eerder eens</td>\n",
       "      <td>Eerder eens</td>\n",
       "      <td>Eerder eens</td>\n",
       "    </tr>\n",
       "    <tr>\n",
       "      <th>3</th>\n",
       "      <td>Eerder eens</td>\n",
       "      <td>Eerder eens</td>\n",
       "      <td>Eerder oneens</td>\n",
       "      <td>Eerder oneens</td>\n",
       "      <td>Eerder eens</td>\n",
       "    </tr>\n",
       "    <tr>\n",
       "      <th>4</th>\n",
       "      <td>Eerder eens</td>\n",
       "      <td>Eerder oneens</td>\n",
       "      <td>Helemaal eens</td>\n",
       "      <td>Eerder eens</td>\n",
       "      <td>Eerder eens</td>\n",
       "    </tr>\n",
       "    <tr>\n",
       "      <th>5</th>\n",
       "      <td>Eerder eens</td>\n",
       "      <td>Eerder eens</td>\n",
       "      <td>NVT</td>\n",
       "      <td>Helemaal eens</td>\n",
       "      <td>Eerder oneens</td>\n",
       "    </tr>\n",
       "    <tr>\n",
       "      <th>6</th>\n",
       "      <td>Helemaal eens</td>\n",
       "      <td>Eerder eens</td>\n",
       "      <td>Eerder oneens</td>\n",
       "      <td>Eerder eens</td>\n",
       "      <td>Eerder oneens</td>\n",
       "    </tr>\n",
       "    <tr>\n",
       "      <th>7</th>\n",
       "      <td>NVT</td>\n",
       "      <td>NVT</td>\n",
       "      <td>NVT</td>\n",
       "      <td>NVT</td>\n",
       "      <td>NVT</td>\n",
       "    </tr>\n",
       "    <tr>\n",
       "      <th>8</th>\n",
       "      <td>NVT</td>\n",
       "      <td>NVT</td>\n",
       "      <td>NVT</td>\n",
       "      <td>NVT</td>\n",
       "      <td>NVT</td>\n",
       "    </tr>\n",
       "    <tr>\n",
       "      <th>9</th>\n",
       "      <td>Eerder eens</td>\n",
       "      <td>Helemaal oneens</td>\n",
       "      <td>Eerder oneens</td>\n",
       "      <td>Eerder oneens</td>\n",
       "      <td>Eerder oneens</td>\n",
       "    </tr>\n",
       "  </tbody>\n",
       "</table>\n",
       "</div>"
      ],
      "text/plain": [
       "  26.1. Een museum met een focus op topwerken boeit mij.  \\\n",
       "0                                                NVT       \n",
       "1                                        Eerder eens       \n",
       "2                                      Helemaal eens       \n",
       "3                                        Eerder eens       \n",
       "4                                        Eerder eens       \n",
       "5                                        Eerder eens       \n",
       "6                                      Helemaal eens       \n",
       "7                                                NVT       \n",
       "8                                                NVT       \n",
       "9                                        Eerder eens       \n",
       "\n",
       "  26.2. Inspiratieplekken (landschap, leefomgeving,...) van kunstenaars bezoeken/verkennen/ontdekken is interessant.  \\\n",
       "0                                                NVT                                                                   \n",
       "1                                        Eerder eens                                                                   \n",
       "2                                        Eerder eens                                                                   \n",
       "3                                        Eerder eens                                                                   \n",
       "4                                      Eerder oneens                                                                   \n",
       "5                                        Eerder eens                                                                   \n",
       "6                                        Eerder eens                                                                   \n",
       "7                                                NVT                                                                   \n",
       "8                                                NVT                                                                   \n",
       "9                                    Helemaal oneens                                                                   \n",
       "\n",
       "  26.3. Ik bezoek enkel een museum met de collectie van een kunstenaar die ik ken.  \\\n",
       "0                                                NVT                                 \n",
       "1                                        Eerder eens                                 \n",
       "2                                        Eerder eens                                 \n",
       "3                                      Eerder oneens                                 \n",
       "4                                      Helemaal eens                                 \n",
       "5                                                NVT                                 \n",
       "6                                      Eerder oneens                                 \n",
       "7                                                NVT                                 \n",
       "8                                                NVT                                 \n",
       "9                                      Eerder oneens                                 \n",
       "\n",
       "  26.4. Interpretaties van oude werken door hedendaagse kunstenaars zijn interessant.  \\\n",
       "0                                                NVT                                    \n",
       "1                                        Eerder eens                                    \n",
       "2                                        Eerder eens                                    \n",
       "3                                      Eerder oneens                                    \n",
       "4                                        Eerder eens                                    \n",
       "5                                      Helemaal eens                                    \n",
       "6                                        Eerder eens                                    \n",
       "7                                                NVT                                    \n",
       "8                                                NVT                                    \n",
       "9                                      Eerder oneens                                    \n",
       "\n",
       "  26.5. Een beleving (themawandeling, doe-activiteit,...) over een kunstenaar spreekt me aan.  \n",
       "0                                                NVT                                           \n",
       "1                                        Eerder eens                                           \n",
       "2                                        Eerder eens                                           \n",
       "3                                        Eerder eens                                           \n",
       "4                                        Eerder eens                                           \n",
       "5                                      Eerder oneens                                           \n",
       "6                                      Eerder oneens                                           \n",
       "7                                                NVT                                           \n",
       "8                                                NVT                                           \n",
       "9                                      Eerder oneens                                           "
      ]
     },
     "execution_count": 146,
     "metadata": {},
     "output_type": "execute_result"
    }
   ],
   "source": [
    "df[\"26.1. Een museum met een focus op topwerken boeit mij.\"] = pd.Categorical(raw_df.iloc[:,138], \n",
    "            categories=['NVT', 'Helemaal oneens','Eerder oneens', 'Eerder eens','Helemaal eens'],\n",
    "            ordered=True)\n",
    "df[\"26.2. Inspiratieplekken (landschap, leefomgeving,...) van kunstenaars bezoeken/verkennen/ontdekken is interessant.\"] = pd.Categorical(raw_df.iloc[:,139], \n",
    "            categories=['NVT', 'Helemaal oneens','Eerder oneens', 'Eerder eens','Helemaal eens'],\n",
    "            ordered=True)\n",
    "df[\"26.3. Ik bezoek enkel een museum met de collectie van een kunstenaar die ik ken.\"] = pd.Categorical(raw_df.iloc[:,140], \n",
    "            categories=['NVT', 'Helemaal oneens','Eerder oneens', 'Eerder eens','Helemaal eens'],\n",
    "            ordered=True)\n",
    "df[\"26.4. Interpretaties van oude werken door hedendaagse kunstenaars zijn interessant.\"] = pd.Categorical(raw_df.iloc[:,141], \n",
    "            categories=['NVT', 'Helemaal oneens','Eerder oneens', 'Eerder eens','Helemaal eens'],\n",
    "            ordered=True)\n",
    "df[\"26.5. Een beleving (themawandeling, doe-activiteit,...) over een kunstenaar spreekt me aan.\"] = pd.Categorical(raw_df.iloc[:,142], \n",
    "            categories=['NVT', 'Helemaal oneens','Eerder oneens', 'Eerder eens','Helemaal eens'],\n",
    "            ordered=True)\n",
    "\n",
    "df.iloc[:10, 138:143]"
   ]
  },
  {
   "cell_type": "code",
   "execution_count": 147,
   "metadata": {
    "collapsed": false
   },
   "outputs": [
    {
     "data": {
      "text/html": [
       "<div>\n",
       "<table border=\"1\" class=\"dataframe\">\n",
       "  <thead>\n",
       "    <tr style=\"text-align: right;\">\n",
       "      <th></th>\n",
       "      <th>27. Kent u de term 'Vlaamse Meesters'?</th>\n",
       "      <th>28. Omschrijf met een aantal kernwoorden wat u onder het begrip 'Vlaamse meesters' begrijpt?</th>\n",
       "    </tr>\n",
       "  </thead>\n",
       "  <tbody>\n",
       "    <tr>\n",
       "      <th>0</th>\n",
       "      <td>False</td>\n",
       "      <td>NaN</td>\n",
       "    </tr>\n",
       "    <tr>\n",
       "      <th>1</th>\n",
       "      <td>True</td>\n",
       "      <td>de schilders uit vlaamse belgie</td>\n",
       "    </tr>\n",
       "    <tr>\n",
       "      <th>2</th>\n",
       "      <td>False</td>\n",
       "      <td>NaN</td>\n",
       "    </tr>\n",
       "  </tbody>\n",
       "</table>\n",
       "</div>"
      ],
      "text/plain": [
       "  27. Kent u de term 'Vlaamse Meesters'?  \\\n",
       "0                                  False   \n",
       "1                                   True   \n",
       "2                                  False   \n",
       "\n",
       "  28. Omschrijf met een aantal kernwoorden wat u onder het begrip 'Vlaamse meesters' begrijpt?  \n",
       "0                                                NaN                                            \n",
       "1                    de schilders uit vlaamse belgie                                            \n",
       "2                                                NaN                                            "
      ]
     },
     "execution_count": 147,
     "metadata": {},
     "output_type": "execute_result"
    }
   ],
   "source": [
    "df[\"27. Kent u de term 'Vlaamse Meesters'?\"] = raw_df.iloc[:,143] == 'Ja'\n",
    "df.iloc[:3, 143:145]"
   ]
  },
  {
   "cell_type": "code",
   "execution_count": 148,
   "metadata": {
    "collapsed": false
   },
   "outputs": [
    {
     "data": {
      "text/plain": [
       "27. Kent u de term 'Vlaamse Meesters'?    0.501471\n",
       "dtype: float64"
      ]
     },
     "execution_count": 148,
     "metadata": {},
     "output_type": "execute_result"
    }
   ],
   "source": [
    "(df.iloc[:, 143:144].mean()).sort_values(ascending = False)"
   ]
  },
  {
   "cell_type": "code",
   "execution_count": 149,
   "metadata": {
    "collapsed": false
   },
   "outputs": [
    {
     "data": {
      "text/html": [
       "<div>\n",
       "<table border=\"1\" class=\"dataframe\">\n",
       "  <thead>\n",
       "    <tr style=\"text-align: right;\">\n",
       "      <th></th>\n",
       "      <th>29.1. 1</th>\n",
       "      <th>29.2. 2</th>\n",
       "      <th>29.3. 3</th>\n",
       "    </tr>\n",
       "  </thead>\n",
       "  <tbody>\n",
       "    <tr>\n",
       "      <th>0</th>\n",
       "      <td>?</td>\n",
       "      <td>NaN</td>\n",
       "      <td>NaN</td>\n",
       "    </tr>\n",
       "    <tr>\n",
       "      <th>1</th>\n",
       "      <td>Pieter Brueghel</td>\n",
       "      <td>Peter Paul Rubens</td>\n",
       "      <td>Jacob van Es</td>\n",
       "    </tr>\n",
       "    <tr>\n",
       "      <th>2</th>\n",
       "      <td>geen idee</td>\n",
       "      <td>NaN</td>\n",
       "      <td>NaN</td>\n",
       "    </tr>\n",
       "  </tbody>\n",
       "</table>\n",
       "</div>"
      ],
      "text/plain": [
       "           29.1. 1            29.2. 2       29.3. 3\n",
       "0                ?                NaN           NaN\n",
       "1  Pieter Brueghel  Peter Paul Rubens  Jacob van Es\n",
       "2        geen idee                NaN           NaN"
      ]
     },
     "execution_count": 149,
     "metadata": {},
     "output_type": "execute_result"
    }
   ],
   "source": [
    "df.iloc[:3, 145:148]"
   ]
  },
  {
   "cell_type": "code",
   "execution_count": 150,
   "metadata": {
    "collapsed": false
   },
   "outputs": [
    {
     "data": {
      "text/html": [
       "<div>\n",
       "<table border=\"1\" class=\"dataframe\">\n",
       "  <thead>\n",
       "    <tr style=\"text-align: right;\">\n",
       "      <th></th>\n",
       "      <th>30.1. Albrecht Dürer</th>\n",
       "      <th>30.2. Antoon van Dyck</th>\n",
       "      <th>30.3. Dirk Bouts</th>\n",
       "      <th>30.4. Hans Memling</th>\n",
       "      <th>30.5. Jacob Jordaens</th>\n",
       "      <th>30.6. Jan van Eyck</th>\n",
       "      <th>30.7. Paul Cézanne</th>\n",
       "      <th>30.8. Pieter Paul Rubens</th>\n",
       "      <th>30.9. Pieter Bruegel de Oude</th>\n",
       "      <th>30.10. Rembrandt van Rijn</th>\n",
       "      <th>30.11. René Magritte</th>\n",
       "      <th>30.12. Rogier van der Weyden</th>\n",
       "      <th>30.13. Jeroen Bosch</th>\n",
       "      <th>30.14. Vincent van Gogh</th>\n",
       "      <th>30.15. James Ensor</th>\n",
       "      <th>30.16. William Turner</th>\n",
       "      <th>30.17. Geen van bovenstaande</th>\n",
       "    </tr>\n",
       "  </thead>\n",
       "  <tbody>\n",
       "    <tr>\n",
       "      <th>0</th>\n",
       "      <td>False</td>\n",
       "      <td>False</td>\n",
       "      <td>False</td>\n",
       "      <td>False</td>\n",
       "      <td>False</td>\n",
       "      <td>False</td>\n",
       "      <td>False</td>\n",
       "      <td>False</td>\n",
       "      <td>False</td>\n",
       "      <td>False</td>\n",
       "      <td>False</td>\n",
       "      <td>False</td>\n",
       "      <td>False</td>\n",
       "      <td>False</td>\n",
       "      <td>False</td>\n",
       "      <td>False</td>\n",
       "      <td>True</td>\n",
       "    </tr>\n",
       "    <tr>\n",
       "      <th>1</th>\n",
       "      <td>False</td>\n",
       "      <td>True</td>\n",
       "      <td>False</td>\n",
       "      <td>False</td>\n",
       "      <td>True</td>\n",
       "      <td>True</td>\n",
       "      <td>False</td>\n",
       "      <td>True</td>\n",
       "      <td>True</td>\n",
       "      <td>False</td>\n",
       "      <td>False</td>\n",
       "      <td>False</td>\n",
       "      <td>False</td>\n",
       "      <td>True</td>\n",
       "      <td>False</td>\n",
       "      <td>False</td>\n",
       "      <td>False</td>\n",
       "    </tr>\n",
       "    <tr>\n",
       "      <th>2</th>\n",
       "      <td>False</td>\n",
       "      <td>False</td>\n",
       "      <td>False</td>\n",
       "      <td>False</td>\n",
       "      <td>False</td>\n",
       "      <td>False</td>\n",
       "      <td>False</td>\n",
       "      <td>False</td>\n",
       "      <td>False</td>\n",
       "      <td>True</td>\n",
       "      <td>False</td>\n",
       "      <td>False</td>\n",
       "      <td>False</td>\n",
       "      <td>True</td>\n",
       "      <td>False</td>\n",
       "      <td>False</td>\n",
       "      <td>False</td>\n",
       "    </tr>\n",
       "  </tbody>\n",
       "</table>\n",
       "</div>"
      ],
      "text/plain": [
       "  30.1. Albrecht Dürer 30.2. Antoon van Dyck 30.3. Dirk Bouts  \\\n",
       "0                False                 False            False   \n",
       "1                False                  True            False   \n",
       "2                False                 False            False   \n",
       "\n",
       "  30.4. Hans Memling 30.5. Jacob Jordaens 30.6. Jan van Eyck  \\\n",
       "0              False                False              False   \n",
       "1              False                 True               True   \n",
       "2              False                False              False   \n",
       "\n",
       "  30.7. Paul Cézanne 30.8. Pieter Paul Rubens 30.9. Pieter Bruegel de Oude  \\\n",
       "0              False                    False                        False   \n",
       "1              False                     True                         True   \n",
       "2              False                    False                        False   \n",
       "\n",
       "  30.10. Rembrandt van Rijn 30.11. René Magritte 30.12. Rogier van der Weyden  \\\n",
       "0                     False                False                        False   \n",
       "1                     False                False                        False   \n",
       "2                      True                False                        False   \n",
       "\n",
       "  30.13. Jeroen Bosch 30.14. Vincent van Gogh 30.15. James Ensor  \\\n",
       "0               False                   False              False   \n",
       "1               False                    True              False   \n",
       "2               False                    True              False   \n",
       "\n",
       "  30.16. William Turner 30.17. Geen van bovenstaande  \n",
       "0                 False                         True  \n",
       "1                 False                        False  \n",
       "2                 False                        False  "
      ]
     },
     "execution_count": 150,
     "metadata": {},
     "output_type": "execute_result"
    }
   ],
   "source": [
    "df[\"30.1. Albrecht Dürer\"] = raw_df.iloc[:,148] == 'Albrecht Dürer'\n",
    "df[\"30.2. Antoon van Dyck\"] = raw_df.iloc[:,149] == 'Antoon van Dyck'\n",
    "df[\"30.3. Dirk Bouts\"] = raw_df.iloc[:,150] == 'Dirk Bouts'\n",
    "df[\"30.4. Hans Memling\"] = raw_df.iloc[:,151] == 'Hans Memling'\n",
    "df[\"30.5. Jacob Jordaens\"] = raw_df.iloc[:,152] == 'Jacob Jordaens'\n",
    "df[\"30.6. Jan van Eyck\"] = raw_df.iloc[:,153] == 'Jan van Eyck'\n",
    "df[\"30.7. Paul Cézanne\"] = raw_df.iloc[:,154] == 'Paul Cézanne'\n",
    "df[\"30.8. Pieter Paul Rubens\"] = raw_df.iloc[:,155] == 'Pieter Paul Rubens'\n",
    "df[\"30.9. Pieter Bruegel de Oude\"] = raw_df.iloc[:,156] == 'Pieter Bruegel de Oude'\n",
    "df[\"30.10. Rembrandt van Rijn\"] = raw_df.iloc[:,157] == 'Rembrandt van Rijn'\n",
    "df[\"30.11. René Magritte\"] = raw_df.iloc[:,158] == 'René Magritte'\n",
    "df[\"30.12. Rogier van der Weyden\"] = raw_df.iloc[:,159] == 'Rogier van der Weyden'\n",
    "df[\"30.13. Jeroen Bosch\"] = raw_df.iloc[:,160] == 'Jeroen Bosch'\n",
    "df[\"30.14. Vincent van Gogh\"] = raw_df.iloc[:,161] == 'Vincent van Gogh'\n",
    "df[\"30.15. James Ensor\"] = raw_df.iloc[:,162] == 'James Ensor'\n",
    "df[\"30.16. William Turner\"] = raw_df.iloc[:,163] == 'William Turner'\n",
    "df[\"30.17. Geen van bovenstaande\"] = raw_df.iloc[:,164] == 'Geen van bovenstaande'\n",
    "df.iloc[:3, 148:165]"
   ]
  },
  {
   "cell_type": "code",
   "execution_count": 151,
   "metadata": {
    "collapsed": false
   },
   "outputs": [
    {
     "data": {
      "text/plain": [
       "30.17. Geen van bovenstaande    0.336412\n",
       "30.6. Jan van Eyck              0.246647\n",
       "30.2. Antoon van Dyck           0.241882\n",
       "30.8. Pieter Paul Rubens        0.236235\n",
       "30.10. Rembrandt van Rijn       0.212588\n",
       "30.14. Vincent van Gogh         0.186176\n",
       "30.9. Pieter Bruegel de Oude    0.167294\n",
       "30.12. Rogier van der Weyden    0.125647\n",
       "30.1. Albrecht Dürer            0.090412\n",
       "30.5. Jacob Jordaens            0.082529\n",
       "30.4. Hans Memling              0.081588\n",
       "30.13. Jeroen Bosch             0.081529\n",
       "30.11. René Magritte            0.081235\n",
       "30.7. Paul Cézanne              0.079882\n",
       "30.3. Dirk Bouts                0.069588\n",
       "30.15. James Ensor              0.032353\n",
       "30.16. William Turner           0.023882\n",
       "dtype: float64"
      ]
     },
     "execution_count": 151,
     "metadata": {},
     "output_type": "execute_result"
    }
   ],
   "source": [
    "(df.iloc[:, 148:165].mean()).sort_values(ascending = False)"
   ]
  },
  {
   "cell_type": "code",
   "execution_count": 152,
   "metadata": {
    "collapsed": false
   },
   "outputs": [
    {
     "data": {
      "text/html": [
       "<div>\n",
       "<table border=\"1\" class=\"dataframe\">\n",
       "  <thead>\n",
       "    <tr style=\"text-align: right;\">\n",
       "      <th></th>\n",
       "      <th>31.1. Pieter Paul Rubens</th>\n",
       "      <th>31.2. Jan van Eyck (Lam Gods)</th>\n",
       "      <th>31.3. Pieter Bruegel de Oude</th>\n",
       "    </tr>\n",
       "  </thead>\n",
       "  <tbody>\n",
       "    <tr>\n",
       "      <th>0</th>\n",
       "      <td>NaN</td>\n",
       "      <td>NaN</td>\n",
       "      <td>NaN</td>\n",
       "    </tr>\n",
       "    <tr>\n",
       "      <th>1</th>\n",
       "      <td>Antwerpen</td>\n",
       "      <td>Brugge</td>\n",
       "      <td>Brussel</td>\n",
       "    </tr>\n",
       "    <tr>\n",
       "      <th>2</th>\n",
       "      <td>NaN</td>\n",
       "      <td>NaN</td>\n",
       "      <td>NaN</td>\n",
       "    </tr>\n",
       "  </tbody>\n",
       "</table>\n",
       "</div>"
      ],
      "text/plain": [
       "  31.1. Pieter Paul Rubens 31.2. Jan van Eyck (Lam Gods)  \\\n",
       "0                      NaN                           NaN   \n",
       "1                Antwerpen                        Brugge   \n",
       "2                      NaN                           NaN   \n",
       "\n",
       "  31.3. Pieter Bruegel de Oude  \n",
       "0                          NaN  \n",
       "1                      Brussel  \n",
       "2                          NaN  "
      ]
     },
     "execution_count": 152,
     "metadata": {},
     "output_type": "execute_result"
    }
   ],
   "source": [
    "df[\"31.1. Pieter Paul Rubens\"] = pd.Categorical(raw_df.iloc[:,165], \n",
    "            categories=['Brussel', 'Leuven', 'Mechelen', 'Brugge', 'Gent', 'Antwerpen', 'Niet van toepassing / weet niet'],\n",
    "            ordered=False)\n",
    "df[\"31.2. Jan van Eyck (Lam Gods)\"] = pd.Categorical(raw_df.iloc[:,166], \n",
    "            categories=['Brussel', 'Leuven', 'Mechelen', 'Brugge', 'Gent', 'Antwerpen', 'Niet van toepassing / weet niet'],\n",
    "            ordered=False)\n",
    "df[\"31.3. Pieter Bruegel de Oude\"] = pd.Categorical(raw_df.iloc[:,167], \n",
    "            categories=['Brussel', 'Leuven', 'Mechelen', 'Brugge', 'Gent', 'Antwerpen', 'Niet van toepassing / weet niet'],\n",
    "            ordered=False)\n",
    "df.iloc[:3, 165:168]\n"
   ]
  },
  {
   "cell_type": "code",
   "execution_count": 153,
   "metadata": {
    "collapsed": false
   },
   "outputs": [
    {
     "data": {
      "text/html": [
       "<div>\n",
       "<table border=\"1\" class=\"dataframe\">\n",
       "  <thead>\n",
       "    <tr style=\"text-align: right;\">\n",
       "      <th></th>\n",
       "      <th>32. Zou u een citytrip naar Brussel/Vlaanderen laten beïnvloeden door de huidige terreurdreiging?</th>\n",
       "      <th>33. Wat is uw geslacht</th>\n",
       "      <th>34. Wat is de samenstelling van uw huishouden?</th>\n",
       "      <th>35. Wat is uw hoogst genoten opleiding?</th>\n",
       "    </tr>\n",
       "  </thead>\n",
       "  <tbody>\n",
       "    <tr>\n",
       "      <th>0</th>\n",
       "      <td>Misschien</td>\n",
       "      <td>Vrouw</td>\n",
       "      <td>Gehuwd/samenwonend met kind(eren), jongste kin...</td>\n",
       "      <td>Hoger humaniora, beroeps- of technisch onderwijs</td>\n",
       "    </tr>\n",
       "    <tr>\n",
       "      <th>1</th>\n",
       "      <td>Ja</td>\n",
       "      <td>Man</td>\n",
       "      <td>Gehuwd/samenwonend zonder kind(eren)</td>\n",
       "      <td>Universitair/postuniversitair onderwijs (Master)</td>\n",
       "    </tr>\n",
       "    <tr>\n",
       "      <th>2</th>\n",
       "      <td>Ja</td>\n",
       "      <td>Vrouw</td>\n",
       "      <td>Gehuwd/samenwonend zonder kind(eren)</td>\n",
       "      <td>Hoger humaniora, beroeps- of technisch onderwijs</td>\n",
       "    </tr>\n",
       "  </tbody>\n",
       "</table>\n",
       "</div>"
      ],
      "text/plain": [
       "  32. Zou u een citytrip naar Brussel/Vlaanderen laten beïnvloeden door de huidige terreurdreiging?  \\\n",
       "0                                          Misschien                                                  \n",
       "1                                                 Ja                                                  \n",
       "2                                                 Ja                                                  \n",
       "\n",
       "  33. Wat is uw geslacht     34. Wat is de samenstelling van uw huishouden?  \\\n",
       "0                  Vrouw  Gehuwd/samenwonend met kind(eren), jongste kin...   \n",
       "1                    Man               Gehuwd/samenwonend zonder kind(eren)   \n",
       "2                  Vrouw               Gehuwd/samenwonend zonder kind(eren)   \n",
       "\n",
       "            35. Wat is uw hoogst genoten opleiding?  \n",
       "0  Hoger humaniora, beroeps- of technisch onderwijs  \n",
       "1  Universitair/postuniversitair onderwijs (Master)  \n",
       "2  Hoger humaniora, beroeps- of technisch onderwijs  "
      ]
     },
     "execution_count": 153,
     "metadata": {},
     "output_type": "execute_result"
    }
   ],
   "source": [
    "df[\"32. Zou u een citytrip naar Brussel/Vlaanderen laten beïnvloeden door de huidige terreurdreiging?\"] = pd.Categorical(raw_df.iloc[:,168], \n",
    "            categories=[ 'Ja', 'Misschien','Neen'],\n",
    "            ordered=True)\n",
    "df[\"33. Wat is uw geslacht\"] = pd.Categorical(raw_df.iloc[:,169], \n",
    "            categories=[ 'Vrouw', 'Man'],\n",
    "            ordered=False)\n",
    "df[\"34. Wat is de samenstelling van uw huishouden?\"] = pd.Categorical(raw_df.iloc[:,170], \n",
    "            categories=[ 'Gehuwd/samenwonend met kind(eren), jongste kind 12 jaar of ouder',\n",
    "       'Gehuwd/samenwonend zonder kind(eren)',\n",
    "       'Inwonend bij (groot)ouders/familie',\n",
    "       'Gehuwd/samenwonend, met uitsluitend uitwonende kinderen',\n",
    "       'Geen van bovenstaande', 'Alleenstaand zonder kind(eren)',\n",
    "       'Gehuwd/samenwonend met kind(eren), jongste kind jonger dan 12',\n",
    "       'Alleenstaand met kind(eren), jongste kind jonger dan 12',\n",
    "       'Alleenstaand met kind(eren), jongste kind 12 jaar of ouder',\n",
    "       'Studentenhuis, woongemeenschap'],\n",
    "            ordered=False)\n",
    "df[\"35. Wat is uw hoogst genoten opleiding?\"] = pd.Categorical(raw_df.iloc[:,171], \n",
    "            categories=['Lager onderwijs of lager humaniora, beroeps- of technisch onderwijs',\n",
    "                        'Hoger humaniora, beroeps- of technisch onderwijs',\n",
    "                        'Hoger niet-universitair onderwijs (Bachelor)',\n",
    "                        'Universitair/postuniversitair onderwijs (Master)'], \n",
    "            ordered=True)\n",
    "df.iloc[:3, 168:172]"
   ]
  },
  {
   "cell_type": "code",
   "execution_count": 154,
   "metadata": {
    "collapsed": false
   },
   "outputs": [
    {
     "data": {
      "text/plain": [
       "[Hoger humaniora, beroeps- of technisch onderwijs, Universitair/postuniversitair onderwijs (Master), Hoger niet-universitair onderwijs (Bachelor), Lager onderwijs of lager humaniora, beroeps- o...]\n",
       "Categories (4, object): [Lager onderwijs of lager humaniora, beroeps- o... < Hoger humaniora, beroeps- of technisch onderwijs < Hoger niet-universitair onderwijs (Bachelor) < Universitair/postuniversitair onderwijs (Master)]"
      ]
     },
     "execution_count": 154,
     "metadata": {},
     "output_type": "execute_result"
    }
   ],
   "source": [
    "df.iloc[:,171].unique()"
   ]
  },
  {
   "cell_type": "markdown",
   "metadata": {},
   "source": [
    "## List features\n"
   ]
  },
  {
   "cell_type": "code",
   "execution_count": 155,
   "metadata": {
    "collapsed": false
   },
   "outputs": [
    {
     "data": {
      "text/plain": [
       "['Respondent',\n",
       " 'Taal',\n",
       " 'Datum geantwoord',\n",
       " 'Distributiemethode',\n",
       " 'Einde bereikt',\n",
       " 'Invultijd (seconden)',\n",
       " 'Browser',\n",
       " 'Besturingssysteem',\n",
       " 'IP',\n",
       " 'Locatie (via IP)',\n",
       " 'Verwijzende sites',\n",
       " '1. ID',\n",
       " '2. Country',\n",
       " '3. Study number',\n",
       " '4. Wat is uw geboortejaar?',\n",
       " '5. Bent u in de afgelopen 3 jaar wel eens voor vakantie in het buitenland geweest?',\n",
       " '6.1. Strandvakantie',\n",
       " '6.2. Stedentrip',\n",
       " '6.3. Wintersportvakantie',\n",
       " '6.4. Wandelvakantie',\n",
       " '6.5. Fietsvakantie',\n",
       " '6.6. Wellnessvakantie',\n",
       " '6.7. Gastronomische of culinaire vakantie',\n",
       " '6.8. Vakantie in het groen met (af en toe) uitstappen',\n",
       " '6.9. Rondreis',\n",
       " '6.10. Cruise',\n",
       " '6.11. Culturele reis',\n",
       " '6.12. Ander, gelieve te specificeren',\n",
       " '6.13. Geen van bovenstaande',\n",
       " '7.1. Afstand',\n",
       " '7.2. Historisch erfgoed',\n",
       " '7.3. Eten',\n",
       " '7.4. Cultuur',\n",
       " '7.5. Natuur',\n",
       " '7.6. Prijs',\n",
       " '7.7. Kust',\n",
       " '7.8. Sport',\n",
       " '7.9. Festival, evenement of tentoonstelling',\n",
       " '7.10. Kunst',\n",
       " '7.11. Variatie aan activiteiten',\n",
       " \"8.1. Reisprogramma's op tv/radio\",\n",
       " '8.2. Websites van (online) touroperators / reisagenten',\n",
       " '8.3. Websites waarop consumenten reiservaringen en verhalen delen/uitwisselen (reisblogs)',\n",
       " '8.4. Websites met beoordelingen/reviews van reizigers',\n",
       " '8.5. Reismagazines',\n",
       " '8.6. Vrienden, familie en kennissen',\n",
       " '8.7. Reisbijlages/ - artikelen in kranten',\n",
       " '8.8. Cultuurmagazines',\n",
       " '8.9. Officiële website van toeristische organisatie (bv. VisitBritain, VisittheUSA,...)',\n",
       " '8.10. Sociale media',\n",
       " '9.1. Facebook',\n",
       " '9.2. Twitter',\n",
       " '9.3. Youtube',\n",
       " '9.4. Pinterest',\n",
       " '9.5. Instagram',\n",
       " '9.6. LinkedIn',\n",
       " '9.7. Google+',\n",
       " '9.8. Flickr',\n",
       " '9.9. Tumblr',\n",
       " '9.10. Vine',\n",
       " '9.11. Snapchat',\n",
       " '9.12. Whatsapp',\n",
       " '9.13. Foursquare',\n",
       " '9.14. Orkut',\n",
       " '9.15. Weibo',\n",
       " '9.16. We Chat',\n",
       " '9.17. VKontakte',\n",
       " '9.18. Ander, gelieve te specificeren',\n",
       " '9.19. Ik gebruik geen sociale media',\n",
       " '10.1. In eigen land',\n",
       " '10.2. In buitenland',\n",
       " '11.1. Museum voor oude of schone kunsten',\n",
       " '11.2. Museum voor hedendaagse of actuele kunst',\n",
       " '11.3. Museum voor natuurkunde, technologie of wetenschap',\n",
       " '11.4. Museum voor geschiedenis, volkskunde of archeologie',\n",
       " '11.5. Museum voor toegepaste kunst, mode, diamant, design, strips',\n",
       " '11.6. Geen van bovenstaande',\n",
       " '12.1. Aanbod in eigen taal',\n",
       " '12.2. Aanwezigheid van topwerken',\n",
       " '12.3. Gidsen en gegidste rondleidingen',\n",
       " '12.4. Audioguide/apps',\n",
       " '12.5. Interactief aanbod (virtual reality, doe-activiteiten, gebruik van touchscreens,...)',\n",
       " '12.6. Aanbod voor kinderen',\n",
       " '12.7. Museumshop',\n",
       " '13. Als u op reis bent naar het buitenland, bezoekt u dan soms plaatsen of evenementen gelinkt aan kunst en cultuur?',\n",
       " '14.1. Musea met kunstcollectie',\n",
       " '14.2. Kunstgalerijen',\n",
       " '14.3. Historische gebouwen',\n",
       " '14.4. Kerken, kathedralen',\n",
       " '14.5. Tentoonstelling',\n",
       " '14.6. Geboortehuis, woning,... van een kunstenaar',\n",
       " '14.7. Routes en rondleidingen',\n",
       " '14.8. Evenementen',\n",
       " '14.9. Geen van bovenstaande',\n",
       " '15.1. 1',\n",
       " '15.2. 2',\n",
       " '15.3. 3',\n",
       " '15.4. 4',\n",
       " '15.5. 5',\n",
       " '16. Hieronder ziet u een aantal schilderijen. Kent u dit werk?',\n",
       " '17. Wie is de schilder?',\n",
       " '18. Kent u dit werk?',\n",
       " '19. Wie is de schilder?',\n",
       " '20. Kent u dit werk?',\n",
       " '21. Wie is de schilder?',\n",
       " '22. Kent u dit werk?',\n",
       " '23. Wie is de schilder?',\n",
       " '24.1. Albrecht Dürer',\n",
       " '24.2. Antoon van Dyck',\n",
       " '24.3. Dirk Bouts',\n",
       " '24.4. Hans Memling',\n",
       " '24.5. Jacob Jordaens',\n",
       " '24.6. Jan van Eyck',\n",
       " '24.7. Paul Cézanne',\n",
       " '24.8. Pieter Paul Rubens',\n",
       " '24.9. Pieter Bruegel de Oude',\n",
       " '24.10. Rembrandt van Rijn',\n",
       " '24.11. René Magritte',\n",
       " '24.12. Rogier van der Weyden',\n",
       " '24.13. Jeroen Bosch',\n",
       " '24.14. Vincent van Gogh',\n",
       " '24.15. James Ensor',\n",
       " '24.16. William Turner',\n",
       " '24.17. Vlaamse Primitieven',\n",
       " '24.18. Geen van bovenstaande',\n",
       " '25.1. Anish Kapoor',\n",
       " '25.2. Axel Vervoordt',\n",
       " '25.3. Michaël Borremans',\n",
       " '25.4. Damien Hirst',\n",
       " '25.5. Daniël Ost',\n",
       " '25.6. Jan De Cock',\n",
       " '25.7. Wim Delvoye',\n",
       " '25.8. Jan Fabre',\n",
       " '25.9. Luc Tuymans',\n",
       " '25.10. Marlene Dumas',\n",
       " '25.11. Ai Wei Wei',\n",
       " '25.12. Panamarenko',\n",
       " '25.13. Geen van bovenstaande',\n",
       " '26.1. Een museum met een focus op topwerken boeit mij.',\n",
       " '26.2. Inspiratieplekken (landschap, leefomgeving,...) van kunstenaars bezoeken/verkennen/ontdekken is interessant.',\n",
       " '26.3. Ik bezoek enkel een museum met de collectie van een kunstenaar die ik ken.',\n",
       " '26.4. Interpretaties van oude werken door hedendaagse kunstenaars zijn interessant.',\n",
       " '26.5. Een beleving (themawandeling, doe-activiteit,...) over een kunstenaar spreekt me aan.',\n",
       " \"27. Kent u de term 'Vlaamse Meesters'?\",\n",
       " \"28. Omschrijf met een aantal kernwoorden wat u onder het begrip 'Vlaamse meesters' begrijpt?\",\n",
       " '29.1. 1',\n",
       " '29.2. 2',\n",
       " '29.3. 3',\n",
       " '30.1. Albrecht Dürer',\n",
       " '30.2. Antoon van Dyck',\n",
       " '30.3. Dirk Bouts',\n",
       " '30.4. Hans Memling',\n",
       " '30.5. Jacob Jordaens',\n",
       " '30.6. Jan van Eyck',\n",
       " '30.7. Paul Cézanne',\n",
       " '30.8. Pieter Paul Rubens',\n",
       " '30.9. Pieter Bruegel de Oude',\n",
       " '30.10. Rembrandt van Rijn',\n",
       " '30.11. René Magritte',\n",
       " '30.12. Rogier van der Weyden',\n",
       " '30.13. Jeroen Bosch',\n",
       " '30.14. Vincent van Gogh',\n",
       " '30.15. James Ensor',\n",
       " '30.16. William Turner',\n",
       " '30.17. Geen van bovenstaande',\n",
       " '31.1. Pieter Paul Rubens',\n",
       " '31.2. Jan van Eyck (Lam Gods)',\n",
       " '31.3. Pieter Bruegel de Oude',\n",
       " '32. Zou u een citytrip naar Brussel/Vlaanderen laten beïnvloeden door de huidige terreurdreiging?',\n",
       " '33. Wat is uw geslacht',\n",
       " '34. Wat is de samenstelling van uw huishouden?',\n",
       " '35. Wat is uw hoogst genoten opleiding?']"
      ]
     },
     "execution_count": 155,
     "metadata": {},
     "output_type": "execute_result"
    }
   ],
   "source": [
    "list(df)"
   ]
  },
  {
   "cell_type": "markdown",
   "metadata": {},
   "source": [
    "# Einde bereikt"
   ]
  },
  {
   "cell_type": "code",
   "execution_count": 156,
   "metadata": {
    "collapsed": false
   },
   "outputs": [
    {
     "name": "stdout",
     "output_type": "stream",
     "text": [
      "[1]\n"
     ]
    }
   ],
   "source": [
    "print(df[\"Einde bereikt\"].unique())"
   ]
  },
  {
   "cell_type": "markdown",
   "metadata": {},
   "source": [
    "# Invultijd"
   ]
  },
  {
   "cell_type": "code",
   "execution_count": 157,
   "metadata": {
    "collapsed": false
   },
   "outputs": [
    {
     "data": {
      "image/png": "[encoded data removed]",
      "text/plain": [
       "<matplotlib.figure.Figure at 0x19f0165b390>"
      ]
     },
     "metadata": {},
     "output_type": "display_data"
    }
   ],
   "source": [
    "df[\"Invultijd (seconden)\"].plot.hist()\n",
    "\n",
    "# Strings\n",
    "xlab = 'Invultijd (s)'\n",
    "ylab = 'Frequentie'\n",
    "title = 'Histogram invultijd'\n",
    "\n",
    "# Add axis labels\n",
    "plt.xlabel(xlab)\n",
    "plt.ylabel(ylab)\n",
    "\n",
    "# Add title\n",
    "plt.title(title)\n",
    "\n",
    "# Render plot\n",
    "plt.show()"
   ]
  },
  {
   "cell_type": "code",
   "execution_count": 158,
   "metadata": {
    "collapsed": false
   },
   "outputs": [
    {
     "data": {
      "image/png": "[encoded data removed]",
      "text/plain": [
       "<matplotlib.figure.Figure at 0x19f0189b2b0>"
      ]
     },
     "metadata": {},
     "output_type": "display_data"
    }
   ],
   "source": [
    "df_plot = (df.loc[df[\"Invultijd (seconden)\"]> 3600, \"Invultijd (seconden)\"]/3600)\n",
    "df_plot = df_plot.rename(\"\")\n",
    "df_plot.plot.box()\n",
    "\n",
    "# Strings\n",
    "xlab = 'Respondenten'\n",
    "ylab = 'Invultijd (h)'\n",
    "title = \"Invultijd voor respondenten die langer dan 1 uur over de survey deden n=\" + str(df_plot.size)\n",
    "\n",
    "# Add axis labels\n",
    "plt.xlabel(xlab)\n",
    "plt.ylabel(ylab)\n",
    "\n",
    "# Add title\n",
    "plt.title(title)\n",
    "\n",
    "# Render plot\n",
    "plt.show()"
   ]
  },
  {
   "cell_type": "code",
   "execution_count": 159,
   "metadata": {
    "collapsed": false
   },
   "outputs": [
    {
     "data": {
      "image/png": "[encoded data removed]",
      "text/plain": [
       "<matplotlib.figure.Figure at 0x19f017b5c88>"
      ]
     },
     "metadata": {},
     "output_type": "display_data"
    },
    {
     "data": {
      "text/plain": [
       "Taal\n",
       "en    72\n",
       "zh    66\n",
       "de    53\n",
       "ru    39\n",
       "pb    39\n",
       "no    25\n",
       "es    24\n",
       "sv    19\n",
       "fr    18\n",
       "it    17\n",
       "nl    15\n",
       "da    15\n",
       "ja     8\n",
       "Name: Respondent, dtype: int64"
      ]
     },
     "execution_count": 159,
     "metadata": {},
     "output_type": "execute_result"
    }
   ],
   "source": [
    "plt_df = df.loc[df[\"Invultijd (seconden)\"]> 3600, [\"Respondent\",\"Taal\"]].groupby(\"Taal\").Respondent.nunique()\n",
    "plt_df = plt_df.sort_values(ascending =False)\n",
    "\n",
    "# Strings\n",
    "xlab = 'Taal Respondent'\n",
    "ylab = 'Aantal respondenten'\n",
    "title = 'Distributie taal over respondenten die meer dan 1 uur over de survey deden'\n",
    "\n",
    "# Add axis labels\n",
    "plt.xlabel(xlab)\n",
    "plt.ylabel(ylab)\n",
    "\n",
    "# Add title\n",
    "plt.title(title)\n",
    "\n",
    "# Create plot\n",
    "plt_df.plot.bar();\n",
    "    \n",
    "# Render plot\n",
    "plt.show()\n",
    "plt_df"
   ]
  },
  {
   "cell_type": "code",
   "execution_count": 160,
   "metadata": {
    "collapsed": false
   },
   "outputs": [
    {
     "data": {
      "text/plain": [
       "Taal\n",
       "zh    6.600000\n",
       "ru    3.896104\n",
       "pb    3.896104\n",
       "no    2.502503\n",
       "en    2.396804\n",
       "es    2.380952\n",
       "de    2.052672\n",
       "sv    1.905717\n",
       "it    1.650485\n",
       "nl    1.500000\n",
       "da    1.500000\n",
       "fr    1.303403\n",
       "ja    0.802407\n",
       "Name: Respondent, dtype: float64"
      ]
     },
     "execution_count": 160,
     "metadata": {},
     "output_type": "execute_result"
    }
   ],
   "source": [
    "df_rel = (df.loc[df[\"Invultijd (seconden)\"] > 3600,[\"Respondent\",\"Taal\"]].groupby(\"Taal\").Respondent.count() * 100/\n",
    " df[[\"Respondent\",\"Taal\"]].groupby(\"Taal\").Respondent.count())\n",
    "df_rel = df_rel.sort_values(ascending =False)\n",
    "df_rel"
   ]
  },
  {
   "cell_type": "code",
   "execution_count": 161,
   "metadata": {
    "collapsed": false
   },
   "outputs": [
    {
     "data": {
      "image/png": "[encoded data removed]",
      "text/plain": [
       "<matplotlib.figure.Figure at 0x19f016b2518>"
      ]
     },
     "metadata": {},
     "output_type": "display_data"
    }
   ],
   "source": [
    "\n",
    "# Strings\n",
    "xlab = 'Taal Respondent'\n",
    "ylab = '% respondenten'\n",
    "title = '% respondenten die meer dan 1 uur over de survey deden per taalgroep'\n",
    "\n",
    "# Add axis labels\n",
    "plt.xlabel(xlab)\n",
    "plt.ylabel(ylab)\n",
    "\n",
    "# Add title\n",
    "plt.title(title)\n",
    "\n",
    "# Create plot\n",
    "df_rel.plot.bar();\n",
    "    \n",
    "# Render plot\n",
    "plt.show()"
   ]
  },
  {
   "cell_type": "code",
   "execution_count": null,
   "metadata": {
    "collapsed": true
   },
   "outputs": [],
   "source": []
  },
  {
   "cell_type": "markdown",
   "metadata": {
    "collapsed": true
   },
   "source": [
    "## Clustering"
   ]
  },
  {
   "cell_type": "markdown",
   "metadata": {},
   "source": [
    "### dimension selection"
   ]
  },
  {
   "cell_type": "code",
   "execution_count": 162,
   "metadata": {
    "collapsed": false
   },
   "outputs": [
    {
     "data": {
      "text/plain": [
       "Respondent                                                                                                    int64\n",
       "Taal                                                                                                       category\n",
       "Datum geantwoord                                                                                     datetime64[ns]\n",
       "Distributiemethode                                                                                         category\n",
       "Einde bereikt                                                                                                 int64\n",
       "Invultijd (seconden)                                                                                          int64\n",
       "Browser                                                                                                    category\n",
       "Besturingssysteem                                                                                          category\n",
       "IP                                                                                                           object\n",
       "Locatie (via IP)                                                                                             object\n",
       "Verwijzende sites                                                                                            object\n",
       "1. ID                                                                                                        object\n",
       "2. Country                                                                                                 category\n",
       "3. Study number                                                                                               int64\n",
       "4. Wat is uw geboortejaar?                                                                                    int64\n",
       "5. Bent u in de afgelopen 3 jaar wel eens voor vakantie in het buitenland geweest?                             bool\n",
       "6.1. Strandvakantie                                                                                            bool\n",
       "6.2. Stedentrip                                                                                                bool\n",
       "6.3. Wintersportvakantie                                                                                       bool\n",
       "6.4. Wandelvakantie                                                                                            bool\n",
       "6.5. Fietsvakantie                                                                                             bool\n",
       "6.6. Wellnessvakantie                                                                                          bool\n",
       "6.7. Gastronomische of culinaire vakantie                                                                      bool\n",
       "6.8. Vakantie in het groen met (af en toe) uitstappen                                                          bool\n",
       "6.9. Rondreis                                                                                                  bool\n",
       "6.10. Cruise                                                                                                   bool\n",
       "6.11. Culturele reis                                                                                           bool\n",
       "6.12. Ander, gelieve te specificeren                                                                         object\n",
       "6.13. Geen van bovenstaande                                                                                    bool\n",
       "7.1. Afstand                                                                                                   bool\n",
       "                                                                                                          ...      \n",
       "26.5. Een beleving (themawandeling, doe-activiteit,...) over een kunstenaar spreekt me aan.                category\n",
       "27. Kent u de term 'Vlaamse Meesters'?                                                                         bool\n",
       "28. Omschrijf met een aantal kernwoorden wat u onder het begrip 'Vlaamse meesters' begrijpt?                 object\n",
       "29.1. 1                                                                                                      object\n",
       "29.2. 2                                                                                                      object\n",
       "29.3. 3                                                                                                      object\n",
       "30.1. Albrecht Dürer                                                                                           bool\n",
       "30.2. Antoon van Dyck                                                                                          bool\n",
       "30.3. Dirk Bouts                                                                                               bool\n",
       "30.4. Hans Memling                                                                                             bool\n",
       "30.5. Jacob Jordaens                                                                                           bool\n",
       "30.6. Jan van Eyck                                                                                             bool\n",
       "30.7. Paul Cézanne                                                                                             bool\n",
       "30.8. Pieter Paul Rubens                                                                                       bool\n",
       "30.9. Pieter Bruegel de Oude                                                                                   bool\n",
       "30.10. Rembrandt van Rijn                                                                                      bool\n",
       "30.11. René Magritte                                                                                           bool\n",
       "30.12. Rogier van der Weyden                                                                                   bool\n",
       "30.13. Jeroen Bosch                                                                                            bool\n",
       "30.14. Vincent van Gogh                                                                                        bool\n",
       "30.15. James Ensor                                                                                             bool\n",
       "30.16. William Turner                                                                                          bool\n",
       "30.17. Geen van bovenstaande                                                                                   bool\n",
       "31.1. Pieter Paul Rubens                                                                                   category\n",
       "31.2. Jan van Eyck (Lam Gods)                                                                              category\n",
       "31.3. Pieter Bruegel de Oude                                                                               category\n",
       "32. Zou u een citytrip naar Brussel/Vlaanderen laten beïnvloeden door de huidige terreurdreiging?          category\n",
       "33. Wat is uw geslacht                                                                                     category\n",
       "34. Wat is de samenstelling van uw huishouden?                                                             category\n",
       "35. Wat is uw hoogst genoten opleiding?                                                                    category\n",
       "dtype: object"
      ]
     },
     "execution_count": 162,
     "metadata": {},
     "output_type": "execute_result"
    }
   ],
   "source": [
    "df.dtypes"
   ]
  },
  {
   "cell_type": "code",
   "execution_count": 163,
   "metadata": {
    "collapsed": true
   },
   "outputs": [],
   "source": [
    "import re"
   ]
  },
  {
   "cell_type": "code",
   "execution_count": 164,
   "metadata": {
    "collapsed": false
   },
   "outputs": [],
   "source": [
    "def reshapeAndPad (dataframe, cols):\n",
    "    a=np.array(dataframe.columns)\n",
    "    padding = np.array([\"\"]* (cols - (a.size % cols)))\n",
    "    a=np.concatenate ((a, padding))\n",
    "    return pd.DataFrame(a.reshape(a.size//cols, cols))\n",
    "\n",
    "\n",
    "\n",
    "cdf = df.select_dtypes(include=['bool',  'int64', 'float64'])\n",
    "# 'category',\n",
    "\n",
    "# exclude \n",
    "cdf = cdf.drop(['Respondent', 'Einde bereikt', 'Invultijd (seconden)', '3. Study number'], axis=1)\n",
    "\n",
    "# exclude question 9\n",
    "columns_Q9 = cdf.columns[cdf.columns.str.contains(\"^9\\.\", regex=True)]\n",
    "cdf = cdf.drop(columns_Q9, axis=1)\n",
    "# exclude question 12\n",
    "columns_Q12 = cdf.columns[cdf.columns.str.contains(\"^12\\.\", regex=True)]\n",
    "cdf = cdf.drop(columns_Q12, axis=1)\n"
   ]
  },
  {
   "cell_type": "markdown",
   "metadata": {},
   "source": [
    "### Exclude the following features in clustering"
   ]
  },
  {
   "cell_type": "code",
   "execution_count": 165,
   "metadata": {
    "collapsed": false,
    "scrolled": true
   },
   "outputs": [
    {
     "data": {
      "text/html": [
       "<div>\n",
       "<table border=\"1\" class=\"dataframe\">\n",
       "  <thead>\n",
       "    <tr style=\"text-align: right;\">\n",
       "      <th></th>\n",
       "      <th>0</th>\n",
       "      <th>1</th>\n",
       "      <th>2</th>\n",
       "      <th>3</th>\n",
       "      <th>4</th>\n",
       "    </tr>\n",
       "  </thead>\n",
       "  <tbody>\n",
       "    <tr>\n",
       "      <th>0</th>\n",
       "      <td>Respondent</td>\n",
       "      <td>Taal</td>\n",
       "      <td>Datum geantwoord</td>\n",
       "      <td>Distributiemethode</td>\n",
       "      <td>Einde bereikt</td>\n",
       "    </tr>\n",
       "    <tr>\n",
       "      <th>1</th>\n",
       "      <td>Invultijd (seconden)</td>\n",
       "      <td>Browser</td>\n",
       "      <td>Besturingssysteem</td>\n",
       "      <td>IP</td>\n",
       "      <td>Locatie (via IP)</td>\n",
       "    </tr>\n",
       "    <tr>\n",
       "      <th>2</th>\n",
       "      <td>Verwijzende sites</td>\n",
       "      <td>1. ID</td>\n",
       "      <td>2. Country</td>\n",
       "      <td>3. Study number</td>\n",
       "      <td>6.12. Ander, gelieve te specificeren</td>\n",
       "    </tr>\n",
       "    <tr>\n",
       "      <th>3</th>\n",
       "      <td>8.1. Reisprogramma's op tv/radio</td>\n",
       "      <td>8.2. Websites van (online) touroperators / rei...</td>\n",
       "      <td>8.3. Websites waarop consumenten reiservaringe...</td>\n",
       "      <td>8.4. Websites met beoordelingen/reviews van re...</td>\n",
       "      <td>8.5. Reismagazines</td>\n",
       "    </tr>\n",
       "    <tr>\n",
       "      <th>4</th>\n",
       "      <td>8.6. Vrienden, familie en kennissen</td>\n",
       "      <td>8.7. Reisbijlages/ - artikelen in kranten</td>\n",
       "      <td>8.8. Cultuurmagazines</td>\n",
       "      <td>8.9. Officiële website van toeristische organi...</td>\n",
       "      <td>8.10. Sociale media</td>\n",
       "    </tr>\n",
       "    <tr>\n",
       "      <th>5</th>\n",
       "      <td>9.1. Facebook</td>\n",
       "      <td>9.2. Twitter</td>\n",
       "      <td>9.3. Youtube</td>\n",
       "      <td>9.4. Pinterest</td>\n",
       "      <td>9.5. Instagram</td>\n",
       "    </tr>\n",
       "    <tr>\n",
       "      <th>6</th>\n",
       "      <td>9.6. LinkedIn</td>\n",
       "      <td>9.7. Google+</td>\n",
       "      <td>9.8. Flickr</td>\n",
       "      <td>9.9. Tumblr</td>\n",
       "      <td>9.10. Vine</td>\n",
       "    </tr>\n",
       "    <tr>\n",
       "      <th>7</th>\n",
       "      <td>9.11. Snapchat</td>\n",
       "      <td>9.12. Whatsapp</td>\n",
       "      <td>9.13. Foursquare</td>\n",
       "      <td>9.14. Orkut</td>\n",
       "      <td>9.15. Weibo</td>\n",
       "    </tr>\n",
       "    <tr>\n",
       "      <th>8</th>\n",
       "      <td>9.16. We Chat</td>\n",
       "      <td>9.17. VKontakte</td>\n",
       "      <td>9.18. Ander, gelieve te specificeren</td>\n",
       "      <td>9.19. Ik gebruik geen sociale media</td>\n",
       "      <td>10.1. In eigen land</td>\n",
       "    </tr>\n",
       "    <tr>\n",
       "      <th>9</th>\n",
       "      <td>10.2. In buitenland</td>\n",
       "      <td>12.1. Aanbod in eigen taal</td>\n",
       "      <td>12.2. Aanwezigheid van topwerken</td>\n",
       "      <td>12.3. Gidsen en gegidste rondleidingen</td>\n",
       "      <td>12.4. Audioguide/apps</td>\n",
       "    </tr>\n",
       "    <tr>\n",
       "      <th>10</th>\n",
       "      <td>12.5. Interactief aanbod (virtual reality, doe...</td>\n",
       "      <td>12.6. Aanbod voor kinderen</td>\n",
       "      <td>12.7. Museumshop</td>\n",
       "      <td>13. Als u op reis bent naar het buitenland, be...</td>\n",
       "      <td>14.4. Kerken, kathedralen</td>\n",
       "    </tr>\n",
       "    <tr>\n",
       "      <th>11</th>\n",
       "      <td>15.1. 1</td>\n",
       "      <td>15.2. 2</td>\n",
       "      <td>15.3. 3</td>\n",
       "      <td>15.4. 4</td>\n",
       "      <td>15.5. 5</td>\n",
       "    </tr>\n",
       "    <tr>\n",
       "      <th>12</th>\n",
       "      <td>17. Wie is de schilder?</td>\n",
       "      <td>19. Wie is de schilder?</td>\n",
       "      <td>21. Wie is de schilder?</td>\n",
       "      <td>23. Wie is de schilder?</td>\n",
       "      <td>24.17. Vlaamse Primitieven</td>\n",
       "    </tr>\n",
       "    <tr>\n",
       "      <th>13</th>\n",
       "      <td>24.18. Geen van bovenstaande</td>\n",
       "      <td>26.1. Een museum met een focus op topwerken bo...</td>\n",
       "      <td>26.2. Inspiratieplekken (landschap, leefomgevi...</td>\n",
       "      <td>26.3. Ik bezoek enkel een museum met de collec...</td>\n",
       "      <td>26.4. Interpretaties van oude werken door hede...</td>\n",
       "    </tr>\n",
       "    <tr>\n",
       "      <th>14</th>\n",
       "      <td>26.5. Een beleving (themawandeling, doe-activi...</td>\n",
       "      <td>28. Omschrijf met een aantal kernwoorden wat u...</td>\n",
       "      <td>29.1. 1</td>\n",
       "      <td>29.2. 2</td>\n",
       "      <td>29.3. 3</td>\n",
       "    </tr>\n",
       "    <tr>\n",
       "      <th>15</th>\n",
       "      <td>31.1. Pieter Paul Rubens</td>\n",
       "      <td>31.2. Jan van Eyck (Lam Gods)</td>\n",
       "      <td>31.3. Pieter Bruegel de Oude</td>\n",
       "      <td>32. Zou u een citytrip naar Brussel/Vlaanderen...</td>\n",
       "      <td>33. Wat is uw geslacht</td>\n",
       "    </tr>\n",
       "    <tr>\n",
       "      <th>16</th>\n",
       "      <td>34. Wat is de samenstelling van uw huishouden?</td>\n",
       "      <td>35. Wat is uw hoogst genoten opleiding?</td>\n",
       "      <td></td>\n",
       "      <td></td>\n",
       "      <td></td>\n",
       "    </tr>\n",
       "  </tbody>\n",
       "</table>\n",
       "</div>"
      ],
      "text/plain": [
       "                                                    0  \\\n",
       "0                                          Respondent   \n",
       "1                                Invultijd (seconden)   \n",
       "2                                   Verwijzende sites   \n",
       "3                    8.1. Reisprogramma's op tv/radio   \n",
       "4                 8.6. Vrienden, familie en kennissen   \n",
       "5                                       9.1. Facebook   \n",
       "6                                       9.6. LinkedIn   \n",
       "7                                      9.11. Snapchat   \n",
       "8                                       9.16. We Chat   \n",
       "9                                 10.2. In buitenland   \n",
       "10  12.5. Interactief aanbod (virtual reality, doe...   \n",
       "11                                            15.1. 1   \n",
       "12                            17. Wie is de schilder?   \n",
       "13                       24.18. Geen van bovenstaande   \n",
       "14  26.5. Een beleving (themawandeling, doe-activi...   \n",
       "15                           31.1. Pieter Paul Rubens   \n",
       "16     34. Wat is de samenstelling van uw huishouden?   \n",
       "\n",
       "                                                    1  \\\n",
       "0                                                Taal   \n",
       "1                                             Browser   \n",
       "2                                               1. ID   \n",
       "3   8.2. Websites van (online) touroperators / rei...   \n",
       "4           8.7. Reisbijlages/ - artikelen in kranten   \n",
       "5                                        9.2. Twitter   \n",
       "6                                        9.7. Google+   \n",
       "7                                      9.12. Whatsapp   \n",
       "8                                     9.17. VKontakte   \n",
       "9                          12.1. Aanbod in eigen taal   \n",
       "10                         12.6. Aanbod voor kinderen   \n",
       "11                                            15.2. 2   \n",
       "12                            19. Wie is de schilder?   \n",
       "13  26.1. Een museum met een focus op topwerken bo...   \n",
       "14  28. Omschrijf met een aantal kernwoorden wat u...   \n",
       "15                      31.2. Jan van Eyck (Lam Gods)   \n",
       "16            35. Wat is uw hoogst genoten opleiding?   \n",
       "\n",
       "                                                    2  \\\n",
       "0                                    Datum geantwoord   \n",
       "1                                   Besturingssysteem   \n",
       "2                                          2. Country   \n",
       "3   8.3. Websites waarop consumenten reiservaringe...   \n",
       "4                               8.8. Cultuurmagazines   \n",
       "5                                        9.3. Youtube   \n",
       "6                                         9.8. Flickr   \n",
       "7                                    9.13. Foursquare   \n",
       "8                9.18. Ander, gelieve te specificeren   \n",
       "9                    12.2. Aanwezigheid van topwerken   \n",
       "10                                   12.7. Museumshop   \n",
       "11                                            15.3. 3   \n",
       "12                            21. Wie is de schilder?   \n",
       "13  26.2. Inspiratieplekken (landschap, leefomgevi...   \n",
       "14                                            29.1. 1   \n",
       "15                       31.3. Pieter Bruegel de Oude   \n",
       "16                                                      \n",
       "\n",
       "                                                    3  \\\n",
       "0                                  Distributiemethode   \n",
       "1                                                  IP   \n",
       "2                                     3. Study number   \n",
       "3   8.4. Websites met beoordelingen/reviews van re...   \n",
       "4   8.9. Officiële website van toeristische organi...   \n",
       "5                                      9.4. Pinterest   \n",
       "6                                         9.9. Tumblr   \n",
       "7                                         9.14. Orkut   \n",
       "8                 9.19. Ik gebruik geen sociale media   \n",
       "9              12.3. Gidsen en gegidste rondleidingen   \n",
       "10  13. Als u op reis bent naar het buitenland, be...   \n",
       "11                                            15.4. 4   \n",
       "12                            23. Wie is de schilder?   \n",
       "13  26.3. Ik bezoek enkel een museum met de collec...   \n",
       "14                                            29.2. 2   \n",
       "15  32. Zou u een citytrip naar Brussel/Vlaanderen...   \n",
       "16                                                      \n",
       "\n",
       "                                                    4  \n",
       "0                                       Einde bereikt  \n",
       "1                                    Locatie (via IP)  \n",
       "2                6.12. Ander, gelieve te specificeren  \n",
       "3                                  8.5. Reismagazines  \n",
       "4                                 8.10. Sociale media  \n",
       "5                                      9.5. Instagram  \n",
       "6                                          9.10. Vine  \n",
       "7                                         9.15. Weibo  \n",
       "8                                 10.1. In eigen land  \n",
       "9                               12.4. Audioguide/apps  \n",
       "10                          14.4. Kerken, kathedralen  \n",
       "11                                            15.5. 5  \n",
       "12                         24.17. Vlaamse Primitieven  \n",
       "13  26.4. Interpretaties van oude werken door hede...  \n",
       "14                                            29.3. 3  \n",
       "15                             33. Wat is uw geslacht  \n",
       "16                                                     "
      ]
     },
     "execution_count": 165,
     "metadata": {},
     "output_type": "execute_result"
    }
   ],
   "source": [
    "xdf = df.drop(cdf, axis=1)\n",
    "reshapeAndPad(xdf, 5)"
   ]
  },
  {
   "cell_type": "markdown",
   "metadata": {},
   "source": [
    "### Include the following features in clustering"
   ]
  },
  {
   "cell_type": "code",
   "execution_count": 166,
   "metadata": {
    "collapsed": false
   },
   "outputs": [
    {
     "data": {
      "text/html": [
       "<div>\n",
       "<table border=\"1\" class=\"dataframe\">\n",
       "  <thead>\n",
       "    <tr style=\"text-align: right;\">\n",
       "      <th></th>\n",
       "      <th>0</th>\n",
       "      <th>1</th>\n",
       "      <th>2</th>\n",
       "      <th>3</th>\n",
       "      <th>4</th>\n",
       "    </tr>\n",
       "  </thead>\n",
       "  <tbody>\n",
       "    <tr>\n",
       "      <th>0</th>\n",
       "      <td>4. Wat is uw geboortejaar?</td>\n",
       "      <td>5. Bent u in de afgelopen 3 jaar wel eens voor...</td>\n",
       "      <td>6.1. Strandvakantie</td>\n",
       "      <td>6.2. Stedentrip</td>\n",
       "      <td>6.3. Wintersportvakantie</td>\n",
       "    </tr>\n",
       "    <tr>\n",
       "      <th>1</th>\n",
       "      <td>6.4. Wandelvakantie</td>\n",
       "      <td>6.5. Fietsvakantie</td>\n",
       "      <td>6.6. Wellnessvakantie</td>\n",
       "      <td>6.7. Gastronomische of culinaire vakantie</td>\n",
       "      <td>6.8. Vakantie in het groen met (af en toe) uit...</td>\n",
       "    </tr>\n",
       "    <tr>\n",
       "      <th>2</th>\n",
       "      <td>6.9. Rondreis</td>\n",
       "      <td>6.10. Cruise</td>\n",
       "      <td>6.11. Culturele reis</td>\n",
       "      <td>6.13. Geen van bovenstaande</td>\n",
       "      <td>7.1. Afstand</td>\n",
       "    </tr>\n",
       "    <tr>\n",
       "      <th>3</th>\n",
       "      <td>7.2. Historisch erfgoed</td>\n",
       "      <td>7.3. Eten</td>\n",
       "      <td>7.4. Cultuur</td>\n",
       "      <td>7.5. Natuur</td>\n",
       "      <td>7.6. Prijs</td>\n",
       "    </tr>\n",
       "    <tr>\n",
       "      <th>4</th>\n",
       "      <td>7.7. Kust</td>\n",
       "      <td>7.8. Sport</td>\n",
       "      <td>7.9. Festival, evenement of tentoonstelling</td>\n",
       "      <td>7.10. Kunst</td>\n",
       "      <td>7.11. Variatie aan activiteiten</td>\n",
       "    </tr>\n",
       "    <tr>\n",
       "      <th>5</th>\n",
       "      <td>11.1. Museum voor oude of schone kunsten</td>\n",
       "      <td>11.2. Museum voor hedendaagse of actuele kunst</td>\n",
       "      <td>11.3. Museum voor natuurkunde, technologie of ...</td>\n",
       "      <td>11.4. Museum voor geschiedenis, volkskunde of ...</td>\n",
       "      <td>11.5. Museum voor toegepaste kunst, mode, diam...</td>\n",
       "    </tr>\n",
       "    <tr>\n",
       "      <th>6</th>\n",
       "      <td>11.6. Geen van bovenstaande</td>\n",
       "      <td>14.1. Musea met kunstcollectie</td>\n",
       "      <td>14.2. Kunstgalerijen</td>\n",
       "      <td>14.3. Historische gebouwen</td>\n",
       "      <td>14.5. Tentoonstelling</td>\n",
       "    </tr>\n",
       "    <tr>\n",
       "      <th>7</th>\n",
       "      <td>14.6. Geboortehuis, woning,... van een kunstenaar</td>\n",
       "      <td>14.7. Routes en rondleidingen</td>\n",
       "      <td>14.8. Evenementen</td>\n",
       "      <td>14.9. Geen van bovenstaande</td>\n",
       "      <td>16. Hieronder ziet u een aantal schilderijen. ...</td>\n",
       "    </tr>\n",
       "    <tr>\n",
       "      <th>8</th>\n",
       "      <td>18. Kent u dit werk?</td>\n",
       "      <td>20. Kent u dit werk?</td>\n",
       "      <td>22. Kent u dit werk?</td>\n",
       "      <td>24.1. Albrecht Dürer</td>\n",
       "      <td>24.2. Antoon van Dyck</td>\n",
       "    </tr>\n",
       "    <tr>\n",
       "      <th>9</th>\n",
       "      <td>24.3. Dirk Bouts</td>\n",
       "      <td>24.4. Hans Memling</td>\n",
       "      <td>24.5. Jacob Jordaens</td>\n",
       "      <td>24.6. Jan van Eyck</td>\n",
       "      <td>24.7. Paul Cézanne</td>\n",
       "    </tr>\n",
       "    <tr>\n",
       "      <th>10</th>\n",
       "      <td>24.8. Pieter Paul Rubens</td>\n",
       "      <td>24.9. Pieter Bruegel de Oude</td>\n",
       "      <td>24.10. Rembrandt van Rijn</td>\n",
       "      <td>24.11. René Magritte</td>\n",
       "      <td>24.12. Rogier van der Weyden</td>\n",
       "    </tr>\n",
       "    <tr>\n",
       "      <th>11</th>\n",
       "      <td>24.13. Jeroen Bosch</td>\n",
       "      <td>24.14. Vincent van Gogh</td>\n",
       "      <td>24.15. James Ensor</td>\n",
       "      <td>24.16. William Turner</td>\n",
       "      <td>25.1. Anish Kapoor</td>\n",
       "    </tr>\n",
       "    <tr>\n",
       "      <th>12</th>\n",
       "      <td>25.2. Axel Vervoordt</td>\n",
       "      <td>25.3. Michaël Borremans</td>\n",
       "      <td>25.4. Damien Hirst</td>\n",
       "      <td>25.5. Daniël Ost</td>\n",
       "      <td>25.6. Jan De Cock</td>\n",
       "    </tr>\n",
       "    <tr>\n",
       "      <th>13</th>\n",
       "      <td>25.7. Wim Delvoye</td>\n",
       "      <td>25.8. Jan Fabre</td>\n",
       "      <td>25.9. Luc Tuymans</td>\n",
       "      <td>25.10. Marlene Dumas</td>\n",
       "      <td>25.11. Ai Wei Wei</td>\n",
       "    </tr>\n",
       "    <tr>\n",
       "      <th>14</th>\n",
       "      <td>25.12. Panamarenko</td>\n",
       "      <td>25.13. Geen van bovenstaande</td>\n",
       "      <td>27. Kent u de term 'Vlaamse Meesters'?</td>\n",
       "      <td>30.1. Albrecht Dürer</td>\n",
       "      <td>30.2. Antoon van Dyck</td>\n",
       "    </tr>\n",
       "    <tr>\n",
       "      <th>15</th>\n",
       "      <td>30.3. Dirk Bouts</td>\n",
       "      <td>30.4. Hans Memling</td>\n",
       "      <td>30.5. Jacob Jordaens</td>\n",
       "      <td>30.6. Jan van Eyck</td>\n",
       "      <td>30.7. Paul Cézanne</td>\n",
       "    </tr>\n",
       "    <tr>\n",
       "      <th>16</th>\n",
       "      <td>30.8. Pieter Paul Rubens</td>\n",
       "      <td>30.9. Pieter Bruegel de Oude</td>\n",
       "      <td>30.10. Rembrandt van Rijn</td>\n",
       "      <td>30.11. René Magritte</td>\n",
       "      <td>30.12. Rogier van der Weyden</td>\n",
       "    </tr>\n",
       "    <tr>\n",
       "      <th>17</th>\n",
       "      <td>30.13. Jeroen Bosch</td>\n",
       "      <td>30.14. Vincent van Gogh</td>\n",
       "      <td>30.15. James Ensor</td>\n",
       "      <td>30.16. William Turner</td>\n",
       "      <td>30.17. Geen van bovenstaande</td>\n",
       "    </tr>\n",
       "    <tr>\n",
       "      <th>18</th>\n",
       "      <td></td>\n",
       "      <td></td>\n",
       "      <td></td>\n",
       "      <td></td>\n",
       "      <td></td>\n",
       "    </tr>\n",
       "  </tbody>\n",
       "</table>\n",
       "</div>"
      ],
      "text/plain": [
       "                                                    0  \\\n",
       "0                          4. Wat is uw geboortejaar?   \n",
       "1                                 6.4. Wandelvakantie   \n",
       "2                                       6.9. Rondreis   \n",
       "3                             7.2. Historisch erfgoed   \n",
       "4                                           7.7. Kust   \n",
       "5            11.1. Museum voor oude of schone kunsten   \n",
       "6                         11.6. Geen van bovenstaande   \n",
       "7   14.6. Geboortehuis, woning,... van een kunstenaar   \n",
       "8                                18. Kent u dit werk?   \n",
       "9                                    24.3. Dirk Bouts   \n",
       "10                           24.8. Pieter Paul Rubens   \n",
       "11                                24.13. Jeroen Bosch   \n",
       "12                               25.2. Axel Vervoordt   \n",
       "13                                  25.7. Wim Delvoye   \n",
       "14                                 25.12. Panamarenko   \n",
       "15                                   30.3. Dirk Bouts   \n",
       "16                           30.8. Pieter Paul Rubens   \n",
       "17                                30.13. Jeroen Bosch   \n",
       "18                                                      \n",
       "\n",
       "                                                    1  \\\n",
       "0   5. Bent u in de afgelopen 3 jaar wel eens voor...   \n",
       "1                                  6.5. Fietsvakantie   \n",
       "2                                        6.10. Cruise   \n",
       "3                                           7.3. Eten   \n",
       "4                                          7.8. Sport   \n",
       "5      11.2. Museum voor hedendaagse of actuele kunst   \n",
       "6                      14.1. Musea met kunstcollectie   \n",
       "7                       14.7. Routes en rondleidingen   \n",
       "8                                20. Kent u dit werk?   \n",
       "9                                  24.4. Hans Memling   \n",
       "10                       24.9. Pieter Bruegel de Oude   \n",
       "11                            24.14. Vincent van Gogh   \n",
       "12                            25.3. Michaël Borremans   \n",
       "13                                    25.8. Jan Fabre   \n",
       "14                       25.13. Geen van bovenstaande   \n",
       "15                                 30.4. Hans Memling   \n",
       "16                       30.9. Pieter Bruegel de Oude   \n",
       "17                            30.14. Vincent van Gogh   \n",
       "18                                                      \n",
       "\n",
       "                                                    2  \\\n",
       "0                                 6.1. Strandvakantie   \n",
       "1                               6.6. Wellnessvakantie   \n",
       "2                                6.11. Culturele reis   \n",
       "3                                        7.4. Cultuur   \n",
       "4         7.9. Festival, evenement of tentoonstelling   \n",
       "5   11.3. Museum voor natuurkunde, technologie of ...   \n",
       "6                                14.2. Kunstgalerijen   \n",
       "7                                   14.8. Evenementen   \n",
       "8                                22. Kent u dit werk?   \n",
       "9                                24.5. Jacob Jordaens   \n",
       "10                          24.10. Rembrandt van Rijn   \n",
       "11                                 24.15. James Ensor   \n",
       "12                                 25.4. Damien Hirst   \n",
       "13                                  25.9. Luc Tuymans   \n",
       "14             27. Kent u de term 'Vlaamse Meesters'?   \n",
       "15                               30.5. Jacob Jordaens   \n",
       "16                          30.10. Rembrandt van Rijn   \n",
       "17                                 30.15. James Ensor   \n",
       "18                                                      \n",
       "\n",
       "                                                    3  \\\n",
       "0                                     6.2. Stedentrip   \n",
       "1           6.7. Gastronomische of culinaire vakantie   \n",
       "2                         6.13. Geen van bovenstaande   \n",
       "3                                         7.5. Natuur   \n",
       "4                                         7.10. Kunst   \n",
       "5   11.4. Museum voor geschiedenis, volkskunde of ...   \n",
       "6                          14.3. Historische gebouwen   \n",
       "7                         14.9. Geen van bovenstaande   \n",
       "8                                24.1. Albrecht Dürer   \n",
       "9                                  24.6. Jan van Eyck   \n",
       "10                               24.11. René Magritte   \n",
       "11                              24.16. William Turner   \n",
       "12                                   25.5. Daniël Ost   \n",
       "13                               25.10. Marlene Dumas   \n",
       "14                               30.1. Albrecht Dürer   \n",
       "15                                 30.6. Jan van Eyck   \n",
       "16                               30.11. René Magritte   \n",
       "17                              30.16. William Turner   \n",
       "18                                                      \n",
       "\n",
       "                                                    4  \n",
       "0                            6.3. Wintersportvakantie  \n",
       "1   6.8. Vakantie in het groen met (af en toe) uit...  \n",
       "2                                        7.1. Afstand  \n",
       "3                                          7.6. Prijs  \n",
       "4                     7.11. Variatie aan activiteiten  \n",
       "5   11.5. Museum voor toegepaste kunst, mode, diam...  \n",
       "6                               14.5. Tentoonstelling  \n",
       "7   16. Hieronder ziet u een aantal schilderijen. ...  \n",
       "8                               24.2. Antoon van Dyck  \n",
       "9                                  24.7. Paul Cézanne  \n",
       "10                       24.12. Rogier van der Weyden  \n",
       "11                                 25.1. Anish Kapoor  \n",
       "12                                  25.6. Jan De Cock  \n",
       "13                                  25.11. Ai Wei Wei  \n",
       "14                              30.2. Antoon van Dyck  \n",
       "15                                 30.7. Paul Cézanne  \n",
       "16                       30.12. Rogier van der Weyden  \n",
       "17                       30.17. Geen van bovenstaande  \n",
       "18                                                     "
      ]
     },
     "execution_count": 166,
     "metadata": {},
     "output_type": "execute_result"
    }
   ],
   "source": [
    "reshapeAndPad(cdf, 5)"
   ]
  },
  {
   "cell_type": "markdown",
   "metadata": {},
   "source": [
    "# Missing values"
   ]
  },
  {
   "cell_type": "code",
   "execution_count": 167,
   "metadata": {
    "collapsed": false
   },
   "outputs": [
    {
     "data": {
      "text/plain": [
       "Series([], dtype: float64)"
      ]
     },
     "execution_count": 167,
     "metadata": {},
     "output_type": "execute_result"
    }
   ],
   "source": [
    "# welke vragen hebben missing values?\n",
    "cdf.loc[:,cdf.isnull().any()].isnull().sum()"
   ]
  },
  {
   "cell_type": "code",
   "execution_count": 168,
   "metadata": {
    "collapsed": false
   },
   "outputs": [
    {
     "data": {
      "text/plain": [
       "0"
      ]
     },
     "execution_count": 168,
     "metadata": {},
     "output_type": "execute_result"
    }
   ],
   "source": [
    "#hoeveel respondenten hebben minstens 1 missing value?\n",
    "cdf.isnull().any(axis=1).sum()\n"
   ]
  },
  {
   "cell_type": "markdown",
   "metadata": {},
   "source": [
    "### PCA"
   ]
  },
  {
   "cell_type": "code",
   "execution_count": 169,
   "metadata": {
    "collapsed": false
   },
   "outputs": [
    {
     "data": {
      "text/plain": [
       "PCA(copy=True, iterated_power='auto', n_components=None, random_state=None,\n",
       "  svd_solver='auto', tol=0.0, whiten=False)"
      ]
     },
     "execution_count": 169,
     "metadata": {},
     "output_type": "execute_result"
    }
   ],
   "source": [
    "from sklearn.decomposition import PCA\n",
    "from sklearn.preprocessing import scale\n",
    "\n",
    "#scale our dataset\n",
    "scaled_cdf = scale(cdf)\n",
    "pca = PCA()\n",
    "pca.fit(scaled_cdf)\n",
    "\n",
    "#cdf_pca=pca.transform(cdf)"
   ]
  },
  {
   "cell_type": "code",
   "execution_count": 170,
   "metadata": {
    "collapsed": false
   },
   "outputs": [
    {
     "data": {
      "text/plain": [
       "array([ 0.11854236,  0.1672248 ,  0.19831639,  0.22019817,  0.2398984 ,\n",
       "        0.2591406 ,  0.27767287,  0.29466683,  0.31118431,  0.32713553,\n",
       "        0.34201343,  0.35664414,  0.370643  ,  0.38388654,  0.3970338 ,\n",
       "        0.40999605,  0.4222041 ,  0.43436777,  0.44611979,  0.45782458,\n",
       "        0.46942338,  0.48065227,  0.49172358,  0.50271971,  0.51354776,\n",
       "        0.52418205,  0.53467595,  0.54513092,  0.55556151,  0.56585027,\n",
       "        0.57592451,  0.58580393,  0.59559218,  0.60525619,  0.61480442,\n",
       "        0.62426957,  0.63369082,  0.64302805,  0.65231162,  0.66153132,\n",
       "        0.67067446,  0.67970587,  0.68865974,  0.69749659,  0.70631666,\n",
       "        0.71507644,  0.72368166,  0.73220774,  0.74064037,  0.74902301,\n",
       "        0.75737584,  0.76571983,  0.77395531,  0.78210158,  0.79010716,\n",
       "        0.79807602,  0.80595129,  0.81373491,  0.82150099,  0.82921279,\n",
       "        0.8367702 ,  0.84430198,  0.85175035,  0.85913221,  0.86644542,\n",
       "        0.87358907,  0.88069726,  0.8877984 ,  0.89482467,  0.90173776,\n",
       "        0.90857353,  0.91533115,  0.92200791,  0.92864145,  0.93515956,\n",
       "        0.9415732 ,  0.94791807,  0.95422735,  0.9601818 ,  0.96597765,\n",
       "        0.97153296,  0.97699631,  0.9823111 ,  0.98753838,  0.99266525,\n",
       "        0.99711337,  1.        ,  1.        ,  1.        ,  1.        ])"
      ]
     },
     "execution_count": 170,
     "metadata": {},
     "output_type": "execute_result"
    }
   ],
   "source": [
    "#look at cutoff point\n",
    "variance_ratio = pca.explained_variance_ratio_.cumsum()\n",
    "variance_ratio\n"
   ]
  },
  {
   "cell_type": "code",
   "execution_count": 171,
   "metadata": {
    "collapsed": false
   },
   "outputs": [
    {
     "data": {
      "image/png": "[encoded data removed]",
      "text/plain": [
       "<matplotlib.figure.Figure at 0x19f65739a58>"
      ]
     },
     "metadata": {},
     "output_type": "display_data"
    }
   ],
   "source": [
    "plt.plot(variance_ratio)\n",
    "plt.show()"
   ]
  },
  {
   "cell_type": "code",
   "execution_count": 172,
   "metadata": {
    "collapsed": false
   },
   "outputs": [
    {
     "data": {
      "text/plain": [
       "array([ 0.95136526,  0.9580477 ,  0.96025566,  0.96209076,  0.9635909 ,\n",
       "        0.9649907 ,  0.96625726,  0.967392  ,  0.96847367,  0.9695319 ,\n",
       "        0.97052797,  0.97147447,  0.97236783,  0.97325061,  0.97408309,\n",
       "        0.97488899,  0.97567131,  0.97643876,  0.97717474,  0.97789215,\n",
       "        0.97858684,  0.97927423,  0.9799294 ,  0.98057198,  0.9812019 ,\n",
       "        0.98181035,  0.98240185,  0.9829878 ,  0.98356846,  0.98413155,\n",
       "        0.98468977,  0.9852387 ,  0.9857709 ,  0.98628493,  0.98679246,\n",
       "        0.98729357,  0.98778798,  0.98826872,  0.98873429,  0.98918768,\n",
       "        0.98963408,  0.99007966,  0.99051253,  0.99092572,  0.99132427,\n",
       "        0.99170736,  0.99208167,  0.99242724,  0.99277182,  0.99311047,\n",
       "        0.99344411,  0.99377167,  0.99407182,  0.9943644 ,  0.99465232,\n",
       "        0.99493073,  0.99519431,  0.99544965,  0.99569957,  0.99594285,\n",
       "        0.99618204,  0.9964151 ,  0.99664395,  0.99686737,  0.99708182,\n",
       "        0.99729423,  0.99749183,  0.99768715,  0.99788055,  0.99806125])"
      ]
     },
     "execution_count": 172,
     "metadata": {},
     "output_type": "execute_result"
    }
   ],
   "source": [
    "# 70 dimensions buys 90% of variance\n",
    "pca = PCA(n_components=70)\n",
    "pca.fit(cdf)\n",
    "variance_ratio = pca.explained_variance_ratio_.cumsum()\n",
    "variance_ratio"
   ]
  },
  {
   "cell_type": "code",
   "execution_count": 173,
   "metadata": {
    "collapsed": false
   },
   "outputs": [
    {
     "data": {
      "image/png": "[encoded data removed]",
      "text/plain": [
       "<matplotlib.figure.Figure at 0x19f01a5fc88>"
      ]
     },
     "metadata": {},
     "output_type": "display_data"
    }
   ],
   "source": [
    "plt.plot(variance_ratio)\n",
    "plt.show()"
   ]
  },
  {
   "cell_type": "code",
   "execution_count": 174,
   "metadata": {
    "collapsed": true
   },
   "outputs": [],
   "source": [
    "cdf_pca=pca.transform(cdf)"
   ]
  },
  {
   "cell_type": "markdown",
   "metadata": {},
   "source": [
    "### k-means clustering"
   ]
  },
  {
   "cell_type": "code",
   "execution_count": 184,
   "metadata": {
    "collapsed": false
   },
   "outputs": [],
   "source": [
    "from scipy.cluster.vq import kmeans,vq\n",
    "centroids,_ = kmeans(cdf_pca,10)\n",
    "idx,_ = vq(cdf_pca,centroids)"
   ]
  },
  {
   "cell_type": "code",
   "execution_count": 185,
   "metadata": {
    "collapsed": false
   },
   "outputs": [
    {
     "data": {
      "text/plain": [
       "array([1, 2, 6, ..., 7, 0, 4])"
      ]
     },
     "execution_count": 185,
     "metadata": {},
     "output_type": "execute_result"
    }
   ],
   "source": [
    "idx"
   ]
  },
  {
   "cell_type": "code",
   "execution_count": 186,
   "metadata": {
    "collapsed": false
   },
   "outputs": [
    {
     "data": {
      "text/plain": [
       "4    2666\n",
       "2    2420\n",
       "5    1964\n",
       "3    1844\n",
       "1    1808\n",
       "7    1796\n",
       "0    1567\n",
       "6    1494\n",
       "9    1395\n",
       "8      46\n",
       "dtype: int64"
      ]
     },
     "execution_count": 186,
     "metadata": {},
     "output_type": "execute_result"
    }
   ],
   "source": [
    "pd.Series(idx).value_counts()"
   ]
  },
  {
   "cell_type": "code",
   "execution_count": 188,
   "metadata": {
    "collapsed": false
   },
   "outputs": [],
   "source": [
    "#fit a 1 vs All decision tree on one of the clusters\n",
    "from sklearn import tree\n",
    "\n",
    "#pick a cluster\n",
    "cluster_id = 9\n",
    "\n",
    "# one vs all\n",
    "label = (idx == cluster_id) * 2 - 1\n",
    "\n",
    "clf = tree.DecisionTreeClassifier()\n",
    "\n",
    "# fit to the orignal dataset for easier interpretation ?\n",
    "clf = clf.fit(cdf, label)\n"
   ]
  },
  {
   "cell_type": "code",
   "execution_count": 189,
   "metadata": {
    "collapsed": false
   },
   "outputs": [
    {
     "data": {
      "image/png": "[encoded data removed]",
      "text/plain": [
       "<IPython.core.display.Image object>"
      ]
     },
     "execution_count": 189,
     "metadata": {},
     "output_type": "execute_result"
    }
   ],
   "source": [
    "from IPython.display import Image  \n",
    "import pydotplus\n",
    "\n",
    "dot_data = tree.export_graphviz(clf, out_file=None, \n",
    "                         feature_names=cdf.columns,  \n",
    "                         class_names= True,  \n",
    "                         filled=True, rounded=True,  \n",
    "                         special_characters=True)  \n",
    "graph = pydotplus.graph_from_dot_data(dot_data)  \n",
    "Image(graph.create_png()) "
   ]
  },
  {
   "cell_type": "code",
   "execution_count": 194,
   "metadata": {
    "collapsed": false
   },
   "outputs": [],
   "source": [
    "#fit a ALL vs All decision tree on one of the clusters\n",
    "from sklearn import tree\n",
    "\n",
    "# one vs all\n",
    "label = idx\n",
    "\n",
    "clf = tree.DecisionTreeClassifier()\n",
    "\n",
    "# fit to the orignal dataset for easier interpretation ?\n",
    "clf = clf.fit(cdf, label)"
   ]
  },
  {
   "cell_type": "code",
   "execution_count": 195,
   "metadata": {
    "collapsed": false
   },
   "outputs": [
    {
     "data": {
      "image/png": "[encoded data removed]",
      "text/plain": [
       "<IPython.core.display.Image object>"
      ]
     },
     "execution_count": 195,
     "metadata": {},
     "output_type": "execute_result"
    }
   ],
   "source": [
    "dot_data = tree.export_graphviz(clf, out_file=None, \n",
    "                         feature_names=cdf.columns,  \n",
    "                         class_names= True,  \n",
    "                         filled=True, rounded=True,  \n",
    "                         special_characters=True)  \n",
    "graph = pydotplus.graph_from_dot_data(dot_data)  \n",
    "Image(graph.create_png()) "
   ]
  },
  {
   "cell_type": "markdown",
   "metadata": {},
   "source": [
    "### LDA\n",
    "PCA Vs. LDA\n",
    "\n",
    "Both Linear Discriminant Analysis (LDA) and PCA are linear transformation methods. PCA yields the directions (principal components) that maximize the variance of the data, whereas LDA also aims to find the directions that maximize the separation (or discrimination) between different classes, which can be useful in pattern classification problem (PCA “ignores” class labels). \n",
    "In other words, PCA projects the entire dataset onto a different feature (sub)space, and LDA tries to determine a suitable feature (sub)space in order to distinguish between patterns that belong to different classes.\n",
    "\n",
    "https://www.quora.com/What-is-the-difference-between-LDA-and-PCA-for-dimension-reduction\n"
   ]
  },
  {
   "cell_type": "code",
   "execution_count": null,
   "metadata": {
    "collapsed": true
   },
   "outputs": [],
   "source": []
  },
  {
   "cell_type": "markdown",
   "metadata": {},
   "source": [
    "### MCA\n",
    "\n",
    "Regarding imputation of categorical data, I would suggest to check the mice package. Also take a look at this presentation which explains how it imputes multivariate categorical data. Another package for Mutliple Imputation of Incomplete Multivariate Data is Amelia. Amelia includes some limited capacity to deal with ordinal and nominal variables.\n",
    "\n",
    "As for dimensionality reduction for categorical data (i.e. a way to arrange variables into homogeneous clusters), I would suggest the method of Multiple Correspondence Analysis which will give you the latent variables that maximize the homogeneity of the clusters. Similarly to what is done in Principal Component Analysis (PCA) and Factor Analysis, the MCA solution can also be rotated to increase the components simplicity. The idea behind a rotation is to find subsets of variables which coincide more clearly with the rotated components. This implies that maximizing components simplicity can help in factor interpretation and in variables clustering. In R MCA methods are included in packages ade4, MASS, FactoMineR and ca (at least). As for FactoMineR, you can use it through a graphical interface if you add it as an extra menu to the ones already proposed by the Rcmdr package, installing the RcmdrPlugin.FactoMineRhttp://www.mathcs.duq.edu/~kern/DU/presentation.pdf\n",
    "    "
   ]
  }
 ],
 "metadata": {
  "kernelspec": {
   "display_name": "Python 3",
   "language": "python",
   "name": "python3"
  },
  "language_info": {
   "codemirror_mode": {
    "name": "ipython",
    "version": 3
   },
   "file_extension": ".py",
   "mimetype": "text/x-python",
   "name": "python",
   "nbconvert_exporter": "python",
   "pygments_lexer": "ipython3",
   "version": "3.6.0"
  }
 },
 "nbformat": 4,
 "nbformat_minor": 2
}
